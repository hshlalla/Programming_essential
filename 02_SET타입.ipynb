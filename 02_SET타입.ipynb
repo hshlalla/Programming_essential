{
  "cells": [
    {
      "cell_type": "markdown",
      "metadata": {
        "id": "view-in-github",
        "colab_type": "text"
      },
      "source": [
        "<a href=\"https://colab.research.google.com/github/hshlalla/python_essential/blob/main/02_SET%ED%83%80%EC%9E%85.ipynb\" target=\"_parent\"><img src=\"https://colab.research.google.com/assets/colab-badge.svg\" alt=\"Open In Colab\"/></a>"
      ]
    },
    {
      "cell_type": "code",
      "execution_count": null,
      "id": "a7216cc9",
      "metadata": {
        "id": "a7216cc9"
      },
      "outputs": [],
      "source": [
        "# 숫자형, 문자형 \n",
        "# 데이터 구조 -> 리스트, 튜플, 딕셔너리 \n",
        "# SET "
      ]
    },
    {
      "cell_type": "code",
      "execution_count": null,
      "id": "56a2bb87",
      "metadata": {
        "id": "56a2bb87",
        "outputId": "b99e2edf-db02-4d28-f349-e8e06b38e729"
      },
      "outputs": [
        {
          "data": {
            "text/plain": [
              "{1, 2, 3}"
            ]
          },
          "execution_count": 3,
          "metadata": {},
          "output_type": "execute_result"
        }
      ],
      "source": [
        "# 생성은 \n",
        "a = {1,2,3}; a"
      ]
    },
    {
      "cell_type": "code",
      "execution_count": null,
      "id": "927ddea0",
      "metadata": {
        "id": "927ddea0",
        "outputId": "a4236e98-acdd-4b3e-d8fe-f5249ab7107b"
      },
      "outputs": [
        {
          "data": {
            "text/plain": [
              "set"
            ]
          },
          "execution_count": 4,
          "metadata": {},
          "output_type": "execute_result"
        }
      ],
      "source": [
        "type(a)"
      ]
    },
    {
      "cell_type": "code",
      "execution_count": null,
      "id": "0f2bd0b3",
      "metadata": {
        "id": "0f2bd0b3",
        "outputId": "34a22dd8-1333-4d73-9870-8e663d7552b5"
      },
      "outputs": [
        {
          "data": {
            "text/plain": [
              "{1, 2, 3, 4, 5}"
            ]
          },
          "execution_count": 5,
          "metadata": {},
          "output_type": "execute_result"
        }
      ],
      "source": [
        "b = {1,2,3,3,4,5,3}\n",
        "b"
      ]
    },
    {
      "cell_type": "code",
      "execution_count": null,
      "id": "d98ea246",
      "metadata": {
        "id": "d98ea246",
        "outputId": "e7daaa6f-d987-47dd-bd5c-3f37d1b71c37"
      },
      "outputs": [
        {
          "data": {
            "text/plain": [
              "[1, 2, 3, 3, 4, 5, 4, 5, 6]"
            ]
          },
          "execution_count": 6,
          "metadata": {},
          "output_type": "execute_result"
        }
      ],
      "source": [
        "a1 = [1,2,3,3,4,5,4,5,6];a1"
      ]
    },
    {
      "cell_type": "code",
      "execution_count": null,
      "id": "56abe6bb",
      "metadata": {
        "id": "56abe6bb",
        "outputId": "4b7b5c6b-3360-433c-e16a-8a5ed1cfbe57"
      },
      "outputs": [
        {
          "data": {
            "text/plain": [
              "{1, 2, 3, 4, 5, 6}"
            ]
          },
          "execution_count": 7,
          "metadata": {},
          "output_type": "execute_result"
        }
      ],
      "source": [
        "set(a1)"
      ]
    },
    {
      "cell_type": "code",
      "execution_count": null,
      "id": "c85ae8a6",
      "metadata": {
        "id": "c85ae8a6",
        "outputId": "240635cd-502a-47e0-b9a9-369ceb30ec91"
      },
      "outputs": [
        {
          "data": {
            "text/plain": [
              "[1, 2, 3, 4, 5, 6]"
            ]
          },
          "execution_count": 8,
          "metadata": {},
          "output_type": "execute_result"
        }
      ],
      "source": [
        "list(set(a1))"
      ]
    },
    {
      "cell_type": "code",
      "execution_count": null,
      "id": "7ff633a9",
      "metadata": {
        "id": "7ff633a9",
        "outputId": "c0e758e9-2bc8-4243-9478-36be2e23d69f"
      },
      "outputs": [
        {
          "ename": "TypeError",
          "evalue": "'set' object is not subscriptable",
          "output_type": "error",
          "traceback": [
            "\u001b[1;31m---------------------------------------------------------------------------\u001b[0m",
            "\u001b[1;31mTypeError\u001b[0m                                 Traceback (most recent call last)",
            "\u001b[1;32m<ipython-input-10-54af0eb47770>\u001b[0m in \u001b[0;36m<module>\u001b[1;34m\u001b[0m\n\u001b[1;32m----> 1\u001b[1;33m \u001b[0mb\u001b[0m\u001b[1;33m[\u001b[0m\u001b[1;36m0\u001b[0m\u001b[1;33m]\u001b[0m\u001b[1;33m\u001b[0m\u001b[1;33m\u001b[0m\u001b[0m\n\u001b[0m",
            "\u001b[1;31mTypeError\u001b[0m: 'set' object is not subscriptable"
          ]
        }
      ],
      "source": [
        "b[0]"
      ]
    },
    {
      "cell_type": "code",
      "execution_count": null,
      "id": "c6d587af",
      "metadata": {
        "id": "c6d587af"
      },
      "outputs": [],
      "source": [
        "set1 = {\"a\",\"b\",\"c\",\"d\"}\n",
        "set2 = {1,7,3,5,2}\n",
        "set3 = {True, False}\n",
        "set4 = {\"a\",34,True,50,\"male\"}"
      ]
    },
    {
      "cell_type": "code",
      "execution_count": null,
      "id": "37cbc424",
      "metadata": {
        "id": "37cbc424"
      },
      "outputs": [],
      "source": [
        "set_a = {1,2,3,4,5}\n",
        "set_b = {4,5,6,7,8,9,10}"
      ]
    },
    {
      "cell_type": "code",
      "execution_count": null,
      "id": "07953d93",
      "metadata": {
        "id": "07953d93",
        "outputId": "d6a15927-21d9-4a2a-a086-e1351db0ac50"
      },
      "outputs": [
        {
          "data": {
            "text/plain": [
              "{4, 5}"
            ]
          },
          "execution_count": 14,
          "metadata": {},
          "output_type": "execute_result"
        }
      ],
      "source": [
        "set_a.intersection(set_b)"
      ]
    },
    {
      "cell_type": "code",
      "execution_count": null,
      "id": "1a79ca76",
      "metadata": {
        "id": "1a79ca76",
        "outputId": "f2826c3a-8cc6-4e05-b487-a966e71b5a98"
      },
      "outputs": [
        {
          "data": {
            "text/plain": [
              "{4, 5}"
            ]
          },
          "execution_count": 16,
          "metadata": {},
          "output_type": "execute_result"
        }
      ],
      "source": [
        "set_a & set_b"
      ]
    },
    {
      "cell_type": "code",
      "execution_count": null,
      "id": "4b1ca3ec",
      "metadata": {
        "id": "4b1ca3ec",
        "outputId": "5135432d-01fb-4def-d64f-12c7c0a9bc89"
      },
      "outputs": [
        {
          "data": {
            "text/plain": [
              "{1, 2, 3, 4, 5, 6, 7, 8, 9, 10}"
            ]
          },
          "execution_count": 15,
          "metadata": {},
          "output_type": "execute_result"
        }
      ],
      "source": [
        "set_a.union(set_b)"
      ]
    },
    {
      "cell_type": "code",
      "execution_count": null,
      "id": "d7a8f149",
      "metadata": {
        "id": "d7a8f149",
        "outputId": "b00692ed-ce4e-42f6-b89f-6e8f587b7846"
      },
      "outputs": [
        {
          "data": {
            "text/plain": [
              "{1, 2, 3, 4, 5, 6, 7, 8, 9, 10}"
            ]
          },
          "execution_count": 17,
          "metadata": {},
          "output_type": "execute_result"
        }
      ],
      "source": [
        "set_a | set_b"
      ]
    },
    {
      "cell_type": "code",
      "execution_count": null,
      "id": "e2b35c1e",
      "metadata": {
        "id": "e2b35c1e",
        "outputId": "97fa09f5-6fa5-441d-ef78-7b8ee0ec4b88"
      },
      "outputs": [
        {
          "data": {
            "text/plain": [
              "{1, 2, 3}"
            ]
          },
          "execution_count": 18,
          "metadata": {},
          "output_type": "execute_result"
        }
      ],
      "source": [
        "set_a.difference(set_b)"
      ]
    },
    {
      "cell_type": "code",
      "execution_count": null,
      "id": "1bdd65c7",
      "metadata": {
        "id": "1bdd65c7",
        "outputId": "f39e9783-917a-4282-ab31-7623c87238e7"
      },
      "outputs": [
        {
          "data": {
            "text/plain": [
              "{6, 7, 8, 9, 10}"
            ]
          },
          "execution_count": 19,
          "metadata": {},
          "output_type": "execute_result"
        }
      ],
      "source": [
        "set_b.difference(set_a)"
      ]
    },
    {
      "cell_type": "code",
      "execution_count": null,
      "id": "285f8289",
      "metadata": {
        "id": "285f8289",
        "outputId": "c05dcb01-b26e-466f-a8f4-8ef1c2e8b52a"
      },
      "outputs": [
        {
          "data": {
            "text/plain": [
              "{1, 2, 3}"
            ]
          },
          "execution_count": 20,
          "metadata": {},
          "output_type": "execute_result"
        }
      ],
      "source": [
        "set_a - set_b"
      ]
    },
    {
      "cell_type": "code",
      "execution_count": null,
      "id": "ecf380e4",
      "metadata": {
        "id": "ecf380e4",
        "outputId": "20273b1a-2cf3-4874-e54c-fc818861894a"
      },
      "outputs": [
        {
          "name": "stdout",
          "output_type": "stream",
          "text": [
            "1 =  {1, 2, 3, 4, 5}\n",
            "x =  1\n",
            "2 =  {2, 3, 4, 5}\n"
          ]
        }
      ],
      "source": [
        "print(\"1 = \", set_a)\n",
        "x = set_a.pop()\n",
        "print(\"x = \", x)\n",
        "print(\"2 = \", set_a)"
      ]
    },
    {
      "cell_type": "code",
      "execution_count": null,
      "id": "b39b763d",
      "metadata": {
        "id": "b39b763d",
        "outputId": "8195a2d1-cbe6-42d8-d52c-e118bfb2ad30"
      },
      "outputs": [
        {
          "name": "stdout",
          "output_type": "stream",
          "text": [
            "1 =  {2, 3, 4, 5}\n",
            "x =  2\n",
            "2 =  {3, 4, 5}\n"
          ]
        }
      ],
      "source": [
        "print(\"1 = \", set_a)\n",
        "x = set_a.pop()\n",
        "print(\"x = \", x)\n",
        "print(\"2 = \", set_a)"
      ]
    },
    {
      "cell_type": "code",
      "execution_count": null,
      "id": "300ed769",
      "metadata": {
        "id": "300ed769",
        "outputId": "465f99ae-09e5-42cc-c907-6b5979d6050c"
      },
      "outputs": [
        {
          "name": "stdout",
          "output_type": "stream",
          "text": [
            "1 =  {3, 4, 5}\n",
            "x =  3\n",
            "2 =  {4, 5}\n"
          ]
        }
      ],
      "source": [
        "print(\"1 = \", set_a)\n",
        "x = set_a.pop()\n",
        "print(\"x = \", x)\n",
        "print(\"2 = \", set_a)"
      ]
    },
    {
      "cell_type": "code",
      "execution_count": null,
      "id": "80341d7d",
      "metadata": {
        "id": "80341d7d",
        "outputId": "4bf63eb8-c5b1-44df-cb2d-db9313a19715"
      },
      "outputs": [
        {
          "name": "stdout",
          "output_type": "stream",
          "text": [
            "1 =  {4, 5}\n",
            "x =  4\n",
            "2 =  {5}\n"
          ]
        }
      ],
      "source": [
        "print(\"1 = \", set_a)\n",
        "x = set_a.pop()\n",
        "print(\"x = \", x)\n",
        "print(\"2 = \", set_a)"
      ]
    },
    {
      "cell_type": "code",
      "execution_count": null,
      "id": "0df2cadd",
      "metadata": {
        "id": "0df2cadd",
        "outputId": "e6c59148-2f4d-4e1a-8bf1-cd5adbba55b1"
      },
      "outputs": [
        {
          "name": "stdout",
          "output_type": "stream",
          "text": [
            "1 =  {5}\n",
            "x =  5\n",
            "2 =  set()\n"
          ]
        }
      ],
      "source": [
        "print(\"1 = \", set_a)\n",
        "x = set_a.pop()\n",
        "print(\"x = \", x)\n",
        "print(\"2 = \", set_a)"
      ]
    },
    {
      "cell_type": "code",
      "execution_count": null,
      "id": "8ff3699d",
      "metadata": {
        "id": "8ff3699d",
        "outputId": "ce7583a2-c176-4d4a-bc3d-c160f73a6a87"
      },
      "outputs": [
        {
          "name": "stdout",
          "output_type": "stream",
          "text": [
            "1 =  set()\n"
          ]
        },
        {
          "ename": "KeyError",
          "evalue": "'pop from an empty set'",
          "output_type": "error",
          "traceback": [
            "\u001b[1;31m---------------------------------------------------------------------------\u001b[0m",
            "\u001b[1;31mKeyError\u001b[0m                                  Traceback (most recent call last)",
            "\u001b[1;32m<ipython-input-27-9358b0dc1446>\u001b[0m in \u001b[0;36m<module>\u001b[1;34m\u001b[0m\n\u001b[0;32m      1\u001b[0m \u001b[0mprint\u001b[0m\u001b[1;33m(\u001b[0m\u001b[1;34m\"1 = \"\u001b[0m\u001b[1;33m,\u001b[0m \u001b[0mset_a\u001b[0m\u001b[1;33m)\u001b[0m\u001b[1;33m\u001b[0m\u001b[1;33m\u001b[0m\u001b[0m\n\u001b[1;32m----> 2\u001b[1;33m \u001b[0mx\u001b[0m \u001b[1;33m=\u001b[0m \u001b[0mset_a\u001b[0m\u001b[1;33m.\u001b[0m\u001b[0mpop\u001b[0m\u001b[1;33m(\u001b[0m\u001b[1;33m)\u001b[0m\u001b[1;33m\u001b[0m\u001b[1;33m\u001b[0m\u001b[0m\n\u001b[0m\u001b[0;32m      3\u001b[0m \u001b[0mprint\u001b[0m\u001b[1;33m(\u001b[0m\u001b[1;34m\"x = \"\u001b[0m\u001b[1;33m,\u001b[0m \u001b[0mx\u001b[0m\u001b[1;33m)\u001b[0m\u001b[1;33m\u001b[0m\u001b[1;33m\u001b[0m\u001b[0m\n\u001b[0;32m      4\u001b[0m \u001b[0mprint\u001b[0m\u001b[1;33m(\u001b[0m\u001b[1;34m\"2 = \"\u001b[0m\u001b[1;33m,\u001b[0m \u001b[0mset_a\u001b[0m\u001b[1;33m)\u001b[0m\u001b[1;33m\u001b[0m\u001b[1;33m\u001b[0m\u001b[0m\n",
            "\u001b[1;31mKeyError\u001b[0m: 'pop from an empty set'"
          ]
        }
      ],
      "source": [
        "print(\"1 = \", set_a)\n",
        "x = set_a.pop()\n",
        "print(\"x = \", x)\n",
        "print(\"2 = \", set_a)"
      ]
    }
  ],
  "metadata": {
    "kernelspec": {
      "display_name": "Python 3",
      "language": "python",
      "name": "python3"
    },
    "language_info": {
      "codemirror_mode": {
        "name": "ipython",
        "version": 3
      },
      "file_extension": ".py",
      "mimetype": "text/x-python",
      "name": "python",
      "nbconvert_exporter": "python",
      "pygments_lexer": "ipython3",
      "version": "3.8.8"
    },
    "colab": {
      "provenance": [],
      "include_colab_link": true
    }
  },
  "nbformat": 4,
  "nbformat_minor": 5
}