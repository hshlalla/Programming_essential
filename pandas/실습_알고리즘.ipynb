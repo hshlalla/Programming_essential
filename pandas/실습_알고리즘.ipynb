{
 "cells": [
  {
   "cell_type": "markdown",
   "id": "d16f0a9b",
   "metadata": {},
   "source": [
    "### 실습 sort 알고리즘 만들어보기\n",
    "\n",
    "1.input -> [2,4,5,1,3]\n",
    "\n",
    "2.output ->[1,2,3,4,5]\n",
    "\n",
    "3.sort algorithm\n",
    "\n",
    "4.for,if 문으로 해결 (sort관련 함수 사용불가)"
   ]
  },
  {
   "cell_type": "code",
   "execution_count": 52,
   "id": "5082707a",
   "metadata": {},
   "outputs": [],
   "source": [
    "x=[2,4,5,1,3]"
   ]
  },
  {
   "cell_type": "code",
   "execution_count": 56,
   "id": "8ca7d43c",
   "metadata": {},
   "outputs": [
    {
     "data": {
      "text/plain": [
       "range(1, 5)"
      ]
     },
     "execution_count": 56,
     "metadata": {},
     "output_type": "execute_result"
    }
   ],
   "source": [
    "range(1,5)"
   ]
  },
  {
   "cell_type": "code",
   "execution_count": 18,
   "id": "9f524dfe",
   "metadata": {},
   "outputs": [
    {
     "name": "stdout",
     "output_type": "stream",
     "text": [
      "x=  0\n",
      "y = 2, j=4\n",
      "y = 2, j=5\n",
      "y = 2, j=1\n",
      "y = 2, j=3\n",
      "x=  [1, 4, 5, 2, 3]\n",
      "--------------------\n",
      "x=  1\n",
      "y = 4, j=5\n",
      "y = 4, j=2\n",
      "y = 4, j=3\n",
      "x=  [1, 2, 5, 4, 3]\n",
      "--------------------\n",
      "x=  2\n",
      "y = 5, j=4\n",
      "y = 5, j=3\n",
      "x=  [1, 2, 3, 4, 5]\n",
      "--------------------\n",
      "x=  3\n",
      "y = 4, j=5\n",
      "x=  [1, 2, 3, 4, 5]\n",
      "--------------------\n"
     ]
    }
   ],
   "source": [
    "z=[]\n",
    "for y in range(len(x)-1):\n",
    "        print(\"x= \" ,y)\n",
    "        min_idx = y\n",
    "        for j in range(y+1,len(x)):\n",
    "            print(\"y = {}, j={}\".format(x[y],x[j]))\n",
    "            if x[j]<x[min_idx]:\n",
    "                min_idx = j\n",
    "        x[y],x[min_idx] = x[min_idx],x[y]\n",
    "        print(\"x= \",x)\n",
    "        print(\"-\"*20)\n",
    "        "
   ]
  },
  {
   "cell_type": "code",
   "execution_count": 19,
   "id": "67fb5b45",
   "metadata": {},
   "outputs": [],
   "source": [
    "a=[2,4,5,1,3]\n",
    "\n",
    "for i in range(0, len(a)-1):\n",
    "    min_idx=i\n",
    "    for j in range(i+1, len(a)):\n",
    "        if a[j]<a[min_idx]:\n",
    "            min_idx = j\n",
    "    a[i],a[min_idx]=a[min_idx], a[i]"
   ]
  },
  {
   "cell_type": "code",
   "execution_count": null,
   "id": "dd01c1e8",
   "metadata": {},
   "outputs": [],
   "source": []
  },
  {
   "cell_type": "code",
   "execution_count": 25,
   "id": "396a0d8f",
   "metadata": {},
   "outputs": [],
   "source": [
    "def sel_sort(s):\n",
    "    for i in range(0, len(a)-1):\n",
    "        min_idx=i\n",
    "        for j in range(i+1, len(a)):\n",
    "            if a[j]<a[min_idx]:\n",
    "                min_idx = j\n",
    "        a[i],a[min_idx]=a[min_idx], a[i]\n",
    "    print(\"sort result = \",a)\n",
    "    return a"
   ]
  },
  {
   "cell_type": "code",
   "execution_count": 27,
   "id": "e471d9ea",
   "metadata": {},
   "outputs": [
    {
     "name": "stdout",
     "output_type": "stream",
     "text": [
      "sort result =  [1, 2, 4, 4, 6, 7, 8, 9]\n"
     ]
    },
    {
     "data": {
      "text/plain": [
       "[1, 2, 4, 4, 6, 7, 8, 9]"
      ]
     },
     "execution_count": 27,
     "metadata": {},
     "output_type": "execute_result"
    }
   ],
   "source": [
    "a=[9,4,6,4,7,1,8,2]\n",
    "sel_sort(a)"
   ]
  },
  {
   "cell_type": "code",
   "execution_count": 30,
   "id": "411f8e5a",
   "metadata": {},
   "outputs": [
    {
     "name": "stdout",
     "output_type": "stream",
     "text": [
      "sort result =  [1, 2, 4, 4, 6, 7, 8, 9]\n",
      "sort 후=  [1, 2, 4, 4, 6, 7, 8, 9]\n"
     ]
    }
   ],
   "source": [
    "b=sel_sort(a)\n",
    "print(\"sort 후= \",b)\n"
   ]
  },
  {
   "cell_type": "markdown",
   "id": "36eb06c7",
   "metadata": {},
   "source": [
    "## (실습 입력값을 임의의 숫자로 구성)\n",
    "\n",
    "1.np.random.choice"
   ]
  },
  {
   "cell_type": "code",
   "execution_count": 35,
   "id": "ff8ab0ac",
   "metadata": {},
   "outputs": [
    {
     "data": {
      "text/plain": [
       "array([4, 3, 0, 1])"
      ]
     },
     "execution_count": 35,
     "metadata": {},
     "output_type": "execute_result"
    }
   ],
   "source": [
    "import numpy as np\n",
    "np.random.choice(5,4)"
   ]
  },
  {
   "cell_type": "code",
   "execution_count": 37,
   "id": "5d2592f9",
   "metadata": {},
   "outputs": [
    {
     "data": {
      "text/plain": [
       "array([1, 5, 9, 6, 8])"
      ]
     },
     "execution_count": 37,
     "metadata": {},
     "output_type": "execute_result"
    }
   ],
   "source": [
    "np.random.choice(10,5, replace=False)# 비복원 추출"
   ]
  },
  {
   "cell_type": "code",
   "execution_count": 38,
   "id": "e9d03f6d",
   "metadata": {},
   "outputs": [
    {
     "name": "stdout",
     "output_type": "stream",
     "text": [
      "sort result =  [1, 2, 4, 4, 6, 7, 8, 9]\n"
     ]
    },
    {
     "data": {
      "text/plain": [
       "[1, 2, 4, 4, 6, 7, 8, 9]"
      ]
     },
     "execution_count": 38,
     "metadata": {},
     "output_type": "execute_result"
    }
   ],
   "source": [
    "x=np.random.choice(10,5, replace=False)\n",
    "sel_sort(x)"
   ]
  },
  {
   "cell_type": "code",
   "execution_count": 41,
   "id": "05d54e62",
   "metadata": {},
   "outputs": [
    {
     "data": {
      "text/plain": [
       "array([1, 3, 2])"
      ]
     },
     "execution_count": 41,
     "metadata": {},
     "output_type": "execute_result"
    }
   ],
   "source": [
    "np.random.choice(4,3,replace=False,p=[0.2,0.2,0.3,0.3])"
   ]
  },
  {
   "cell_type": "code",
   "execution_count": 44,
   "id": "08176d3d",
   "metadata": {},
   "outputs": [
    {
     "data": {
      "text/plain": [
       "[7, 6, 4, 8, 1, 2, 4, 9]"
      ]
     },
     "execution_count": 44,
     "metadata": {},
     "output_type": "execute_result"
    }
   ],
   "source": [
    "np.random.shuffle(a);a"
   ]
  },
  {
   "cell_type": "code",
   "execution_count": 46,
   "id": "b456c892",
   "metadata": {},
   "outputs": [
    {
     "data": {
      "text/plain": [
       "array([9, 4, 0, 1, 9])"
      ]
     },
     "execution_count": 46,
     "metadata": {},
     "output_type": "execute_result"
    }
   ],
   "source": [
    "np.random.seed(10)\n",
    "np.random.randint(10, size=5)"
   ]
  },
  {
   "cell_type": "code",
   "execution_count": 47,
   "id": "594c53d7",
   "metadata": {},
   "outputs": [],
   "source": [
    "def bubble_sort(a):\n",
    "    n=len(a)\n",
    "    while True:\n",
    "        changed = False\n",
    "        \n",
    "        for i in range(0,n-1):\n",
    "            if a[i] > a[i+1]:\n",
    "                print(a)\n",
    "                a[i],a[i+1]=a[i+1],a[i]\n",
    "                changed =true\n",
    "            \n",
    "        if changed == False:\n",
    "            return   \n",
    "        "
   ]
  },
  {
   "cell_type": "code",
   "execution_count": 48,
   "id": "5d224cb7",
   "metadata": {},
   "outputs": [
    {
     "name": "stdout",
     "output_type": "stream",
     "text": [
      "sort result =  [1, 2, 4, 4, 6, 7, 8, 9]\n"
     ]
    },
    {
     "data": {
      "text/plain": [
       "[1, 2, 4, 4, 6, 7, 8, 9]"
      ]
     },
     "execution_count": 48,
     "metadata": {},
     "output_type": "execute_result"
    }
   ],
   "source": [
    "x=np.random.choice(10,5, replace=False)\n",
    "sel_sort(x)"
   ]
  },
  {
   "cell_type": "code",
   "execution_count": null,
   "id": "f3af3c4d",
   "metadata": {},
   "outputs": [],
   "source": []
  }
 ],
 "metadata": {
  "kernelspec": {
   "display_name": "Python 3",
   "language": "python",
   "name": "python3"
  },
  "language_info": {
   "codemirror_mode": {
    "name": "ipython",
    "version": 3
   },
   "file_extension": ".py",
   "mimetype": "text/x-python",
   "name": "python",
   "nbconvert_exporter": "python",
   "pygments_lexer": "ipython3",
   "version": "3.8.8"
  }
 },
 "nbformat": 4,
 "nbformat_minor": 5
}
