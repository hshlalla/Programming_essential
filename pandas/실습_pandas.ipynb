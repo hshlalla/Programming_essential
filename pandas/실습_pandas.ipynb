{
 "nbformat": 4,
 "nbformat_minor": 0,
 "metadata": {
  "kernelspec": {
   "display_name": "Python 3",
   "language": "python",
   "name": "python3"
  },
  "language_info": {
   "codemirror_mode": {
    "name": "ipython",
    "version": 3
   },
   "file_extension": ".py",
   "mimetype": "text/x-python",
   "name": "python",
   "nbconvert_exporter": "python",
   "pygments_lexer": "ipython3",
   "version": "3.8.5"
  },
  "colab": {
   "name": "210730_pandas_실습.ipynb",
   "provenance": [],
   "collapsed_sections": []
  }
 },
 "cells": [
  {
   "cell_type": "code",
   "metadata": {
    "id": "2k0OAf6dI8KU",
    "executionInfo": {
     "status": "ok",
     "timestamp": 1631179535513,
     "user_tz": -540,
     "elapsed": 279,
     "user": {
      "displayName": "하이다비",
      "photoUrl": "https://lh3.googleusercontent.com/a/default-user=s64",
      "userId": "07224346109532620542"
     }
    }
   },
   "source": [
    "import pandas as pd\n",
    "import numpy as np"
   ],
   "execution_count": 2,
   "outputs": []
  },
  {
   "cell_type": "code",
   "metadata": {
    "colab": {
     "base_uri": "https://localhost:8080/",
     "height": 142
    },
    "id": "5IBnB-XQI8KZ",
    "executionInfo": {
     "status": "ok",
     "timestamp": 1631179536945,
     "user_tz": -540,
     "elapsed": 284,
     "user": {
      "displayName": "하이다비",
      "photoUrl": "https://lh3.googleusercontent.com/a/default-user=s64",
      "userId": "07224346109532620542"
     }
    },
    "outputId": "3a1d6c82-99bc-4efc-f71c-1df89132956f"
   },
   "source": [
    "#나라별 수도 및 인구\n",
    "country_df=pd.DataFrame({\"0\":[\"벨기에\",\"브뤼셀\",\"1천만명\"],\"1\":[\"인도\",\"뉴델리\",\"13억명\"],\"2\":[\"브라질\",\"브라질리아\",\"2억명\"]})\n",
    "country_df"
   ],
   "execution_count": 3,
   "outputs": [
    {
     "output_type": "execute_result",
     "data": {
      "text/html": [
       "<div>\n",
       "<style scoped>\n",
       "    .dataframe tbody tr th:only-of-type {\n",
       "        vertical-align: middle;\n",
       "    }\n",
       "\n",
       "    .dataframe tbody tr th {\n",
       "        vertical-align: top;\n",
       "    }\n",
       "\n",
       "    .dataframe thead th {\n",
       "        text-align: right;\n",
       "    }\n",
       "</style>\n",
       "<table border=\"1\" class=\"dataframe\">\n",
       "  <thead>\n",
       "    <tr style=\"text-align: right;\">\n",
       "      <th></th>\n",
       "      <th>0</th>\n",
       "      <th>1</th>\n",
       "      <th>2</th>\n",
       "    </tr>\n",
       "  </thead>\n",
       "  <tbody>\n",
       "    <tr>\n",
       "      <th>0</th>\n",
       "      <td>벨기에</td>\n",
       "      <td>인도</td>\n",
       "      <td>브라질</td>\n",
       "    </tr>\n",
       "    <tr>\n",
       "      <th>1</th>\n",
       "      <td>브뤼셀</td>\n",
       "      <td>뉴델리</td>\n",
       "      <td>브라질리아</td>\n",
       "    </tr>\n",
       "    <tr>\n",
       "      <th>2</th>\n",
       "      <td>1천만명</td>\n",
       "      <td>13억명</td>\n",
       "      <td>2억명</td>\n",
       "    </tr>\n",
       "  </tbody>\n",
       "</table>\n",
       "</div>"
      ],
      "text/plain": [
       "      0     1      2\n",
       "0   벨기에    인도    브라질\n",
       "1   브뤼셀   뉴델리  브라질리아\n",
       "2  1천만명  13억명    2억명"
      ]
     },
     "metadata": {},
     "execution_count": 3
    }
   ]
  },
  {
   "cell_type": "code",
   "metadata": {
    "colab": {
     "base_uri": "https://localhost:8080/",
     "height": 34
    },
    "id": "R2guozl-4Jqh",
    "executionInfo": {
     "status": "ok",
     "timestamp": 1631179576281,
     "user_tz": -540,
     "elapsed": 259,
     "user": {
      "displayName": "하이다비",
      "photoUrl": "https://lh3.googleusercontent.com/a/default-user=s64",
      "userId": "07224346109532620542"
     }
    },
    "outputId": "a3b5383b-2632-4722-d8cf-c734c9720cab"
   },
   "source": [
    "country_df"
   ],
   "execution_count": 8,
   "outputs": [
    {
     "output_type": "execute_result",
     "data": {
      "application/vnd.google.colaboratory.intrinsic+json": {
       "type": "string"
      },
      "text/plain": [
       "'13억명'"
      ]
     },
     "metadata": {},
     "execution_count": 8
    }
   ]
  },
  {
   "cell_type": "markdown",
   "metadata": {
    "id": "YL4vAzdGJoCu"
   },
   "source": [
    "13억 명을 출력하시오"
   ]
  },
  {
   "cell_type": "code",
   "metadata": {
    "colab": {
     "base_uri": "https://localhost:8080/",
     "height": 34
    },
    "id": "fgj3dRf9JsMS",
    "executionInfo": {
     "status": "ok",
     "timestamp": 1631179541936,
     "user_tz": -540,
     "elapsed": 252,
     "user": {
      "displayName": "하이다비",
      "photoUrl": "https://lh3.googleusercontent.com/a/default-user=s64",
      "userId": "07224346109532620542"
     }
    },
    "outputId": "4bac444b-352f-4ac2-e3a0-e78cd731f260"
   },
   "source": [
    "country_df.loc[2][1]"
   ],
   "execution_count": 4,
   "outputs": [
    {
     "output_type": "execute_result",
     "data": {
      "application/vnd.google.colaboratory.intrinsic+json": {
       "type": "string"
      },
      "text/plain": [
       "'13억명'"
      ]
     },
     "metadata": {},
     "execution_count": 4
    }
   ]
  },
  {
   "cell_type": "code",
   "metadata": {
    "id": "z_7eRm2IKPbm",
    "executionInfo": {
     "status": "ok",
     "timestamp": 1631180313411,
     "user_tz": -540,
     "elapsed": 263,
     "user": {
      "displayName": "하이다비",
      "photoUrl": "https://lh3.googleusercontent.com/a/default-user=s64",
      "userId": "07224346109532620542"
     }
    }
   },
   "source": [
    "country_df[\"1\"][2] = \"14억명\""
   ],
   "execution_count": 9,
   "outputs": []
  },
  {
   "cell_type": "code",
   "metadata": {
    "id": "ewwQ6aAnKbLQ"
   },
   "source": [],
   "execution_count": null,
   "outputs": []
  },
  {
   "cell_type": "code",
   "metadata": {
    "colab": {
     "base_uri": "https://localhost:8080/",
     "height": 221
    },
    "id": "R5hxP7TKI8Kb",
    "executionInfo": {
     "status": "error",
     "timestamp": 1631179530665,
     "user_tz": -540,
     "elapsed": 299,
     "user": {
      "displayName": "하이다비",
      "photoUrl": "https://lh3.googleusercontent.com/a/default-user=s64",
      "userId": "07224346109532620542"
     }
    },
    "outputId": "10617fe2-b7bd-407d-c83f-5bb8d9610590"
   },
   "source": [
    "dic_data = {\"country\":[\"벨기에\",\"인도\",\"브라질\"],\n",
    "            \"capital\":[\"브뤼셀\",\"뉴델리\",\"브라질리아\"],\n",
    "            \"population\":[\"1천만명\",\"13억명\",\"2억명\"]}\n",
    "df=pd.DataFrame(dic_data)\n",
    "df"
   ],
   "execution_count": 1,
   "outputs": [
    {
     "output_type": "error",
     "ename": "NameError",
     "evalue": "ignored",
     "traceback": [
      "\u001B[0;31m---------------------------------------------------------------------------\u001B[0m",
      "\u001B[0;31mNameError\u001B[0m                                 Traceback (most recent call last)",
      "\u001B[0;32m<ipython-input-1-334983838ef1>\u001B[0m in \u001B[0;36m<module>\u001B[0;34m()\u001B[0m\n\u001B[1;32m      2\u001B[0m             \u001B[0;34m\"capital\"\u001B[0m\u001B[0;34m:\u001B[0m\u001B[0;34m[\u001B[0m\u001B[0;34m\"브뤼셀\"\u001B[0m\u001B[0;34m,\u001B[0m\u001B[0;34m\"뉴델리\"\u001B[0m\u001B[0;34m,\u001B[0m\u001B[0;34m\"브라질리아\"\u001B[0m\u001B[0;34m]\u001B[0m\u001B[0;34m,\u001B[0m\u001B[0;34m\u001B[0m\u001B[0;34m\u001B[0m\u001B[0m\n\u001B[1;32m      3\u001B[0m             \"population\":[\"1천만명\",\"13억명\",\"2억명\"]}\n\u001B[0;32m----> 4\u001B[0;31m \u001B[0mdf\u001B[0m\u001B[0;34m=\u001B[0m\u001B[0mpd\u001B[0m\u001B[0;34m.\u001B[0m\u001B[0mDataFrame\u001B[0m\u001B[0;34m(\u001B[0m\u001B[0mdic_data\u001B[0m\u001B[0;34m)\u001B[0m\u001B[0;34m\u001B[0m\u001B[0;34m\u001B[0m\u001B[0m\n\u001B[0m\u001B[1;32m      5\u001B[0m \u001B[0mdf\u001B[0m\u001B[0;34m\u001B[0m\u001B[0;34m\u001B[0m\u001B[0m\n",
      "\u001B[0;31mNameError\u001B[0m: name 'pd' is not defined"
     ]
    }
   ]
  },
  {
   "cell_type": "code",
   "metadata": {
    "colab": {
     "base_uri": "https://localhost:8080/",
     "height": 142
    },
    "id": "90JDnO5pI8Kd",
    "executionInfo": {
     "status": "ok",
     "timestamp": 1630513626991,
     "user_tz": -540,
     "elapsed": 280,
     "user": {
      "displayName": "하이다비",
      "photoUrl": "",
      "userId": "07224346109532620542"
     }
    },
    "outputId": "09d664fc-fd60-4efa-a721-acd498043783"
   },
   "source": [
    "df"
   ],
   "execution_count": null,
   "outputs": [
    {
     "output_type": "execute_result",
     "data": {
      "text/html": [
       "<div>\n",
       "<style scoped>\n",
       "    .dataframe tbody tr th:only-of-type {\n",
       "        vertical-align: middle;\n",
       "    }\n",
       "\n",
       "    .dataframe tbody tr th {\n",
       "        vertical-align: top;\n",
       "    }\n",
       "\n",
       "    .dataframe thead th {\n",
       "        text-align: right;\n",
       "    }\n",
       "</style>\n",
       "<table border=\"1\" class=\"dataframe\">\n",
       "  <thead>\n",
       "    <tr style=\"text-align: right;\">\n",
       "      <th></th>\n",
       "      <th>country</th>\n",
       "      <th>capital</th>\n",
       "      <th>population</th>\n",
       "    </tr>\n",
       "  </thead>\n",
       "  <tbody>\n",
       "    <tr>\n",
       "      <th>0</th>\n",
       "      <td>벨기에</td>\n",
       "      <td>브뤼셀</td>\n",
       "      <td>1천만명</td>\n",
       "    </tr>\n",
       "    <tr>\n",
       "      <th>1</th>\n",
       "      <td>인도</td>\n",
       "      <td>뉴델리</td>\n",
       "      <td>13억명</td>\n",
       "    </tr>\n",
       "    <tr>\n",
       "      <th>2</th>\n",
       "      <td>브라질</td>\n",
       "      <td>브라질리아</td>\n",
       "      <td>2억명</td>\n",
       "    </tr>\n",
       "  </tbody>\n",
       "</table>\n",
       "</div>"
      ],
      "text/plain": [
       "  country capital population\n",
       "0     벨기에     브뤼셀       1천만명\n",
       "1      인도     뉴델리       13억명\n",
       "2     브라질   브라질리아        2억명"
      ]
     },
     "metadata": {},
     "execution_count": 34
    }
   ]
  },
  {
   "cell_type": "code",
   "metadata": {
    "colab": {
     "base_uri": "https://localhost:8080/",
     "height": 37
    },
    "id": "HMKmnZZeI8Kd",
    "executionInfo": {
     "status": "ok",
     "timestamp": 1630513627209,
     "user_tz": -540,
     "elapsed": 4,
     "user": {
      "displayName": "하이다비",
      "photoUrl": "",
      "userId": "07224346109532620542"
     }
    },
    "outputId": "15007a19-3e2c-41bb-f315-14b6e779c67b"
   },
   "source": [
    "df.iloc[1,2]"
   ],
   "execution_count": null,
   "outputs": [
    {
     "output_type": "execute_result",
     "data": {
      "application/vnd.google.colaboratory.intrinsic+json": {
       "type": "string"
      },
      "text/plain": [
       "'13억명'"
      ]
     },
     "metadata": {},
     "execution_count": 35
    }
   ]
  },
  {
   "cell_type": "code",
   "metadata": {
    "colab": {
     "base_uri": "https://localhost:8080/",
     "height": 37
    },
    "id": "9ju4J3NjI8Ke",
    "executionInfo": {
     "status": "ok",
     "timestamp": 1630513631155,
     "user_tz": -540,
     "elapsed": 207,
     "user": {
      "displayName": "하이다비",
      "photoUrl": "",
      "userId": "07224346109532620542"
     }
    },
    "outputId": "162d8035-5101-404c-b5c2-c6d41d216667"
   },
   "source": [
    "df.loc[1,\"population\"]"
   ],
   "execution_count": null,
   "outputs": [
    {
     "output_type": "execute_result",
     "data": {
      "application/vnd.google.colaboratory.intrinsic+json": {
       "type": "string"
      },
      "text/plain": [
       "'13억명'"
      ]
     },
     "metadata": {},
     "execution_count": 36
    }
   ]
  },
  {
   "cell_type": "code",
   "metadata": {
    "id": "hOF-U2mkI8Kg",
    "outputId": "9c829f4c-86c3-4749-8c58-3a5a02e70f23"
   },
   "source": [
    "for row in df:\n",
    "    print(\"row = \", row)\n",
    "    "
   ],
   "execution_count": null,
   "outputs": [
    {
     "name": "stdout",
     "output_type": "stream",
     "text": [
      "row =  country\n",
      "row =  capital\n",
      "row =  population\n"
     ]
    }
   ]
  },
  {
   "cell_type": "code",
   "metadata": {
    "id": "tRlfpRObI8Kh",
    "outputId": "1311c8dc-e4f6-40d4-a33a-5477da3b6127"
   },
   "source": [
    "for row in range(0,len(df)):\n",
    "    print(\"row= \" , row)"
   ],
   "execution_count": null,
   "outputs": [
    {
     "name": "stdout",
     "output_type": "stream",
     "text": [
      "row=  0\n",
      "row=  1\n",
      "row=  2\n"
     ]
    }
   ]
  },
  {
   "cell_type": "code",
   "metadata": {
    "id": "Kf_IzscBI8Kh",
    "outputId": "70a30b67-e30b-4589-8433-a59ec3420656"
   },
   "source": [
    "for row in range(0,len(df)):\n",
    "    print(\"1= \",df.iloc[row,0])\n",
    "    print(\"1= \",df.iloc[row,1])\n",
    "    print(\"2= \",df.iloc[row,2])\n",
    "    print(\"-\"*20)"
   ],
   "execution_count": null,
   "outputs": [
    {
     "name": "stdout",
     "output_type": "stream",
     "text": [
      "1=  벨기에\n",
      "1=  브뤼셀\n",
      "2=  1천만명\n",
      "--------------------\n",
      "1=  인도\n",
      "1=  뉴델리\n",
      "2=  13억명\n",
      "--------------------\n",
      "1=  브라질\n",
      "1=  브라질리아\n",
      "2=  2억명\n",
      "--------------------\n"
     ]
    }
   ]
  },
  {
   "cell_type": "code",
   "metadata": {
    "id": "Oo2JNJc4I8Ki",
    "outputId": "2899c23f-f12b-4927-b695-3c8821b95134"
   },
   "source": [
    "df.iloc[1,2] = \"14억명\"\n",
    "df"
   ],
   "execution_count": null,
   "outputs": [
    {
     "data": {
      "text/html": [
       "<div>\n",
       "<style scoped>\n",
       "    .dataframe tbody tr th:only-of-type {\n",
       "        vertical-align: middle;\n",
       "    }\n",
       "\n",
       "    .dataframe tbody tr th {\n",
       "        vertical-align: top;\n",
       "    }\n",
       "\n",
       "    .dataframe thead th {\n",
       "        text-align: right;\n",
       "    }\n",
       "</style>\n",
       "<table border=\"1\" class=\"dataframe\">\n",
       "  <thead>\n",
       "    <tr style=\"text-align: right;\">\n",
       "      <th></th>\n",
       "      <th>country</th>\n",
       "      <th>capital</th>\n",
       "      <th>population</th>\n",
       "    </tr>\n",
       "  </thead>\n",
       "  <tbody>\n",
       "    <tr>\n",
       "      <th>0</th>\n",
       "      <td>벨기에</td>\n",
       "      <td>브뤼셀</td>\n",
       "      <td>1천만명</td>\n",
       "    </tr>\n",
       "    <tr>\n",
       "      <th>1</th>\n",
       "      <td>인도</td>\n",
       "      <td>뉴델리</td>\n",
       "      <td>14억명</td>\n",
       "    </tr>\n",
       "    <tr>\n",
       "      <th>2</th>\n",
       "      <td>브라질</td>\n",
       "      <td>브라질리아</td>\n",
       "      <td>2억명</td>\n",
       "    </tr>\n",
       "  </tbody>\n",
       "</table>\n",
       "</div>"
      ],
      "text/plain": [
       "  country capital population\n",
       "0     벨기에     브뤼셀       1천만명\n",
       "1      인도     뉴델리       14억명\n",
       "2     브라질   브라질리아        2억명"
      ]
     },
     "execution_count": 36,
     "metadata": {},
     "output_type": "execute_result"
    }
   ]
  },
  {
   "cell_type": "code",
   "metadata": {
    "id": "fsuhlOyZI8Kj",
    "outputId": "95949b62-6457-4b86-a1e5-8476f57b5e48"
   },
   "source": [
    "df[\"population\"]"
   ],
   "execution_count": null,
   "outputs": [
    {
     "data": {
      "text/plain": [
       "['1천만명', '13억명', '2억명']"
      ]
     },
     "execution_count": 21,
     "metadata": {},
     "output_type": "execute_result"
    }
   ]
  },
  {
   "cell_type": "markdown",
   "metadata": {
    "id": "b8HsQCnQMFvZ"
   },
   "source": [
    "# 실습 성적처리"
   ]
  },
  {
   "cell_type": "code",
   "metadata": {
    "id": "VALSSYavI8Kk"
   },
   "source": [
    "data = {\"국어\":[76,90,64,70,98],\n",
    "        \"영어\":[65,75,79,82,93],\n",
    "        \"수학\":[80,98,62,84,85]}"
   ],
   "execution_count": null,
   "outputs": []
  },
  {
   "cell_type": "code",
   "metadata": {
    "colab": {
     "base_uri": "https://localhost:8080/",
     "height": 204
    },
    "id": "nk-F75w4I8Km",
    "executionInfo": {
     "status": "ok",
     "timestamp": 1630514111438,
     "user_tz": -540,
     "elapsed": 217,
     "user": {
      "displayName": "하이다비",
      "photoUrl": "",
      "userId": "07224346109532620542"
     }
    },
    "outputId": "debd626d-9207-4e6f-c7ae-3dd6ab9ec8c9"
   },
   "source": [
    "df=pd.DataFrame(data)\n",
    "df"
   ],
   "execution_count": null,
   "outputs": [
    {
     "output_type": "execute_result",
     "data": {
      "text/html": [
       "<div>\n",
       "<style scoped>\n",
       "    .dataframe tbody tr th:only-of-type {\n",
       "        vertical-align: middle;\n",
       "    }\n",
       "\n",
       "    .dataframe tbody tr th {\n",
       "        vertical-align: top;\n",
       "    }\n",
       "\n",
       "    .dataframe thead th {\n",
       "        text-align: right;\n",
       "    }\n",
       "</style>\n",
       "<table border=\"1\" class=\"dataframe\">\n",
       "  <thead>\n",
       "    <tr style=\"text-align: right;\">\n",
       "      <th></th>\n",
       "      <th>국어</th>\n",
       "      <th>영어</th>\n",
       "      <th>수학</th>\n",
       "    </tr>\n",
       "  </thead>\n",
       "  <tbody>\n",
       "    <tr>\n",
       "      <th>0</th>\n",
       "      <td>76</td>\n",
       "      <td>65</td>\n",
       "      <td>80</td>\n",
       "    </tr>\n",
       "    <tr>\n",
       "      <th>1</th>\n",
       "      <td>90</td>\n",
       "      <td>75</td>\n",
       "      <td>98</td>\n",
       "    </tr>\n",
       "    <tr>\n",
       "      <th>2</th>\n",
       "      <td>64</td>\n",
       "      <td>79</td>\n",
       "      <td>62</td>\n",
       "    </tr>\n",
       "    <tr>\n",
       "      <th>3</th>\n",
       "      <td>70</td>\n",
       "      <td>82</td>\n",
       "      <td>84</td>\n",
       "    </tr>\n",
       "    <tr>\n",
       "      <th>4</th>\n",
       "      <td>98</td>\n",
       "      <td>93</td>\n",
       "      <td>85</td>\n",
       "    </tr>\n",
       "  </tbody>\n",
       "</table>\n",
       "</div>"
      ],
      "text/plain": [
       "   국어  영어  수학\n",
       "0  76  65  80\n",
       "1  90  75  98\n",
       "2  64  79  62\n",
       "3  70  82  84\n",
       "4  98  93  85"
      ]
     },
     "metadata": {},
     "execution_count": 44
    }
   ]
  },
  {
   "cell_type": "code",
   "metadata": {
    "colab": {
     "base_uri": "https://localhost:8080/",
     "height": 204
    },
    "id": "Sl_CxxUIMzQR",
    "executionInfo": {
     "status": "ok",
     "timestamp": 1630514112851,
     "user_tz": -540,
     "elapsed": 4,
     "user": {
      "displayName": "하이다비",
      "photoUrl": "",
      "userId": "07224346109532620542"
     }
    },
    "outputId": "91efad1a-c56a-4598-ce1f-c1c9dedc1945"
   },
   "source": [
    "data = [[76,65,80],\n",
    "        [90,75,98],\n",
    "        [64,70,62],\n",
    "        [70,82,84],\n",
    "        [98,93,85]]\n",
    "df1 = pd.DataFrame(data, columns=[\"국어\",\"영어\",\"수학\"])\n",
    "df1"
   ],
   "execution_count": null,
   "outputs": [
    {
     "output_type": "execute_result",
     "data": {
      "text/html": [
       "<div>\n",
       "<style scoped>\n",
       "    .dataframe tbody tr th:only-of-type {\n",
       "        vertical-align: middle;\n",
       "    }\n",
       "\n",
       "    .dataframe tbody tr th {\n",
       "        vertical-align: top;\n",
       "    }\n",
       "\n",
       "    .dataframe thead th {\n",
       "        text-align: right;\n",
       "    }\n",
       "</style>\n",
       "<table border=\"1\" class=\"dataframe\">\n",
       "  <thead>\n",
       "    <tr style=\"text-align: right;\">\n",
       "      <th></th>\n",
       "      <th>국어</th>\n",
       "      <th>영어</th>\n",
       "      <th>수학</th>\n",
       "    </tr>\n",
       "  </thead>\n",
       "  <tbody>\n",
       "    <tr>\n",
       "      <th>0</th>\n",
       "      <td>76</td>\n",
       "      <td>65</td>\n",
       "      <td>80</td>\n",
       "    </tr>\n",
       "    <tr>\n",
       "      <th>1</th>\n",
       "      <td>90</td>\n",
       "      <td>75</td>\n",
       "      <td>98</td>\n",
       "    </tr>\n",
       "    <tr>\n",
       "      <th>2</th>\n",
       "      <td>64</td>\n",
       "      <td>70</td>\n",
       "      <td>62</td>\n",
       "    </tr>\n",
       "    <tr>\n",
       "      <th>3</th>\n",
       "      <td>70</td>\n",
       "      <td>82</td>\n",
       "      <td>84</td>\n",
       "    </tr>\n",
       "    <tr>\n",
       "      <th>4</th>\n",
       "      <td>98</td>\n",
       "      <td>93</td>\n",
       "      <td>85</td>\n",
       "    </tr>\n",
       "  </tbody>\n",
       "</table>\n",
       "</div>"
      ],
      "text/plain": [
       "   국어  영어  수학\n",
       "0  76  65  80\n",
       "1  90  75  98\n",
       "2  64  70  62\n",
       "3  70  82  84\n",
       "4  98  93  85"
      ]
     },
     "metadata": {},
     "execution_count": 45
    }
   ]
  },
  {
   "cell_type": "code",
   "metadata": {
    "id": "hNRpZs-KI8Kn"
   },
   "source": [
    "#총점구하기\n",
    "df[\"총점\"]=(df.iloc[0].sum(),df.iloc[1].sum(),df.iloc[2].sum(),df.iloc[3].sum(),df.iloc[4].sum())"
   ],
   "execution_count": null,
   "outputs": []
  },
  {
   "cell_type": "code",
   "metadata": {
    "colab": {
     "base_uri": "https://localhost:8080/",
     "height": 204
    },
    "id": "ro96MMSVI8Kp",
    "executionInfo": {
     "status": "ok",
     "timestamp": 1630514116426,
     "user_tz": -540,
     "elapsed": 291,
     "user": {
      "displayName": "하이다비",
      "photoUrl": "",
      "userId": "07224346109532620542"
     }
    },
    "outputId": "b6708729-0333-4fd5-a8ba-9a0dd83756e6"
   },
   "source": [
    "df"
   ],
   "execution_count": null,
   "outputs": [
    {
     "output_type": "execute_result",
     "data": {
      "text/html": [
       "<div>\n",
       "<style scoped>\n",
       "    .dataframe tbody tr th:only-of-type {\n",
       "        vertical-align: middle;\n",
       "    }\n",
       "\n",
       "    .dataframe tbody tr th {\n",
       "        vertical-align: top;\n",
       "    }\n",
       "\n",
       "    .dataframe thead th {\n",
       "        text-align: right;\n",
       "    }\n",
       "</style>\n",
       "<table border=\"1\" class=\"dataframe\">\n",
       "  <thead>\n",
       "    <tr style=\"text-align: right;\">\n",
       "      <th></th>\n",
       "      <th>국어</th>\n",
       "      <th>영어</th>\n",
       "      <th>수학</th>\n",
       "      <th>총점</th>\n",
       "    </tr>\n",
       "  </thead>\n",
       "  <tbody>\n",
       "    <tr>\n",
       "      <th>0</th>\n",
       "      <td>76</td>\n",
       "      <td>65</td>\n",
       "      <td>80</td>\n",
       "      <td>221</td>\n",
       "    </tr>\n",
       "    <tr>\n",
       "      <th>1</th>\n",
       "      <td>90</td>\n",
       "      <td>75</td>\n",
       "      <td>98</td>\n",
       "      <td>263</td>\n",
       "    </tr>\n",
       "    <tr>\n",
       "      <th>2</th>\n",
       "      <td>64</td>\n",
       "      <td>79</td>\n",
       "      <td>62</td>\n",
       "      <td>205</td>\n",
       "    </tr>\n",
       "    <tr>\n",
       "      <th>3</th>\n",
       "      <td>70</td>\n",
       "      <td>82</td>\n",
       "      <td>84</td>\n",
       "      <td>236</td>\n",
       "    </tr>\n",
       "    <tr>\n",
       "      <th>4</th>\n",
       "      <td>98</td>\n",
       "      <td>93</td>\n",
       "      <td>85</td>\n",
       "      <td>276</td>\n",
       "    </tr>\n",
       "  </tbody>\n",
       "</table>\n",
       "</div>"
      ],
      "text/plain": [
       "   국어  영어  수학   총점\n",
       "0  76  65  80  221\n",
       "1  90  75  98  263\n",
       "2  64  79  62  205\n",
       "3  70  82  84  236\n",
       "4  98  93  85  276"
      ]
     },
     "metadata": {},
     "execution_count": 47
    }
   ]
  },
  {
   "cell_type": "code",
   "metadata": {
    "colab": {
     "base_uri": "https://localhost:8080/",
     "height": 204
    },
    "id": "uEPAMu8KNJSG",
    "executionInfo": {
     "status": "ok",
     "timestamp": 1630514118148,
     "user_tz": -540,
     "elapsed": 5,
     "user": {
      "displayName": "하이다비",
      "photoUrl": "",
      "userId": "07224346109532620542"
     }
    },
    "outputId": "addea84a-f0b8-4498-c116-46975d388cf1"
   },
   "source": [
    "df[\"총점2\"]=df[\"국어\"]+df[\"영어\"]+df[\"수학\"]\n",
    "df"
   ],
   "execution_count": null,
   "outputs": [
    {
     "output_type": "execute_result",
     "data": {
      "text/html": [
       "<div>\n",
       "<style scoped>\n",
       "    .dataframe tbody tr th:only-of-type {\n",
       "        vertical-align: middle;\n",
       "    }\n",
       "\n",
       "    .dataframe tbody tr th {\n",
       "        vertical-align: top;\n",
       "    }\n",
       "\n",
       "    .dataframe thead th {\n",
       "        text-align: right;\n",
       "    }\n",
       "</style>\n",
       "<table border=\"1\" class=\"dataframe\">\n",
       "  <thead>\n",
       "    <tr style=\"text-align: right;\">\n",
       "      <th></th>\n",
       "      <th>국어</th>\n",
       "      <th>영어</th>\n",
       "      <th>수학</th>\n",
       "      <th>총점</th>\n",
       "      <th>총점2</th>\n",
       "    </tr>\n",
       "  </thead>\n",
       "  <tbody>\n",
       "    <tr>\n",
       "      <th>0</th>\n",
       "      <td>76</td>\n",
       "      <td>65</td>\n",
       "      <td>80</td>\n",
       "      <td>221</td>\n",
       "      <td>221</td>\n",
       "    </tr>\n",
       "    <tr>\n",
       "      <th>1</th>\n",
       "      <td>90</td>\n",
       "      <td>75</td>\n",
       "      <td>98</td>\n",
       "      <td>263</td>\n",
       "      <td>263</td>\n",
       "    </tr>\n",
       "    <tr>\n",
       "      <th>2</th>\n",
       "      <td>64</td>\n",
       "      <td>79</td>\n",
       "      <td>62</td>\n",
       "      <td>205</td>\n",
       "      <td>205</td>\n",
       "    </tr>\n",
       "    <tr>\n",
       "      <th>3</th>\n",
       "      <td>70</td>\n",
       "      <td>82</td>\n",
       "      <td>84</td>\n",
       "      <td>236</td>\n",
       "      <td>236</td>\n",
       "    </tr>\n",
       "    <tr>\n",
       "      <th>4</th>\n",
       "      <td>98</td>\n",
       "      <td>93</td>\n",
       "      <td>85</td>\n",
       "      <td>276</td>\n",
       "      <td>276</td>\n",
       "    </tr>\n",
       "  </tbody>\n",
       "</table>\n",
       "</div>"
      ],
      "text/plain": [
       "   국어  영어  수학   총점  총점2\n",
       "0  76  65  80  221  221\n",
       "1  90  75  98  263  263\n",
       "2  64  79  62  205  205\n",
       "3  70  82  84  236  236\n",
       "4  98  93  85  276  276"
      ]
     },
     "metadata": {},
     "execution_count": 48
    }
   ]
  },
  {
   "cell_type": "code",
   "metadata": {
    "id": "pMCt52WaI8Ks"
   },
   "source": [
    "#평균구하기\n",
    "df[\"평균\"]=(df.iloc[0,:3].mean(),df.iloc[1,:3].mean(),df.iloc[2,:3].mean(),df.iloc[3,:3].mean(),df.iloc[4,:3].mean())"
   ],
   "execution_count": null,
   "outputs": []
  },
  {
   "cell_type": "code",
   "metadata": {
    "id": "R46FKjYZN4DA"
   },
   "source": [
    "df[\"평균2\"]=(df[\"국어\"]+df[\"영어\"]+df[\"수학\"])/3"
   ],
   "execution_count": null,
   "outputs": []
  },
  {
   "cell_type": "code",
   "metadata": {
    "colab": {
     "base_uri": "https://localhost:8080/",
     "height": 204
    },
    "id": "D9FchfYRI8Kw",
    "executionInfo": {
     "status": "ok",
     "timestamp": 1630514181119,
     "user_tz": -540,
     "elapsed": 332,
     "user": {
      "displayName": "하이다비",
      "photoUrl": "",
      "userId": "07224346109532620542"
     }
    },
    "outputId": "94210b1f-2912-4abc-e784-21512842c5c8"
   },
   "source": [
    "df"
   ],
   "execution_count": null,
   "outputs": [
    {
     "output_type": "execute_result",
     "data": {
      "text/html": [
       "<div>\n",
       "<style scoped>\n",
       "    .dataframe tbody tr th:only-of-type {\n",
       "        vertical-align: middle;\n",
       "    }\n",
       "\n",
       "    .dataframe tbody tr th {\n",
       "        vertical-align: top;\n",
       "    }\n",
       "\n",
       "    .dataframe thead th {\n",
       "        text-align: right;\n",
       "    }\n",
       "</style>\n",
       "<table border=\"1\" class=\"dataframe\">\n",
       "  <thead>\n",
       "    <tr style=\"text-align: right;\">\n",
       "      <th></th>\n",
       "      <th>국어</th>\n",
       "      <th>영어</th>\n",
       "      <th>수학</th>\n",
       "      <th>총점</th>\n",
       "      <th>총점2</th>\n",
       "      <th>평균2</th>\n",
       "    </tr>\n",
       "  </thead>\n",
       "  <tbody>\n",
       "    <tr>\n",
       "      <th>0</th>\n",
       "      <td>76</td>\n",
       "      <td>65</td>\n",
       "      <td>80</td>\n",
       "      <td>221</td>\n",
       "      <td>221</td>\n",
       "      <td>73.666667</td>\n",
       "    </tr>\n",
       "    <tr>\n",
       "      <th>1</th>\n",
       "      <td>90</td>\n",
       "      <td>75</td>\n",
       "      <td>98</td>\n",
       "      <td>263</td>\n",
       "      <td>263</td>\n",
       "      <td>87.666667</td>\n",
       "    </tr>\n",
       "    <tr>\n",
       "      <th>2</th>\n",
       "      <td>64</td>\n",
       "      <td>79</td>\n",
       "      <td>62</td>\n",
       "      <td>205</td>\n",
       "      <td>205</td>\n",
       "      <td>68.333333</td>\n",
       "    </tr>\n",
       "    <tr>\n",
       "      <th>3</th>\n",
       "      <td>70</td>\n",
       "      <td>82</td>\n",
       "      <td>84</td>\n",
       "      <td>236</td>\n",
       "      <td>236</td>\n",
       "      <td>78.666667</td>\n",
       "    </tr>\n",
       "    <tr>\n",
       "      <th>4</th>\n",
       "      <td>98</td>\n",
       "      <td>93</td>\n",
       "      <td>85</td>\n",
       "      <td>276</td>\n",
       "      <td>276</td>\n",
       "      <td>92.000000</td>\n",
       "    </tr>\n",
       "  </tbody>\n",
       "</table>\n",
       "</div>"
      ],
      "text/plain": [
       "   국어  영어  수학   총점  총점2        평균2\n",
       "0  76  65  80  221  221  73.666667\n",
       "1  90  75  98  263  263  87.666667\n",
       "2  64  79  62  205  205  68.333333\n",
       "3  70  82  84  236  236  78.666667\n",
       "4  98  93  85  276  276  92.000000"
      ]
     },
     "metadata": {},
     "execution_count": 50
    }
   ]
  },
  {
   "cell_type": "code",
   "metadata": {
    "colab": {
     "base_uri": "https://localhost:8080/",
     "height": 204
    },
    "id": "YfiT6hSLOFT7",
    "executionInfo": {
     "status": "ok",
     "timestamp": 1630514268730,
     "user_tz": -540,
     "elapsed": 215,
     "user": {
      "displayName": "하이다비",
      "photoUrl": "",
      "userId": "07224346109532620542"
     }
    },
    "outputId": "59dea526-d95c-489b-9e77-ccb2105531ca"
   },
   "source": [
    "df[\"평균3\"] = df.iloc[:,:3].mean(axis=1)\n",
    "df"
   ],
   "execution_count": null,
   "outputs": [
    {
     "output_type": "execute_result",
     "data": {
      "text/html": [
       "<div>\n",
       "<style scoped>\n",
       "    .dataframe tbody tr th:only-of-type {\n",
       "        vertical-align: middle;\n",
       "    }\n",
       "\n",
       "    .dataframe tbody tr th {\n",
       "        vertical-align: top;\n",
       "    }\n",
       "\n",
       "    .dataframe thead th {\n",
       "        text-align: right;\n",
       "    }\n",
       "</style>\n",
       "<table border=\"1\" class=\"dataframe\">\n",
       "  <thead>\n",
       "    <tr style=\"text-align: right;\">\n",
       "      <th></th>\n",
       "      <th>국어</th>\n",
       "      <th>영어</th>\n",
       "      <th>수학</th>\n",
       "      <th>총점</th>\n",
       "      <th>총점2</th>\n",
       "      <th>평균2</th>\n",
       "      <th>평균3</th>\n",
       "    </tr>\n",
       "  </thead>\n",
       "  <tbody>\n",
       "    <tr>\n",
       "      <th>0</th>\n",
       "      <td>76</td>\n",
       "      <td>65</td>\n",
       "      <td>80</td>\n",
       "      <td>221</td>\n",
       "      <td>221</td>\n",
       "      <td>73.666667</td>\n",
       "      <td>73.666667</td>\n",
       "    </tr>\n",
       "    <tr>\n",
       "      <th>1</th>\n",
       "      <td>90</td>\n",
       "      <td>75</td>\n",
       "      <td>98</td>\n",
       "      <td>263</td>\n",
       "      <td>263</td>\n",
       "      <td>87.666667</td>\n",
       "      <td>87.666667</td>\n",
       "    </tr>\n",
       "    <tr>\n",
       "      <th>2</th>\n",
       "      <td>64</td>\n",
       "      <td>79</td>\n",
       "      <td>62</td>\n",
       "      <td>205</td>\n",
       "      <td>205</td>\n",
       "      <td>68.333333</td>\n",
       "      <td>68.333333</td>\n",
       "    </tr>\n",
       "    <tr>\n",
       "      <th>3</th>\n",
       "      <td>70</td>\n",
       "      <td>82</td>\n",
       "      <td>84</td>\n",
       "      <td>236</td>\n",
       "      <td>236</td>\n",
       "      <td>78.666667</td>\n",
       "      <td>78.666667</td>\n",
       "    </tr>\n",
       "    <tr>\n",
       "      <th>4</th>\n",
       "      <td>98</td>\n",
       "      <td>93</td>\n",
       "      <td>85</td>\n",
       "      <td>276</td>\n",
       "      <td>276</td>\n",
       "      <td>92.000000</td>\n",
       "      <td>92.000000</td>\n",
       "    </tr>\n",
       "  </tbody>\n",
       "</table>\n",
       "</div>"
      ],
      "text/plain": [
       "   국어  영어  수학   총점  총점2        평균2        평균3\n",
       "0  76  65  80  221  221  73.666667  73.666667\n",
       "1  90  75  98  263  263  87.666667  87.666667\n",
       "2  64  79  62  205  205  68.333333  68.333333\n",
       "3  70  82  84  236  236  78.666667  78.666667\n",
       "4  98  93  85  276  276  92.000000  92.000000"
      ]
     },
     "metadata": {},
     "execution_count": 51
    }
   ]
  },
  {
   "cell_type": "code",
   "metadata": {
    "id": "4YI4JwdTI8Kx",
    "outputId": "414e47f0-5466-43fe-b559-6035ea23a694"
   },
   "source": [
    "df.loc[0,\"평균\"]<90"
   ],
   "execution_count": null,
   "outputs": [
    {
     "data": {
      "text/plain": [
       "True"
      ]
     },
     "execution_count": 144,
     "metadata": {},
     "output_type": "execute_result"
    }
   ]
  },
  {
   "cell_type": "code",
   "metadata": {
    "colab": {
     "base_uri": "https://localhost:8080/",
     "height": 204
    },
    "id": "2dbQmQSkI8Kz",
    "executionInfo": {
     "status": "ok",
     "timestamp": 1630514575667,
     "user_tz": -540,
     "elapsed": 209,
     "user": {
      "displayName": "하이다비",
      "photoUrl": "",
      "userId": "07224346109532620542"
     }
    },
    "outputId": "c6ee2136-c4ca-4908-e66d-a3092a7d5fe8"
   },
   "source": [
    "df[\"등급\"]=\"\"\n",
    "for row in range(0, len(df)):\n",
    "    #print(df.iloc[row,4])\n",
    "    if df.iloc[row,5]>90:\n",
    "        df.iloc[row,-1] = \"s등급\"\n",
    "    elif df.iloc[row,5]>80:\n",
    "        df.iloc[row,-1] = \"a등급\"\n",
    "    elif df.iloc[row,5]>70:\n",
    "        df.iloc[row,-1] = \"b등급\"\n",
    "    else:\n",
    "        df.iloc[row,-1] = \"c등급\"\n",
    "df\n"
   ],
   "execution_count": null,
   "outputs": [
    {
     "output_type": "execute_result",
     "data": {
      "text/html": [
       "<div>\n",
       "<style scoped>\n",
       "    .dataframe tbody tr th:only-of-type {\n",
       "        vertical-align: middle;\n",
       "    }\n",
       "\n",
       "    .dataframe tbody tr th {\n",
       "        vertical-align: top;\n",
       "    }\n",
       "\n",
       "    .dataframe thead th {\n",
       "        text-align: right;\n",
       "    }\n",
       "</style>\n",
       "<table border=\"1\" class=\"dataframe\">\n",
       "  <thead>\n",
       "    <tr style=\"text-align: right;\">\n",
       "      <th></th>\n",
       "      <th>국어</th>\n",
       "      <th>영어</th>\n",
       "      <th>수학</th>\n",
       "      <th>총점</th>\n",
       "      <th>총점2</th>\n",
       "      <th>평균2</th>\n",
       "      <th>평균3</th>\n",
       "      <th>등급</th>\n",
       "    </tr>\n",
       "  </thead>\n",
       "  <tbody>\n",
       "    <tr>\n",
       "      <th>0</th>\n",
       "      <td>76</td>\n",
       "      <td>65</td>\n",
       "      <td>80</td>\n",
       "      <td>221</td>\n",
       "      <td>221</td>\n",
       "      <td>73.666667</td>\n",
       "      <td>73.666667</td>\n",
       "      <td>b등급</td>\n",
       "    </tr>\n",
       "    <tr>\n",
       "      <th>1</th>\n",
       "      <td>90</td>\n",
       "      <td>75</td>\n",
       "      <td>98</td>\n",
       "      <td>263</td>\n",
       "      <td>263</td>\n",
       "      <td>87.666667</td>\n",
       "      <td>87.666667</td>\n",
       "      <td>a등급</td>\n",
       "    </tr>\n",
       "    <tr>\n",
       "      <th>2</th>\n",
       "      <td>64</td>\n",
       "      <td>79</td>\n",
       "      <td>62</td>\n",
       "      <td>205</td>\n",
       "      <td>205</td>\n",
       "      <td>68.333333</td>\n",
       "      <td>68.333333</td>\n",
       "      <td>c등급</td>\n",
       "    </tr>\n",
       "    <tr>\n",
       "      <th>3</th>\n",
       "      <td>70</td>\n",
       "      <td>82</td>\n",
       "      <td>84</td>\n",
       "      <td>236</td>\n",
       "      <td>236</td>\n",
       "      <td>78.666667</td>\n",
       "      <td>78.666667</td>\n",
       "      <td>b등급</td>\n",
       "    </tr>\n",
       "    <tr>\n",
       "      <th>4</th>\n",
       "      <td>98</td>\n",
       "      <td>93</td>\n",
       "      <td>85</td>\n",
       "      <td>276</td>\n",
       "      <td>276</td>\n",
       "      <td>92.000000</td>\n",
       "      <td>92.000000</td>\n",
       "      <td>s등급</td>\n",
       "    </tr>\n",
       "  </tbody>\n",
       "</table>\n",
       "</div>"
      ],
      "text/plain": [
       "   국어  영어  수학   총점  총점2        평균2        평균3   등급\n",
       "0  76  65  80  221  221  73.666667  73.666667  b등급\n",
       "1  90  75  98  263  263  87.666667  87.666667  a등급\n",
       "2  64  79  62  205  205  68.333333  68.333333  c등급\n",
       "3  70  82  84  236  236  78.666667  78.666667  b등급\n",
       "4  98  93  85  276  276  92.000000  92.000000  s등급"
      ]
     },
     "metadata": {},
     "execution_count": 53
    }
   ]
  },
  {
   "cell_type": "code",
   "metadata": {
    "id": "l3CWJkEhI8Kz",
    "outputId": "56ed1bce-e504-418d-9873-2b86defb5a18"
   },
   "source": [
    "#정답\n",
    "import pandas as pd\n",
    "dic_data=  {\"국어\":[76,90,64,70,98],\n",
    "            \"영어\":[65,75,79,82,93],\n",
    "            \"수학\":[80,98,62,84,85]}\n",
    "df=pd.DataFrame(dic_data)\n",
    "df"
   ],
   "execution_count": null,
   "outputs": [
    {
     "data": {
      "text/html": [
       "<div>\n",
       "<style scoped>\n",
       "    .dataframe tbody tr th:only-of-type {\n",
       "        vertical-align: middle;\n",
       "    }\n",
       "\n",
       "    .dataframe tbody tr th {\n",
       "        vertical-align: top;\n",
       "    }\n",
       "\n",
       "    .dataframe thead th {\n",
       "        text-align: right;\n",
       "    }\n",
       "</style>\n",
       "<table border=\"1\" class=\"dataframe\">\n",
       "  <thead>\n",
       "    <tr style=\"text-align: right;\">\n",
       "      <th></th>\n",
       "      <th>국어</th>\n",
       "      <th>영어</th>\n",
       "      <th>수학</th>\n",
       "    </tr>\n",
       "  </thead>\n",
       "  <tbody>\n",
       "    <tr>\n",
       "      <th>0</th>\n",
       "      <td>76</td>\n",
       "      <td>65</td>\n",
       "      <td>80</td>\n",
       "    </tr>\n",
       "    <tr>\n",
       "      <th>1</th>\n",
       "      <td>90</td>\n",
       "      <td>75</td>\n",
       "      <td>98</td>\n",
       "    </tr>\n",
       "    <tr>\n",
       "      <th>2</th>\n",
       "      <td>64</td>\n",
       "      <td>79</td>\n",
       "      <td>62</td>\n",
       "    </tr>\n",
       "    <tr>\n",
       "      <th>3</th>\n",
       "      <td>70</td>\n",
       "      <td>82</td>\n",
       "      <td>84</td>\n",
       "    </tr>\n",
       "    <tr>\n",
       "      <th>4</th>\n",
       "      <td>98</td>\n",
       "      <td>93</td>\n",
       "      <td>85</td>\n",
       "    </tr>\n",
       "  </tbody>\n",
       "</table>\n",
       "</div>"
      ],
      "text/plain": [
       "   국어  영어  수학\n",
       "0  76  65  80\n",
       "1  90  75  98\n",
       "2  64  79  62\n",
       "3  70  82  84\n",
       "4  98  93  85"
      ]
     },
     "execution_count": 145,
     "metadata": {},
     "output_type": "execute_result"
    }
   ]
  },
  {
   "cell_type": "code",
   "metadata": {
    "id": "EoJRH6-KI8K0",
    "outputId": "ce26961a-d033-45a9-c8d1-54da46e6839b"
   },
   "source": [
    "data= [[76,65,80],\n",
    "       [90,75,98],\n",
    "       [64,70,62],\n",
    "       [70,82,84],\n",
    "       [98,93,85]]\n",
    "df1=pd.DataFrame(data, columns=[\"국어\",\"영어\",\"수학\"])\n",
    "df1"
   ],
   "execution_count": null,
   "outputs": [
    {
     "data": {
      "text/html": [
       "<div>\n",
       "<style scoped>\n",
       "    .dataframe tbody tr th:only-of-type {\n",
       "        vertical-align: middle;\n",
       "    }\n",
       "\n",
       "    .dataframe tbody tr th {\n",
       "        vertical-align: top;\n",
       "    }\n",
       "\n",
       "    .dataframe thead th {\n",
       "        text-align: right;\n",
       "    }\n",
       "</style>\n",
       "<table border=\"1\" class=\"dataframe\">\n",
       "  <thead>\n",
       "    <tr style=\"text-align: right;\">\n",
       "      <th></th>\n",
       "      <th>국어</th>\n",
       "      <th>영어</th>\n",
       "      <th>수학</th>\n",
       "    </tr>\n",
       "  </thead>\n",
       "  <tbody>\n",
       "    <tr>\n",
       "      <th>0</th>\n",
       "      <td>76</td>\n",
       "      <td>65</td>\n",
       "      <td>80</td>\n",
       "    </tr>\n",
       "    <tr>\n",
       "      <th>1</th>\n",
       "      <td>90</td>\n",
       "      <td>75</td>\n",
       "      <td>98</td>\n",
       "    </tr>\n",
       "    <tr>\n",
       "      <th>2</th>\n",
       "      <td>64</td>\n",
       "      <td>70</td>\n",
       "      <td>62</td>\n",
       "    </tr>\n",
       "    <tr>\n",
       "      <th>3</th>\n",
       "      <td>70</td>\n",
       "      <td>82</td>\n",
       "      <td>84</td>\n",
       "    </tr>\n",
       "    <tr>\n",
       "      <th>4</th>\n",
       "      <td>98</td>\n",
       "      <td>93</td>\n",
       "      <td>85</td>\n",
       "    </tr>\n",
       "  </tbody>\n",
       "</table>\n",
       "</div>"
      ],
      "text/plain": [
       "   국어  영어  수학\n",
       "0  76  65  80\n",
       "1  90  75  98\n",
       "2  64  70  62\n",
       "3  70  82  84\n",
       "4  98  93  85"
      ]
     },
     "execution_count": 148,
     "metadata": {},
     "output_type": "execute_result"
    }
   ]
  },
  {
   "cell_type": "code",
   "metadata": {
    "id": "vkTnpmrpI8K0",
    "outputId": "dcc6ecf4-f350-4316-f84d-2bd23fdcbb7e"
   },
   "source": [
    "#총점 구하기\n",
    "df[\"총점\"]=df[\"국어\"]+df[\"영어\"]+df[\"수학\"]\n",
    "df\n"
   ],
   "execution_count": null,
   "outputs": [
    {
     "data": {
      "text/html": [
       "<div>\n",
       "<style scoped>\n",
       "    .dataframe tbody tr th:only-of-type {\n",
       "        vertical-align: middle;\n",
       "    }\n",
       "\n",
       "    .dataframe tbody tr th {\n",
       "        vertical-align: top;\n",
       "    }\n",
       "\n",
       "    .dataframe thead th {\n",
       "        text-align: right;\n",
       "    }\n",
       "</style>\n",
       "<table border=\"1\" class=\"dataframe\">\n",
       "  <thead>\n",
       "    <tr style=\"text-align: right;\">\n",
       "      <th></th>\n",
       "      <th>국어</th>\n",
       "      <th>영어</th>\n",
       "      <th>수학</th>\n",
       "      <th>총점</th>\n",
       "    </tr>\n",
       "  </thead>\n",
       "  <tbody>\n",
       "    <tr>\n",
       "      <th>0</th>\n",
       "      <td>76</td>\n",
       "      <td>65</td>\n",
       "      <td>80</td>\n",
       "      <td>221</td>\n",
       "    </tr>\n",
       "    <tr>\n",
       "      <th>1</th>\n",
       "      <td>90</td>\n",
       "      <td>75</td>\n",
       "      <td>98</td>\n",
       "      <td>263</td>\n",
       "    </tr>\n",
       "    <tr>\n",
       "      <th>2</th>\n",
       "      <td>64</td>\n",
       "      <td>79</td>\n",
       "      <td>62</td>\n",
       "      <td>205</td>\n",
       "    </tr>\n",
       "    <tr>\n",
       "      <th>3</th>\n",
       "      <td>70</td>\n",
       "      <td>82</td>\n",
       "      <td>84</td>\n",
       "      <td>236</td>\n",
       "    </tr>\n",
       "    <tr>\n",
       "      <th>4</th>\n",
       "      <td>98</td>\n",
       "      <td>93</td>\n",
       "      <td>85</td>\n",
       "      <td>276</td>\n",
       "    </tr>\n",
       "  </tbody>\n",
       "</table>\n",
       "</div>"
      ],
      "text/plain": [
       "   국어  영어  수학   총점\n",
       "0  76  65  80  221\n",
       "1  90  75  98  263\n",
       "2  64  79  62  205\n",
       "3  70  82  84  236\n",
       "4  98  93  85  276"
      ]
     },
     "execution_count": 149,
     "metadata": {},
     "output_type": "execute_result"
    }
   ]
  },
  {
   "cell_type": "code",
   "metadata": {
    "id": "4vPL0QPSI8K2",
    "outputId": "acbe09c6-46af-468c-9ca4-f2aaaffcea72"
   },
   "source": [
    "#평균 구하기\n",
    "df[\"평균\"] =(df[\"국어\"]+df[\"영어\"]+df[\"수학\"])/3\n",
    "df"
   ],
   "execution_count": null,
   "outputs": [
    {
     "data": {
      "text/html": [
       "<div>\n",
       "<style scoped>\n",
       "    .dataframe tbody tr th:only-of-type {\n",
       "        vertical-align: middle;\n",
       "    }\n",
       "\n",
       "    .dataframe tbody tr th {\n",
       "        vertical-align: top;\n",
       "    }\n",
       "\n",
       "    .dataframe thead th {\n",
       "        text-align: right;\n",
       "    }\n",
       "</style>\n",
       "<table border=\"1\" class=\"dataframe\">\n",
       "  <thead>\n",
       "    <tr style=\"text-align: right;\">\n",
       "      <th></th>\n",
       "      <th>국어</th>\n",
       "      <th>영어</th>\n",
       "      <th>수학</th>\n",
       "      <th>총점</th>\n",
       "      <th>평균</th>\n",
       "    </tr>\n",
       "  </thead>\n",
       "  <tbody>\n",
       "    <tr>\n",
       "      <th>0</th>\n",
       "      <td>76</td>\n",
       "      <td>65</td>\n",
       "      <td>80</td>\n",
       "      <td>221</td>\n",
       "      <td>73.666667</td>\n",
       "    </tr>\n",
       "    <tr>\n",
       "      <th>1</th>\n",
       "      <td>90</td>\n",
       "      <td>75</td>\n",
       "      <td>98</td>\n",
       "      <td>263</td>\n",
       "      <td>87.666667</td>\n",
       "    </tr>\n",
       "    <tr>\n",
       "      <th>2</th>\n",
       "      <td>64</td>\n",
       "      <td>79</td>\n",
       "      <td>62</td>\n",
       "      <td>205</td>\n",
       "      <td>68.333333</td>\n",
       "    </tr>\n",
       "    <tr>\n",
       "      <th>3</th>\n",
       "      <td>70</td>\n",
       "      <td>82</td>\n",
       "      <td>84</td>\n",
       "      <td>236</td>\n",
       "      <td>78.666667</td>\n",
       "    </tr>\n",
       "    <tr>\n",
       "      <th>4</th>\n",
       "      <td>98</td>\n",
       "      <td>93</td>\n",
       "      <td>85</td>\n",
       "      <td>276</td>\n",
       "      <td>92.000000</td>\n",
       "    </tr>\n",
       "  </tbody>\n",
       "</table>\n",
       "</div>"
      ],
      "text/plain": [
       "   국어  영어  수학   총점         평균\n",
       "0  76  65  80  221  73.666667\n",
       "1  90  75  98  263  87.666667\n",
       "2  64  79  62  205  68.333333\n",
       "3  70  82  84  236  78.666667\n",
       "4  98  93  85  276  92.000000"
      ]
     },
     "execution_count": 151,
     "metadata": {},
     "output_type": "execute_result"
    }
   ]
  },
  {
   "cell_type": "code",
   "metadata": {
    "id": "1vRN5s9wI8K4",
    "outputId": "8b722c58-5f98-45eb-ceab-ab9aec7b9c88"
   },
   "source": [
    "#평균 구하기2\n",
    "df[\"평균1\"]=df.iloc[:,:3].mean(axis=1)\n",
    "df"
   ],
   "execution_count": null,
   "outputs": [
    {
     "data": {
      "text/html": [
       "<div>\n",
       "<style scoped>\n",
       "    .dataframe tbody tr th:only-of-type {\n",
       "        vertical-align: middle;\n",
       "    }\n",
       "\n",
       "    .dataframe tbody tr th {\n",
       "        vertical-align: top;\n",
       "    }\n",
       "\n",
       "    .dataframe thead th {\n",
       "        text-align: right;\n",
       "    }\n",
       "</style>\n",
       "<table border=\"1\" class=\"dataframe\">\n",
       "  <thead>\n",
       "    <tr style=\"text-align: right;\">\n",
       "      <th></th>\n",
       "      <th>국어</th>\n",
       "      <th>영어</th>\n",
       "      <th>수학</th>\n",
       "      <th>총점</th>\n",
       "      <th>평균</th>\n",
       "      <th>평균1</th>\n",
       "    </tr>\n",
       "  </thead>\n",
       "  <tbody>\n",
       "    <tr>\n",
       "      <th>0</th>\n",
       "      <td>76</td>\n",
       "      <td>65</td>\n",
       "      <td>80</td>\n",
       "      <td>221</td>\n",
       "      <td>73.666667</td>\n",
       "      <td>73.666667</td>\n",
       "    </tr>\n",
       "    <tr>\n",
       "      <th>1</th>\n",
       "      <td>90</td>\n",
       "      <td>75</td>\n",
       "      <td>98</td>\n",
       "      <td>263</td>\n",
       "      <td>87.666667</td>\n",
       "      <td>87.666667</td>\n",
       "    </tr>\n",
       "    <tr>\n",
       "      <th>2</th>\n",
       "      <td>64</td>\n",
       "      <td>79</td>\n",
       "      <td>62</td>\n",
       "      <td>205</td>\n",
       "      <td>68.333333</td>\n",
       "      <td>68.333333</td>\n",
       "    </tr>\n",
       "    <tr>\n",
       "      <th>3</th>\n",
       "      <td>70</td>\n",
       "      <td>82</td>\n",
       "      <td>84</td>\n",
       "      <td>236</td>\n",
       "      <td>78.666667</td>\n",
       "      <td>78.666667</td>\n",
       "    </tr>\n",
       "    <tr>\n",
       "      <th>4</th>\n",
       "      <td>98</td>\n",
       "      <td>93</td>\n",
       "      <td>85</td>\n",
       "      <td>276</td>\n",
       "      <td>92.000000</td>\n",
       "      <td>92.000000</td>\n",
       "    </tr>\n",
       "  </tbody>\n",
       "</table>\n",
       "</div>"
      ],
      "text/plain": [
       "   국어  영어  수학   총점         평균        평균1\n",
       "0  76  65  80  221  73.666667  73.666667\n",
       "1  90  75  98  263  87.666667  87.666667\n",
       "2  64  79  62  205  68.333333  68.333333\n",
       "3  70  82  84  236  78.666667  78.666667\n",
       "4  98  93  85  276  92.000000  92.000000"
      ]
     },
     "execution_count": 156,
     "metadata": {},
     "output_type": "execute_result"
    }
   ]
  },
  {
   "cell_type": "code",
   "metadata": {
    "id": "Lm7RAh4qI8K5",
    "outputId": "6cf71547-ff31-4ec1-ec96-7367898c6558"
   },
   "source": [
    "# 평균을 등급으로 나구기\n",
    "df[\"등급\"]=\"\" \n",
    "for row in range(0,len(df)):\n",
    "    print(df.iloc[row,4])\n",
    "    if df.iloc[row,4]>90:\n",
    "        df.iloc[row,-1]=\"s등급\"\n",
    "    elif df.iloc[row,4]>80:\n",
    "        df.iloc[row,-1]=\"a등급\"\n",
    "    elif df.iloc[row,4]>70:\n",
    "        df.iloc[row,-1]=\"b등급\"\n",
    "    else:\n",
    "        df.iloc[row,-1]=\"c등급\"\n",
    "df"
   ],
   "execution_count": null,
   "outputs": [
    {
     "name": "stdout",
     "output_type": "stream",
     "text": [
      "73.66666666666667\n",
      "87.66666666666667\n",
      "68.33333333333333\n",
      "78.66666666666667\n",
      "92.0\n"
     ]
    },
    {
     "data": {
      "text/html": [
       "<div>\n",
       "<style scoped>\n",
       "    .dataframe tbody tr th:only-of-type {\n",
       "        vertical-align: middle;\n",
       "    }\n",
       "\n",
       "    .dataframe tbody tr th {\n",
       "        vertical-align: top;\n",
       "    }\n",
       "\n",
       "    .dataframe thead th {\n",
       "        text-align: right;\n",
       "    }\n",
       "</style>\n",
       "<table border=\"1\" class=\"dataframe\">\n",
       "  <thead>\n",
       "    <tr style=\"text-align: right;\">\n",
       "      <th></th>\n",
       "      <th>국어</th>\n",
       "      <th>영어</th>\n",
       "      <th>수학</th>\n",
       "      <th>총점</th>\n",
       "      <th>평균</th>\n",
       "      <th>평균1</th>\n",
       "      <th>등급</th>\n",
       "    </tr>\n",
       "  </thead>\n",
       "  <tbody>\n",
       "    <tr>\n",
       "      <th>0</th>\n",
       "      <td>76</td>\n",
       "      <td>65</td>\n",
       "      <td>80</td>\n",
       "      <td>221</td>\n",
       "      <td>73.666667</td>\n",
       "      <td>73.666667</td>\n",
       "      <td>b등급</td>\n",
       "    </tr>\n",
       "    <tr>\n",
       "      <th>1</th>\n",
       "      <td>90</td>\n",
       "      <td>75</td>\n",
       "      <td>98</td>\n",
       "      <td>263</td>\n",
       "      <td>87.666667</td>\n",
       "      <td>87.666667</td>\n",
       "      <td>a등급</td>\n",
       "    </tr>\n",
       "    <tr>\n",
       "      <th>2</th>\n",
       "      <td>64</td>\n",
       "      <td>79</td>\n",
       "      <td>62</td>\n",
       "      <td>205</td>\n",
       "      <td>68.333333</td>\n",
       "      <td>68.333333</td>\n",
       "      <td>c등급</td>\n",
       "    </tr>\n",
       "    <tr>\n",
       "      <th>3</th>\n",
       "      <td>70</td>\n",
       "      <td>82</td>\n",
       "      <td>84</td>\n",
       "      <td>236</td>\n",
       "      <td>78.666667</td>\n",
       "      <td>78.666667</td>\n",
       "      <td>b등급</td>\n",
       "    </tr>\n",
       "    <tr>\n",
       "      <th>4</th>\n",
       "      <td>98</td>\n",
       "      <td>93</td>\n",
       "      <td>85</td>\n",
       "      <td>276</td>\n",
       "      <td>92.000000</td>\n",
       "      <td>92.000000</td>\n",
       "      <td>s등급</td>\n",
       "    </tr>\n",
       "  </tbody>\n",
       "</table>\n",
       "</div>"
      ],
      "text/plain": [
       "   국어  영어  수학   총점         평균        평균1   등급\n",
       "0  76  65  80  221  73.666667  73.666667  b등급\n",
       "1  90  75  98  263  87.666667  87.666667  a등급\n",
       "2  64  79  62  205  68.333333  68.333333  c등급\n",
       "3  70  82  84  236  78.666667  78.666667  b등급\n",
       "4  98  93  85  276  92.000000  92.000000  s등급"
      ]
     },
     "execution_count": 160,
     "metadata": {},
     "output_type": "execute_result"
    }
   ]
  },
  {
   "cell_type": "code",
   "metadata": {
    "id": "kbyikYF0I8K6",
    "outputId": "453965a0-4183-4aac-a518-60ec44f1d4f2"
   },
   "source": [
    "df.loc[df[\"평균\"]>90, \"등급2\"]= \"s등급\"\n",
    "df.loc[(df[\"평균\"]>80) & (df[\"평균\"]<=89), \"등급2\"]= \"a등급\"\n",
    "df.loc[(df[\"평균\"]>70) & (df[\"평균\"]<=79), \"등급2\"]= \"b등급\"\n",
    "df.loc[(df[\"평균\"]<=69), \"등급2\"]= \"c등급\"\n",
    "df"
   ],
   "execution_count": null,
   "outputs": [
    {
     "data": {
      "text/html": [
       "<div>\n",
       "<style scoped>\n",
       "    .dataframe tbody tr th:only-of-type {\n",
       "        vertical-align: middle;\n",
       "    }\n",
       "\n",
       "    .dataframe tbody tr th {\n",
       "        vertical-align: top;\n",
       "    }\n",
       "\n",
       "    .dataframe thead th {\n",
       "        text-align: right;\n",
       "    }\n",
       "</style>\n",
       "<table border=\"1\" class=\"dataframe\">\n",
       "  <thead>\n",
       "    <tr style=\"text-align: right;\">\n",
       "      <th></th>\n",
       "      <th>국어</th>\n",
       "      <th>영어</th>\n",
       "      <th>수학</th>\n",
       "      <th>총점</th>\n",
       "      <th>평균</th>\n",
       "      <th>평균1</th>\n",
       "      <th>등급</th>\n",
       "      <th>등급2</th>\n",
       "    </tr>\n",
       "  </thead>\n",
       "  <tbody>\n",
       "    <tr>\n",
       "      <th>0</th>\n",
       "      <td>76</td>\n",
       "      <td>65</td>\n",
       "      <td>80</td>\n",
       "      <td>221</td>\n",
       "      <td>73.666667</td>\n",
       "      <td>73.666667</td>\n",
       "      <td>b등급</td>\n",
       "      <td>b등급</td>\n",
       "    </tr>\n",
       "    <tr>\n",
       "      <th>1</th>\n",
       "      <td>90</td>\n",
       "      <td>75</td>\n",
       "      <td>98</td>\n",
       "      <td>263</td>\n",
       "      <td>87.666667</td>\n",
       "      <td>87.666667</td>\n",
       "      <td>a등급</td>\n",
       "      <td>a등급</td>\n",
       "    </tr>\n",
       "    <tr>\n",
       "      <th>2</th>\n",
       "      <td>64</td>\n",
       "      <td>79</td>\n",
       "      <td>62</td>\n",
       "      <td>205</td>\n",
       "      <td>68.333333</td>\n",
       "      <td>68.333333</td>\n",
       "      <td>c등급</td>\n",
       "      <td>c등급</td>\n",
       "    </tr>\n",
       "    <tr>\n",
       "      <th>3</th>\n",
       "      <td>70</td>\n",
       "      <td>82</td>\n",
       "      <td>84</td>\n",
       "      <td>236</td>\n",
       "      <td>78.666667</td>\n",
       "      <td>78.666667</td>\n",
       "      <td>b등급</td>\n",
       "      <td>b등급</td>\n",
       "    </tr>\n",
       "    <tr>\n",
       "      <th>4</th>\n",
       "      <td>98</td>\n",
       "      <td>93</td>\n",
       "      <td>85</td>\n",
       "      <td>276</td>\n",
       "      <td>92.000000</td>\n",
       "      <td>92.000000</td>\n",
       "      <td>s등급</td>\n",
       "      <td>s등급</td>\n",
       "    </tr>\n",
       "  </tbody>\n",
       "</table>\n",
       "</div>"
      ],
      "text/plain": [
       "   국어  영어  수학   총점         평균        평균1   등급  등급2\n",
       "0  76  65  80  221  73.666667  73.666667  b등급  b등급\n",
       "1  90  75  98  263  87.666667  87.666667  a등급  a등급\n",
       "2  64  79  62  205  68.333333  68.333333  c등급  c등급\n",
       "3  70  82  84  236  78.666667  78.666667  b등급  b등급\n",
       "4  98  93  85  276  92.000000  92.000000  s등급  s등급"
      ]
     },
     "execution_count": 165,
     "metadata": {},
     "output_type": "execute_result"
    }
   ]
  },
  {
   "cell_type": "code",
   "metadata": {
    "id": "7xAyJ7XYI8K9"
   },
   "source": [],
   "execution_count": null,
   "outputs": []
  }
 ]
}
