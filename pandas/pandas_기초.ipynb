{
 "nbformat": 4,
 "nbformat_minor": 0,
 "metadata": {
  "kernelspec": {
   "display_name": "Python 3 (ipykernel)",
   "language": "python",
   "name": "python3"
  },
  "language_info": {
   "codemirror_mode": {
    "name": "ipython",
    "version": 3
   },
   "file_extension": ".py",
   "mimetype": "text/x-python",
   "name": "python",
   "nbconvert_exporter": "python",
   "pygments_lexer": "ipython3",
   "version": "3.8.2"
  },
  "colab": {
   "name": "210728_pandas_교재.ipynb",
   "provenance": [],
   "collapsed_sections": []
  }
 },
 "cells": [
  {
   "cell_type": "code",
   "metadata": {
    "id": "g1M4zSFbs_lq"
   },
   "source": [
    "#pandas pandas.pydata.org 쿡북에 있는 내용 3번만 검토하면 기업에서 부른다.\n",
    "#https://pandas.pydata.org/pandas-docs/stable/user_guide/indexing.html\n",
    "#https://dataitgirls2.github.io/tutorial/Tutorial_180717_10minPandas.html"
   ],
   "execution_count": null,
   "outputs": []
  },
  {
   "cell_type": "code",
   "metadata": {
    "id": "sBCYHZ2fs_lt",
    "executionInfo": {
     "status": "ok",
     "timestamp": 1630216944108,
     "user_tz": -540,
     "elapsed": 3,
     "user": {
      "displayName": "하이다비",
      "photoUrl": "",
      "userId": "07224346109532620542"
     }
    }
   },
   "source": [
    "import pandas as pd\n",
    "from pandas import Series, DataFrame"
   ],
   "execution_count": 3,
   "outputs": []
  },
  {
   "cell_type": "code",
   "metadata": {
    "colab": {
     "base_uri": "https://localhost:8080/"
    },
    "id": "51kpgyyLs_lu",
    "executionInfo": {
     "status": "ok",
     "timestamp": 1629918359714,
     "user_tz": -540,
     "elapsed": 293,
     "user": {
      "displayName": "하이다비",
      "photoUrl": "",
      "userId": "07224346109532620542"
     }
    },
    "outputId": "3cb1e8a4-0c9f-4ac0-e95a-c9cbaa386276"
   },
   "source": [
    "#series 생성\n",
    "Series(data=[2500,3800,1200,6000],index=[\"apple\",\"banana\",\"peer\",\"cherry\"])"
   ],
   "execution_count": null,
   "outputs": [
    {
     "output_type": "execute_result",
     "data": {
      "text/plain": [
       "apple     2500\n",
       "banana    3800\n",
       "peer      1200\n",
       "cherry    6000\n",
       "dtype: int64"
      ]
     },
     "metadata": {},
     "execution_count": 2
    }
   ]
  },
  {
   "cell_type": "code",
   "metadata": {
    "colab": {
     "base_uri": "https://localhost:8080/"
    },
    "id": "7Gd15BwTs_lv",
    "executionInfo": {
     "status": "ok",
     "timestamp": 1629918363907,
     "user_tz": -540,
     "elapsed": 280,
     "user": {
      "displayName": "하이다비",
      "photoUrl": "",
      "userId": "07224346109532620542"
     }
    },
    "outputId": "9e62888a-0c1b-4acd-a269-5847f6bbc7e9"
   },
   "source": [
    "#series 생성\n",
    "pd.Series(data=[2500,3800,1200,6000],index=[\"apple\",\"banana\",\"peer\",\"cherry\"])"
   ],
   "execution_count": null,
   "outputs": [
    {
     "output_type": "execute_result",
     "data": {
      "text/plain": [
       "apple     2500\n",
       "banana    3800\n",
       "peer      1200\n",
       "cherry    6000\n",
       "dtype: int64"
      ]
     },
     "metadata": {},
     "execution_count": 3
    }
   ]
  },
  {
   "cell_type": "code",
   "metadata": {
    "colab": {
     "base_uri": "https://localhost:8080/"
    },
    "id": "aWZG5UU6s_lw",
    "executionInfo": {
     "status": "ok",
     "timestamp": 1629918387157,
     "user_tz": -540,
     "elapsed": 283,
     "user": {
      "displayName": "하이다비",
      "photoUrl": "",
      "userId": "07224346109532620542"
     }
    },
    "outputId": "306a2b59-8494-434d-e20f-8ea8eafd4989"
   },
   "source": [
    "data=[2500,3800,1200,6000]\n",
    "value=[\"apple\",\"banana\",\"peer\",\"cherry\"]\n",
    "\n",
    "fruit = pd.Series(data=data, #더 축약가능하다.\n",
    "                 index=value)\n",
    "fruit"
   ],
   "execution_count": null,
   "outputs": [
    {
     "output_type": "execute_result",
     "data": {
      "text/plain": [
       "apple     2500\n",
       "banana    3800\n",
       "peer      1200\n",
       "cherry    6000\n",
       "dtype: int64"
      ]
     },
     "metadata": {},
     "execution_count": 4
    }
   ]
  },
  {
   "cell_type": "code",
   "metadata": {
    "colab": {
     "base_uri": "https://localhost:8080/"
    },
    "id": "hJx6npTjs_lw",
    "executionInfo": {
     "status": "ok",
     "timestamp": 1629918403090,
     "user_tz": -540,
     "elapsed": 344,
     "user": {
      "displayName": "하이다비",
      "photoUrl": "",
      "userId": "07224346109532620542"
     }
    },
    "outputId": "95f71265-f65d-43d2-e7da-c7cf482135ff"
   },
   "source": [
    "fruit.values"
   ],
   "execution_count": null,
   "outputs": [
    {
     "output_type": "execute_result",
     "data": {
      "text/plain": [
       "array([2500, 3800, 1200, 6000])"
      ]
     },
     "metadata": {},
     "execution_count": 5
    }
   ]
  },
  {
   "cell_type": "code",
   "metadata": {
    "colab": {
     "base_uri": "https://localhost:8080/"
    },
    "id": "avc4KscEs_lw",
    "executionInfo": {
     "status": "ok",
     "timestamp": 1629918406645,
     "user_tz": -540,
     "elapsed": 279,
     "user": {
      "displayName": "하이다비",
      "photoUrl": "",
      "userId": "07224346109532620542"
     }
    },
    "outputId": "7ef7649d-bfe6-4edc-9be6-3809c8d7668c"
   },
   "source": [
    "fruit.index"
   ],
   "execution_count": null,
   "outputs": [
    {
     "output_type": "execute_result",
     "data": {
      "text/plain": [
       "Index(['apple', 'banana', 'peer', 'cherry'], dtype='object')"
      ]
     },
     "metadata": {},
     "execution_count": 6
    }
   ]
  },
  {
   "cell_type": "code",
   "metadata": {
    "id": "7PGX7Tpas_lx",
    "executionInfo": {
     "status": "ok",
     "timestamp": 1630216949122,
     "user_tz": -540,
     "elapsed": 469,
     "user": {
      "displayName": "하이다비",
      "photoUrl": "",
      "userId": "07224346109532620542"
     }
    }
   },
   "source": [
    "fruitData = {\"apple\":2500,\"banana\":3800,\"peer\":1200,\"cherry\":6000}\n",
    "fruit = pd.Series(fruitData)"
   ],
   "execution_count": 4,
   "outputs": []
  },
  {
   "cell_type": "code",
   "metadata": {
    "colab": {
     "base_uri": "https://localhost:8080/"
    },
    "id": "rW0FkWpFgt9I",
    "executionInfo": {
     "status": "ok",
     "timestamp": 1630216949502,
     "user_tz": -540,
     "elapsed": 3,
     "user": {
      "displayName": "하이다비",
      "photoUrl": "",
      "userId": "07224346109532620542"
     }
    },
    "outputId": "cc668c31-eabe-41ee-d4db-b425757aab74"
   },
   "source": [
    "type(fruitData)"
   ],
   "execution_count": 5,
   "outputs": [
    {
     "output_type": "execute_result",
     "data": {
      "text/plain": [
       "dict"
      ]
     },
     "metadata": {},
     "execution_count": 5
    }
   ]
  },
  {
   "cell_type": "code",
   "metadata": {
    "colab": {
     "base_uri": "https://localhost:8080/"
    },
    "id": "1qBiLRzMs_lx",
    "executionInfo": {
     "status": "ok",
     "timestamp": 1629991298304,
     "user_tz": -540,
     "elapsed": 273,
     "user": {
      "displayName": "하이다비",
      "photoUrl": "",
      "userId": "07224346109532620542"
     }
    },
    "outputId": "f283a44a-1ff0-493e-cd59-ffe564cc5ebd"
   },
   "source": [
    "data=[2500,3800,1200,6000]\n",
    "value=[\"apple\",\"banana\",\"peer\",\"cherry\"]\n",
    "\n",
    "fruit = pd.Series(data,value)\n",
    "fruit"
   ],
   "execution_count": null,
   "outputs": [
    {
     "output_type": "execute_result",
     "data": {
      "text/plain": [
       "apple     2500\n",
       "banana    3800\n",
       "peer      1200\n",
       "cherry    6000\n",
       "dtype: int64"
      ]
     },
     "metadata": {},
     "execution_count": 5
    }
   ]
  },
  {
   "cell_type": "code",
   "metadata": {
    "id": "9vwz0TEds_ly"
   },
   "source": [
    "fruitData = {\"apple\":2500,\"banana\":3800,\"peer\":1200,\"cherry\":6000}\n",
    "fruit = pd.Series(fruitData)"
   ],
   "execution_count": null,
   "outputs": []
  },
  {
   "cell_type": "code",
   "metadata": {
    "colab": {
     "base_uri": "https://localhost:8080/"
    },
    "id": "h-dkbXuUs_ly",
    "executionInfo": {
     "status": "ok",
     "timestamp": 1629918441150,
     "user_tz": -540,
     "elapsed": 271,
     "user": {
      "displayName": "하이다비",
      "photoUrl": "",
      "userId": "07224346109532620542"
     }
    },
    "outputId": "3b610b99-cd27-4e72-84b6-c1598510a33f"
   },
   "source": [
    "type(fruitData)"
   ],
   "execution_count": null,
   "outputs": [
    {
     "output_type": "execute_result",
     "data": {
      "text/plain": [
       "dict"
      ]
     },
     "metadata": {},
     "execution_count": 9
    }
   ]
  },
  {
   "cell_type": "code",
   "metadata": {
    "colab": {
     "base_uri": "https://localhost:8080/"
    },
    "id": "x3-IdZWks_ly",
    "executionInfo": {
     "status": "ok",
     "timestamp": 1629918443039,
     "user_tz": -540,
     "elapsed": 4,
     "user": {
      "displayName": "하이다비",
      "photoUrl": "",
      "userId": "07224346109532620542"
     }
    },
    "outputId": "6810c356-bdf3-4457-fdb3-0ceebfafbcb8"
   },
   "source": [
    "type(fruit)"
   ],
   "execution_count": null,
   "outputs": [
    {
     "output_type": "execute_result",
     "data": {
      "text/plain": [
       "pandas.core.series.Series"
      ]
     },
     "metadata": {},
     "execution_count": 10
    }
   ]
  },
  {
   "cell_type": "code",
   "metadata": {
    "id": "zv4tXkIVs_lz"
   },
   "source": [
    "fruit.name=\"fruitPrice\"\n",
    "fruit.index.name= \"fruitName\""
   ],
   "execution_count": null,
   "outputs": []
  },
  {
   "cell_type": "code",
   "metadata": {
    "colab": {
     "base_uri": "https://localhost:8080/"
    },
    "id": "RhKYZ-9zDZZq",
    "executionInfo": {
     "status": "ok",
     "timestamp": 1629991313981,
     "user_tz": -540,
     "elapsed": 341,
     "user": {
      "displayName": "하이다비",
      "photoUrl": "",
      "userId": "07224346109532620542"
     }
    },
    "outputId": "f6f062bc-9123-4888-906b-6e993d275216"
   },
   "source": [
    "fruit"
   ],
   "execution_count": null,
   "outputs": [
    {
     "output_type": "execute_result",
     "data": {
      "text/plain": [
       "fruitName\n",
       "apple     2500\n",
       "banana    3800\n",
       "peer      1200\n",
       "cherry    6000\n",
       "Name: fruitPrice, dtype: int64"
      ]
     },
     "metadata": {},
     "execution_count": 7
    }
   ]
  },
  {
   "cell_type": "code",
   "metadata": {
    "colab": {
     "base_uri": "https://localhost:8080/"
    },
    "id": "40DWjQedDciZ",
    "executionInfo": {
     "status": "ok",
     "timestamp": 1629991332561,
     "user_tz": -540,
     "elapsed": 285,
     "user": {
      "displayName": "하이다비",
      "photoUrl": "",
      "userId": "07224346109532620542"
     }
    },
    "outputId": "fbdd8157-ce09-4b42-af1e-4408d85d3833"
   },
   "source": [
    "fruit.values"
   ],
   "execution_count": null,
   "outputs": [
    {
     "output_type": "execute_result",
     "data": {
      "text/plain": [
       "array([2500, 3800, 1200, 6000])"
      ]
     },
     "metadata": {},
     "execution_count": 8
    }
   ]
  },
  {
   "cell_type": "code",
   "metadata": {
    "colab": {
     "base_uri": "https://localhost:8080/"
    },
    "id": "lMEGn2-oDfMP",
    "executionInfo": {
     "status": "ok",
     "timestamp": 1629991342622,
     "user_tz": -540,
     "elapsed": 309,
     "user": {
      "displayName": "하이다비",
      "photoUrl": "",
      "userId": "07224346109532620542"
     }
    },
    "outputId": "d7247af3-8483-4655-f493-7f4e0809c062"
   },
   "source": [
    "fruit.index"
   ],
   "execution_count": null,
   "outputs": [
    {
     "output_type": "execute_result",
     "data": {
      "text/plain": [
       "Index(['apple', 'banana', 'peer', 'cherry'], dtype='object', name='fruitName')"
      ]
     },
     "metadata": {},
     "execution_count": 9
    }
   ]
  },
  {
   "cell_type": "markdown",
   "metadata": {
    "id": "xrLhEgsbs_lz"
   },
   "source": [
    "### 데이터 자료"
   ]
  },
  {
   "cell_type": "code",
   "metadata": {
    "id": "TwTlABc8s_lz"
   },
   "source": [
    "data = [2500,3800,1200,6000]\n",
    "value = [\"apple\",\"banana\",\"peer\",\"cherry\"]\n",
    "\n",
    "fruitData = {\"apple\":2500,\"banana\":3800, \"peer\":1200,\"cherry\":6000}\n",
    "\n",
    "fruitData = {\"fruitName\":[\"apple\",\"banana\",\"cherry\",\"peer\"],\n",
    "            \"fruitPrice\":[2500,3800,6000,1200],\n",
    "            \"num\":[10,5,3,8]}"
   ],
   "execution_count": null,
   "outputs": []
  },
  {
   "cell_type": "code",
   "metadata": {
    "colab": {
     "base_uri": "https://localhost:8080/",
     "height": 173
    },
    "id": "4LyTKeOGs_l0",
    "executionInfo": {
     "status": "ok",
     "timestamp": 1629992036680,
     "user_tz": -540,
     "elapsed": 375,
     "user": {
      "displayName": "하이다비",
      "photoUrl": "",
      "userId": "07224346109532620542"
     }
    },
    "outputId": "b8405736-cb08-4879-bafa-17f27de468ae"
   },
   "source": [
    "fruitFrame = pd.DataFrame(fruitData)\n",
    "fruitFrame"
   ],
   "execution_count": null,
   "outputs": [
    {
     "output_type": "execute_result",
     "data": {
      "text/html": [
       "<div>\n",
       "<style scoped>\n",
       "    .dataframe tbody tr th:only-of-type {\n",
       "        vertical-align: middle;\n",
       "    }\n",
       "\n",
       "    .dataframe tbody tr th {\n",
       "        vertical-align: top;\n",
       "    }\n",
       "\n",
       "    .dataframe thead th {\n",
       "        text-align: right;\n",
       "    }\n",
       "</style>\n",
       "<table border=\"1\" class=\"dataframe\">\n",
       "  <thead>\n",
       "    <tr style=\"text-align: right;\">\n",
       "      <th></th>\n",
       "      <th>fruitName</th>\n",
       "      <th>fruitPrice</th>\n",
       "      <th>num</th>\n",
       "    </tr>\n",
       "  </thead>\n",
       "  <tbody>\n",
       "    <tr>\n",
       "      <th>0</th>\n",
       "      <td>apple</td>\n",
       "      <td>2500</td>\n",
       "      <td>10</td>\n",
       "    </tr>\n",
       "    <tr>\n",
       "      <th>1</th>\n",
       "      <td>banana</td>\n",
       "      <td>3800</td>\n",
       "      <td>5</td>\n",
       "    </tr>\n",
       "    <tr>\n",
       "      <th>2</th>\n",
       "      <td>cherry</td>\n",
       "      <td>6000</td>\n",
       "      <td>3</td>\n",
       "    </tr>\n",
       "    <tr>\n",
       "      <th>3</th>\n",
       "      <td>peer</td>\n",
       "      <td>1200</td>\n",
       "      <td>8</td>\n",
       "    </tr>\n",
       "  </tbody>\n",
       "</table>\n",
       "</div>"
      ],
      "text/plain": [
       "  fruitName  fruitPrice  num\n",
       "0     apple        2500   10\n",
       "1    banana        3800    5\n",
       "2    cherry        6000    3\n",
       "3      peer        1200    8"
      ]
     },
     "metadata": {},
     "execution_count": 15
    }
   ]
  },
  {
   "cell_type": "code",
   "metadata": {
    "colab": {
     "base_uri": "https://localhost:8080/",
     "height": 173
    },
    "id": "yzsE0J0ws_l0",
    "executionInfo": {
     "status": "ok",
     "timestamp": 1629992038214,
     "user_tz": -540,
     "elapsed": 5,
     "user": {
      "displayName": "하이다비",
      "photoUrl": "",
      "userId": "07224346109532620542"
     }
    },
    "outputId": "99dc9332-fed8-4762-87df-87e7d6b0082c"
   },
   "source": [
    "fruit=pd.DataFrame(fruitData, columns=[\"fruitPrice\",\"num\",\"fruitName\"])\n",
    "fruit"
   ],
   "execution_count": null,
   "outputs": [
    {
     "output_type": "execute_result",
     "data": {
      "text/html": [
       "<div>\n",
       "<style scoped>\n",
       "    .dataframe tbody tr th:only-of-type {\n",
       "        vertical-align: middle;\n",
       "    }\n",
       "\n",
       "    .dataframe tbody tr th {\n",
       "        vertical-align: top;\n",
       "    }\n",
       "\n",
       "    .dataframe thead th {\n",
       "        text-align: right;\n",
       "    }\n",
       "</style>\n",
       "<table border=\"1\" class=\"dataframe\">\n",
       "  <thead>\n",
       "    <tr style=\"text-align: right;\">\n",
       "      <th></th>\n",
       "      <th>fruitPrice</th>\n",
       "      <th>num</th>\n",
       "      <th>fruitName</th>\n",
       "    </tr>\n",
       "  </thead>\n",
       "  <tbody>\n",
       "    <tr>\n",
       "      <th>0</th>\n",
       "      <td>2500</td>\n",
       "      <td>10</td>\n",
       "      <td>apple</td>\n",
       "    </tr>\n",
       "    <tr>\n",
       "      <th>1</th>\n",
       "      <td>3800</td>\n",
       "      <td>5</td>\n",
       "      <td>banana</td>\n",
       "    </tr>\n",
       "    <tr>\n",
       "      <th>2</th>\n",
       "      <td>6000</td>\n",
       "      <td>3</td>\n",
       "      <td>cherry</td>\n",
       "    </tr>\n",
       "    <tr>\n",
       "      <th>3</th>\n",
       "      <td>1200</td>\n",
       "      <td>8</td>\n",
       "      <td>peer</td>\n",
       "    </tr>\n",
       "  </tbody>\n",
       "</table>\n",
       "</div>"
      ],
      "text/plain": [
       "   fruitPrice  num fruitName\n",
       "0        2500   10     apple\n",
       "1        3800    5    banana\n",
       "2        6000    3    cherry\n",
       "3        1200    8      peer"
      ]
     },
     "metadata": {},
     "execution_count": 16
    }
   ]
  },
  {
   "cell_type": "code",
   "metadata": {
    "colab": {
     "base_uri": "https://localhost:8080/"
    },
    "id": "-SYyCLbns_l1",
    "executionInfo": {
     "status": "ok",
     "timestamp": 1629992039661,
     "user_tz": -540,
     "elapsed": 252,
     "user": {
      "displayName": "하이다비",
      "photoUrl": "",
      "userId": "07224346109532620542"
     }
    },
    "outputId": "81019e4a-2cda-4e02-a14f-ae04f913bd27"
   },
   "source": [
    "#데이터 프레임 명.키값\n",
    "fruitFrame[\"fruitName\"]"
   ],
   "execution_count": null,
   "outputs": [
    {
     "output_type": "execute_result",
     "data": {
      "text/plain": [
       "0     apple\n",
       "1    banana\n",
       "2    cherry\n",
       "3      peer\n",
       "Name: fruitName, dtype: object"
      ]
     },
     "metadata": {},
     "execution_count": 17
    }
   ]
  },
  {
   "cell_type": "code",
   "metadata": {
    "colab": {
     "base_uri": "https://localhost:8080/"
    },
    "id": "Cpgo-Wkns_l1",
    "executionInfo": {
     "status": "ok",
     "timestamp": 1629992040582,
     "user_tz": -540,
     "elapsed": 4,
     "user": {
      "displayName": "하이다비",
      "photoUrl": "",
      "userId": "07224346109532620542"
     }
    },
    "outputId": "47c981b5-a35e-4ecc-d99e-5c75d19a8295"
   },
   "source": [
    "#데이터 프레임 명.키값\n",
    "fruitFrame.fruitName"
   ],
   "execution_count": null,
   "outputs": [
    {
     "output_type": "execute_result",
     "data": {
      "text/plain": [
       "0     apple\n",
       "1    banana\n",
       "2    cherry\n",
       "3      peer\n",
       "Name: fruitName, dtype: object"
      ]
     },
     "metadata": {},
     "execution_count": 18
    }
   ]
  },
  {
   "cell_type": "code",
   "metadata": {
    "colab": {
     "base_uri": "https://localhost:8080/",
     "height": 173
    },
    "id": "M3yYA1QaGR7Y",
    "executionInfo": {
     "status": "ok",
     "timestamp": 1629992085711,
     "user_tz": -540,
     "elapsed": 263,
     "user": {
      "displayName": "하이다비",
      "photoUrl": "",
      "userId": "07224346109532620542"
     }
    },
    "outputId": "3289e150-e036-4e27-ebf8-b174270ae356"
   },
   "source": [
    "fruitFrame[\"year\"]=2016\n",
    "fruitFrame"
   ],
   "execution_count": null,
   "outputs": [
    {
     "output_type": "execute_result",
     "data": {
      "text/html": [
       "<div>\n",
       "<style scoped>\n",
       "    .dataframe tbody tr th:only-of-type {\n",
       "        vertical-align: middle;\n",
       "    }\n",
       "\n",
       "    .dataframe tbody tr th {\n",
       "        vertical-align: top;\n",
       "    }\n",
       "\n",
       "    .dataframe thead th {\n",
       "        text-align: right;\n",
       "    }\n",
       "</style>\n",
       "<table border=\"1\" class=\"dataframe\">\n",
       "  <thead>\n",
       "    <tr style=\"text-align: right;\">\n",
       "      <th></th>\n",
       "      <th>fruitName</th>\n",
       "      <th>fruitPrice</th>\n",
       "      <th>num</th>\n",
       "      <th>stock</th>\n",
       "      <th>year</th>\n",
       "    </tr>\n",
       "  </thead>\n",
       "  <tbody>\n",
       "    <tr>\n",
       "      <th>0</th>\n",
       "      <td>apple</td>\n",
       "      <td>2500</td>\n",
       "      <td>10</td>\n",
       "      <td>4.0</td>\n",
       "      <td>2016</td>\n",
       "    </tr>\n",
       "    <tr>\n",
       "      <th>1</th>\n",
       "      <td>banana</td>\n",
       "      <td>3800</td>\n",
       "      <td>5</td>\n",
       "      <td>NaN</td>\n",
       "      <td>2016</td>\n",
       "    </tr>\n",
       "    <tr>\n",
       "      <th>2</th>\n",
       "      <td>cherry</td>\n",
       "      <td>6000</td>\n",
       "      <td>3</td>\n",
       "      <td>2.0</td>\n",
       "      <td>2016</td>\n",
       "    </tr>\n",
       "    <tr>\n",
       "      <th>3</th>\n",
       "      <td>peer</td>\n",
       "      <td>1200</td>\n",
       "      <td>8</td>\n",
       "      <td>1.0</td>\n",
       "      <td>2016</td>\n",
       "    </tr>\n",
       "  </tbody>\n",
       "</table>\n",
       "</div>"
      ],
      "text/plain": [
       "  fruitName  fruitPrice  num  stock  year\n",
       "0     apple        2500   10    4.0  2016\n",
       "1    banana        3800    5    NaN  2016\n",
       "2    cherry        6000    3    2.0  2016\n",
       "3      peer        1200    8    1.0  2016"
      ]
     },
     "metadata": {},
     "execution_count": 21
    }
   ]
  },
  {
   "cell_type": "code",
   "metadata": {
    "colab": {
     "base_uri": "https://localhost:8080/"
    },
    "id": "7AM8e63YEDqn",
    "executionInfo": {
     "status": "ok",
     "timestamp": 1629992042070,
     "user_tz": -540,
     "elapsed": 243,
     "user": {
      "displayName": "하이다비",
      "photoUrl": "",
      "userId": "07224346109532620542"
     }
    },
    "outputId": "0b5d8bc0-2b49-49b3-a06f-b35a3427c293"
   },
   "source": [
    "# 컬럼추가\n",
    "variable = pd.Series([4,2,1], index=[0,2,3])\n",
    "variable"
   ],
   "execution_count": null,
   "outputs": [
    {
     "output_type": "execute_result",
     "data": {
      "text/plain": [
       "0    4\n",
       "2    2\n",
       "3    1\n",
       "dtype: int64"
      ]
     },
     "metadata": {},
     "execution_count": 19
    }
   ]
  },
  {
   "cell_type": "code",
   "metadata": {
    "colab": {
     "base_uri": "https://localhost:8080/",
     "height": 173
    },
    "id": "gisjgkzPEdeF",
    "executionInfo": {
     "status": "ok",
     "timestamp": 1629992043469,
     "user_tz": -540,
     "elapsed": 410,
     "user": {
      "displayName": "하이다비",
      "photoUrl": "",
      "userId": "07224346109532620542"
     }
    },
    "outputId": "689890c5-1842-4fc3-8f35-00c911ae32f0"
   },
   "source": [
    "fruitFrame[\"stock\"] = variable\n",
    "fruitFrame"
   ],
   "execution_count": null,
   "outputs": [
    {
     "output_type": "execute_result",
     "data": {
      "text/html": [
       "<div>\n",
       "<style scoped>\n",
       "    .dataframe tbody tr th:only-of-type {\n",
       "        vertical-align: middle;\n",
       "    }\n",
       "\n",
       "    .dataframe tbody tr th {\n",
       "        vertical-align: top;\n",
       "    }\n",
       "\n",
       "    .dataframe thead th {\n",
       "        text-align: right;\n",
       "    }\n",
       "</style>\n",
       "<table border=\"1\" class=\"dataframe\">\n",
       "  <thead>\n",
       "    <tr style=\"text-align: right;\">\n",
       "      <th></th>\n",
       "      <th>fruitName</th>\n",
       "      <th>fruitPrice</th>\n",
       "      <th>num</th>\n",
       "      <th>stock</th>\n",
       "    </tr>\n",
       "  </thead>\n",
       "  <tbody>\n",
       "    <tr>\n",
       "      <th>0</th>\n",
       "      <td>apple</td>\n",
       "      <td>2500</td>\n",
       "      <td>10</td>\n",
       "      <td>4.0</td>\n",
       "    </tr>\n",
       "    <tr>\n",
       "      <th>1</th>\n",
       "      <td>banana</td>\n",
       "      <td>3800</td>\n",
       "      <td>5</td>\n",
       "      <td>NaN</td>\n",
       "    </tr>\n",
       "    <tr>\n",
       "      <th>2</th>\n",
       "      <td>cherry</td>\n",
       "      <td>6000</td>\n",
       "      <td>3</td>\n",
       "      <td>2.0</td>\n",
       "    </tr>\n",
       "    <tr>\n",
       "      <th>3</th>\n",
       "      <td>peer</td>\n",
       "      <td>1200</td>\n",
       "      <td>8</td>\n",
       "      <td>1.0</td>\n",
       "    </tr>\n",
       "  </tbody>\n",
       "</table>\n",
       "</div>"
      ],
      "text/plain": [
       "  fruitName  fruitPrice  num  stock\n",
       "0     apple        2500   10    4.0\n",
       "1    banana        3800    5    NaN\n",
       "2    cherry        6000    3    2.0\n",
       "3      peer        1200    8    1.0"
      ]
     },
     "metadata": {},
     "execution_count": 20
    }
   ]
  },
  {
   "cell_type": "code",
   "metadata": {
    "colab": {
     "base_uri": "https://localhost:8080/"
    },
    "id": "K4A04-H-Edbz",
    "executionInfo": {
     "status": "ok",
     "timestamp": 1629992190101,
     "user_tz": -540,
     "elapsed": 247,
     "user": {
      "displayName": "하이다비",
      "photoUrl": "",
      "userId": "07224346109532620542"
     }
    },
    "outputId": "338ba3d3-4e07-4bc0-cca9-9c8f732b5323"
   },
   "source": [
    "data = [2500,3800,1200,6000]\n",
    "value = [\"apple\", \"banana\",\"peer\",\"cherry\"]\n",
    "fruit = pd.Series(data=data, index=value)\n",
    "fruit"
   ],
   "execution_count": null,
   "outputs": [
    {
     "output_type": "execute_result",
     "data": {
      "text/plain": [
       "apple     2500\n",
       "banana    3800\n",
       "peer      1200\n",
       "cherry    6000\n",
       "dtype: int64"
      ]
     },
     "metadata": {},
     "execution_count": 22
    }
   ]
  },
  {
   "cell_type": "code",
   "metadata": {
    "colab": {
     "base_uri": "https://localhost:8080/"
    },
    "id": "Mk-wbCgAEdZG",
    "executionInfo": {
     "status": "ok",
     "timestamp": 1629992208204,
     "user_tz": -540,
     "elapsed": 553,
     "user": {
      "displayName": "하이다비",
      "photoUrl": "",
      "userId": "07224346109532620542"
     }
    },
    "outputId": "2d4b950f-80df-42a9-98ad-d78d817cf8a0"
   },
   "source": [
    "fruit.drop(\"banana\")"
   ],
   "execution_count": null,
   "outputs": [
    {
     "output_type": "execute_result",
     "data": {
      "text/plain": [
       "apple     2500\n",
       "peer      1200\n",
       "cherry    6000\n",
       "dtype: int64"
      ]
     },
     "metadata": {},
     "execution_count": 23
    }
   ]
  },
  {
   "cell_type": "code",
   "metadata": {
    "colab": {
     "base_uri": "https://localhost:8080/"
    },
    "id": "_zVZXWSNEdVk",
    "executionInfo": {
     "status": "ok",
     "timestamp": 1629992242651,
     "user_tz": -540,
     "elapsed": 242,
     "user": {
      "displayName": "하이다비",
      "photoUrl": "",
      "userId": "07224346109532620542"
     }
    },
    "outputId": "06534a57-37b0-4c02-a6b2-6bb32cee429d"
   },
   "source": [
    "new_fruit = fruit.drop(\"banana\")\n",
    "print(fruit)\n",
    "print(\"-\"*20)\n",
    "print(new_fruit)"
   ],
   "execution_count": null,
   "outputs": [
    {
     "output_type": "stream",
     "text": [
      "apple     2500\n",
      "banana    3800\n",
      "peer      1200\n",
      "cherry    6000\n",
      "dtype: int64\n",
      "--------------------\n",
      "apple     2500\n",
      "peer      1200\n",
      "cherry    6000\n",
      "dtype: int64\n"
     ],
     "name": "stdout"
    }
   ]
  },
  {
   "cell_type": "code",
   "metadata": {
    "id": "JeYOvZOqEdSv"
   },
   "source": [
    "fruitData = {\"fruitName\":[\"apple\",\"banana\",\"cherry\",\"peer\"],\n",
    "             \"fruitPrice\":[2500,3800,6000,1200],\n",
    "             \"num\":[10,5,3,8]\n",
    "             }"
   ],
   "execution_count": null,
   "outputs": []
  },
  {
   "cell_type": "code",
   "metadata": {
    "id": "amF_WLkwEdNa"
   },
   "source": [
    "fruitName= fruitData['fruitName']"
   ],
   "execution_count": null,
   "outputs": []
  },
  {
   "cell_type": "code",
   "metadata": {
    "colab": {
     "base_uri": "https://localhost:8080/",
     "height": 173
    },
    "id": "DcpPjmL8EdKN",
    "executionInfo": {
     "status": "ok",
     "timestamp": 1629992504265,
     "user_tz": -540,
     "elapsed": 238,
     "user": {
      "displayName": "하이다비",
      "photoUrl": "",
      "userId": "07224346109532620542"
     }
    },
    "outputId": "447f9792-793a-469f-ed94-701d3e3f9b82"
   },
   "source": [
    "pd.DataFrame(fruitData, index=fruitName,\n",
    "             columns=[\"fruitPrice\",\"num\"])"
   ],
   "execution_count": null,
   "outputs": [
    {
     "output_type": "execute_result",
     "data": {
      "text/html": [
       "<div>\n",
       "<style scoped>\n",
       "    .dataframe tbody tr th:only-of-type {\n",
       "        vertical-align: middle;\n",
       "    }\n",
       "\n",
       "    .dataframe tbody tr th {\n",
       "        vertical-align: top;\n",
       "    }\n",
       "\n",
       "    .dataframe thead th {\n",
       "        text-align: right;\n",
       "    }\n",
       "</style>\n",
       "<table border=\"1\" class=\"dataframe\">\n",
       "  <thead>\n",
       "    <tr style=\"text-align: right;\">\n",
       "      <th></th>\n",
       "      <th>fruitPrice</th>\n",
       "      <th>num</th>\n",
       "    </tr>\n",
       "  </thead>\n",
       "  <tbody>\n",
       "    <tr>\n",
       "      <th>apple</th>\n",
       "      <td>2500</td>\n",
       "      <td>10</td>\n",
       "    </tr>\n",
       "    <tr>\n",
       "      <th>banana</th>\n",
       "      <td>3800</td>\n",
       "      <td>5</td>\n",
       "    </tr>\n",
       "    <tr>\n",
       "      <th>cherry</th>\n",
       "      <td>6000</td>\n",
       "      <td>3</td>\n",
       "    </tr>\n",
       "    <tr>\n",
       "      <th>peer</th>\n",
       "      <td>1200</td>\n",
       "      <td>8</td>\n",
       "    </tr>\n",
       "  </tbody>\n",
       "</table>\n",
       "</div>"
      ],
      "text/plain": [
       "        fruitPrice  num\n",
       "apple         2500   10\n",
       "banana        3800    5\n",
       "cherry        6000    3\n",
       "peer          1200    8"
      ]
     },
     "metadata": {},
     "execution_count": 29
    }
   ]
  },
  {
   "cell_type": "code",
   "metadata": {
    "colab": {
     "base_uri": "https://localhost:8080/",
     "height": 173
    },
    "id": "N_ujZ9EREdHs",
    "executionInfo": {
     "status": "ok",
     "timestamp": 1629992514074,
     "user_tz": -540,
     "elapsed": 251,
     "user": {
      "displayName": "하이다비",
      "photoUrl": "",
      "userId": "07224346109532620542"
     }
    },
    "outputId": "907bdc03-2257-420c-cdae-dbe4c28f02e6"
   },
   "source": [
    "fruitFrame = pd.DataFrame(fruitData, index=fruitName,\n",
    "                          columns=[\"fruitPrice\",\"num\"])\n",
    "fruitFrame"
   ],
   "execution_count": null,
   "outputs": [
    {
     "output_type": "execute_result",
     "data": {
      "text/html": [
       "<div>\n",
       "<style scoped>\n",
       "    .dataframe tbody tr th:only-of-type {\n",
       "        vertical-align: middle;\n",
       "    }\n",
       "\n",
       "    .dataframe tbody tr th {\n",
       "        vertical-align: top;\n",
       "    }\n",
       "\n",
       "    .dataframe thead th {\n",
       "        text-align: right;\n",
       "    }\n",
       "</style>\n",
       "<table border=\"1\" class=\"dataframe\">\n",
       "  <thead>\n",
       "    <tr style=\"text-align: right;\">\n",
       "      <th></th>\n",
       "      <th>fruitPrice</th>\n",
       "      <th>num</th>\n",
       "    </tr>\n",
       "  </thead>\n",
       "  <tbody>\n",
       "    <tr>\n",
       "      <th>apple</th>\n",
       "      <td>2500</td>\n",
       "      <td>10</td>\n",
       "    </tr>\n",
       "    <tr>\n",
       "      <th>banana</th>\n",
       "      <td>3800</td>\n",
       "      <td>5</td>\n",
       "    </tr>\n",
       "    <tr>\n",
       "      <th>cherry</th>\n",
       "      <td>6000</td>\n",
       "      <td>3</td>\n",
       "    </tr>\n",
       "    <tr>\n",
       "      <th>peer</th>\n",
       "      <td>1200</td>\n",
       "      <td>8</td>\n",
       "    </tr>\n",
       "  </tbody>\n",
       "</table>\n",
       "</div>"
      ],
      "text/plain": [
       "        fruitPrice  num\n",
       "apple         2500   10\n",
       "banana        3800    5\n",
       "cherry        6000    3\n",
       "peer          1200    8"
      ]
     },
     "metadata": {},
     "execution_count": 31
    }
   ]
  },
  {
   "cell_type": "code",
   "metadata": {
    "colab": {
     "base_uri": "https://localhost:8080/",
     "height": 111
    },
    "id": "QXfU4fAWEdEp",
    "executionInfo": {
     "status": "ok",
     "timestamp": 1629992556370,
     "user_tz": -540,
     "elapsed": 262,
     "user": {
      "displayName": "하이다비",
      "photoUrl": "",
      "userId": "07224346109532620542"
     }
    },
    "outputId": "f9927ed4-9aa8-47df-9d19-2531ace7c7e2"
   },
   "source": [
    "fruitFrame.drop([\"apple\",\"cherry\"])"
   ],
   "execution_count": null,
   "outputs": [
    {
     "output_type": "execute_result",
     "data": {
      "text/html": [
       "<div>\n",
       "<style scoped>\n",
       "    .dataframe tbody tr th:only-of-type {\n",
       "        vertical-align: middle;\n",
       "    }\n",
       "\n",
       "    .dataframe tbody tr th {\n",
       "        vertical-align: top;\n",
       "    }\n",
       "\n",
       "    .dataframe thead th {\n",
       "        text-align: right;\n",
       "    }\n",
       "</style>\n",
       "<table border=\"1\" class=\"dataframe\">\n",
       "  <thead>\n",
       "    <tr style=\"text-align: right;\">\n",
       "      <th></th>\n",
       "      <th>fruitPrice</th>\n",
       "      <th>num</th>\n",
       "    </tr>\n",
       "  </thead>\n",
       "  <tbody>\n",
       "    <tr>\n",
       "      <th>banana</th>\n",
       "      <td>3800</td>\n",
       "      <td>5</td>\n",
       "    </tr>\n",
       "    <tr>\n",
       "      <th>peer</th>\n",
       "      <td>1200</td>\n",
       "      <td>8</td>\n",
       "    </tr>\n",
       "  </tbody>\n",
       "</table>\n",
       "</div>"
      ],
      "text/plain": [
       "        fruitPrice  num\n",
       "banana        3800    5\n",
       "peer          1200    8"
      ]
     },
     "metadata": {},
     "execution_count": 32
    }
   ]
  },
  {
   "cell_type": "code",
   "metadata": {
    "colab": {
     "base_uri": "https://localhost:8080/",
     "height": 111
    },
    "id": "Gxi6y14pEdB8",
    "executionInfo": {
     "status": "ok",
     "timestamp": 1629992713589,
     "user_tz": -540,
     "elapsed": 277,
     "user": {
      "displayName": "하이다비",
      "photoUrl": "",
      "userId": "07224346109532620542"
     }
    },
    "outputId": "7b9605dc-f6d2-487e-e60b-3249d7f659b4"
   },
   "source": [
    "fruitFrame2 = fruitFrame.drop([\"apple\",\"cherry\"])\n",
    "fruitFrame2"
   ],
   "execution_count": null,
   "outputs": [
    {
     "output_type": "execute_result",
     "data": {
      "text/html": [
       "<div>\n",
       "<style scoped>\n",
       "    .dataframe tbody tr th:only-of-type {\n",
       "        vertical-align: middle;\n",
       "    }\n",
       "\n",
       "    .dataframe tbody tr th {\n",
       "        vertical-align: top;\n",
       "    }\n",
       "\n",
       "    .dataframe thead th {\n",
       "        text-align: right;\n",
       "    }\n",
       "</style>\n",
       "<table border=\"1\" class=\"dataframe\">\n",
       "  <thead>\n",
       "    <tr style=\"text-align: right;\">\n",
       "      <th></th>\n",
       "      <th>fruitPrice</th>\n",
       "      <th>num</th>\n",
       "    </tr>\n",
       "  </thead>\n",
       "  <tbody>\n",
       "    <tr>\n",
       "      <th>banana</th>\n",
       "      <td>3800</td>\n",
       "      <td>5</td>\n",
       "    </tr>\n",
       "    <tr>\n",
       "      <th>peer</th>\n",
       "      <td>1200</td>\n",
       "      <td>8</td>\n",
       "    </tr>\n",
       "  </tbody>\n",
       "</table>\n",
       "</div>"
      ],
      "text/plain": [
       "        fruitPrice  num\n",
       "banana        3800    5\n",
       "peer          1200    8"
      ]
     },
     "metadata": {},
     "execution_count": 36
    }
   ]
  },
  {
   "cell_type": "code",
   "metadata": {
    "colab": {
     "base_uri": "https://localhost:8080/",
     "height": 173
    },
    "id": "5UVUInK_IeLQ",
    "executionInfo": {
     "status": "ok",
     "timestamp": 1629992716907,
     "user_tz": -540,
     "elapsed": 253,
     "user": {
      "displayName": "하이다비",
      "photoUrl": "",
      "userId": "07224346109532620542"
     }
    },
    "outputId": "1b3be2f2-d637-49f7-d310-4ef7277a2c2d"
   },
   "source": [
    "fruitFrame.drop(\"num\", axis =1)\n",
    "#저장을 시켜야 저장된다."
   ],
   "execution_count": null,
   "outputs": [
    {
     "output_type": "execute_result",
     "data": {
      "text/html": [
       "<div>\n",
       "<style scoped>\n",
       "    .dataframe tbody tr th:only-of-type {\n",
       "        vertical-align: middle;\n",
       "    }\n",
       "\n",
       "    .dataframe tbody tr th {\n",
       "        vertical-align: top;\n",
       "    }\n",
       "\n",
       "    .dataframe thead th {\n",
       "        text-align: right;\n",
       "    }\n",
       "</style>\n",
       "<table border=\"1\" class=\"dataframe\">\n",
       "  <thead>\n",
       "    <tr style=\"text-align: right;\">\n",
       "      <th></th>\n",
       "      <th>fruitPrice</th>\n",
       "    </tr>\n",
       "  </thead>\n",
       "  <tbody>\n",
       "    <tr>\n",
       "      <th>apple</th>\n",
       "      <td>2500</td>\n",
       "    </tr>\n",
       "    <tr>\n",
       "      <th>banana</th>\n",
       "      <td>3800</td>\n",
       "    </tr>\n",
       "    <tr>\n",
       "      <th>cherry</th>\n",
       "      <td>6000</td>\n",
       "    </tr>\n",
       "    <tr>\n",
       "      <th>peer</th>\n",
       "      <td>1200</td>\n",
       "    </tr>\n",
       "  </tbody>\n",
       "</table>\n",
       "</div>"
      ],
      "text/plain": [
       "        fruitPrice\n",
       "apple         2500\n",
       "banana        3800\n",
       "cherry        6000\n",
       "peer          1200"
      ]
     },
     "metadata": {},
     "execution_count": 37
    }
   ]
  },
  {
   "cell_type": "code",
   "metadata": {
    "colab": {
     "base_uri": "https://localhost:8080/",
     "height": 173
    },
    "id": "g0UiHHXrEc_D",
    "executionInfo": {
     "status": "ok",
     "timestamp": 1629992700634,
     "user_tz": -540,
     "elapsed": 298,
     "user": {
      "displayName": "하이다비",
      "photoUrl": "",
      "userId": "07224346109532620542"
     }
    },
    "outputId": "9d0455ea-8830-4442-d1a2-4856bcf5d716"
   },
   "source": [
    "fruitFrame3 = fruitFrame.drop(\"num\",axis=1)\n",
    "fruitFrame3"
   ],
   "execution_count": null,
   "outputs": [
    {
     "output_type": "execute_result",
     "data": {
      "text/html": [
       "<div>\n",
       "<style scoped>\n",
       "    .dataframe tbody tr th:only-of-type {\n",
       "        vertical-align: middle;\n",
       "    }\n",
       "\n",
       "    .dataframe tbody tr th {\n",
       "        vertical-align: top;\n",
       "    }\n",
       "\n",
       "    .dataframe thead th {\n",
       "        text-align: right;\n",
       "    }\n",
       "</style>\n",
       "<table border=\"1\" class=\"dataframe\">\n",
       "  <thead>\n",
       "    <tr style=\"text-align: right;\">\n",
       "      <th></th>\n",
       "      <th>fruitPrice</th>\n",
       "    </tr>\n",
       "  </thead>\n",
       "  <tbody>\n",
       "    <tr>\n",
       "      <th>apple</th>\n",
       "      <td>2500</td>\n",
       "    </tr>\n",
       "    <tr>\n",
       "      <th>banana</th>\n",
       "      <td>3800</td>\n",
       "    </tr>\n",
       "    <tr>\n",
       "      <th>cherry</th>\n",
       "      <td>6000</td>\n",
       "    </tr>\n",
       "    <tr>\n",
       "      <th>peer</th>\n",
       "      <td>1200</td>\n",
       "    </tr>\n",
       "  </tbody>\n",
       "</table>\n",
       "</div>"
      ],
      "text/plain": [
       "        fruitPrice\n",
       "apple         2500\n",
       "banana        3800\n",
       "cherry        6000\n",
       "peer          1200"
      ]
     },
     "metadata": {},
     "execution_count": 35
    }
   ]
  },
  {
   "cell_type": "code",
   "metadata": {
    "id": "Nsxo-uv8Ec8Q"
   },
   "source": [
    "tmp = fruitFrame.copy()"
   ],
   "execution_count": null,
   "outputs": []
  },
  {
   "cell_type": "code",
   "metadata": {
    "colab": {
     "base_uri": "https://localhost:8080/",
     "height": 173
    },
    "id": "P9aDNrEZEc5h",
    "executionInfo": {
     "status": "ok",
     "timestamp": 1629992772679,
     "user_tz": -540,
     "elapsed": 355,
     "user": {
      "displayName": "하이다비",
      "photoUrl": "",
      "userId": "07224346109532620542"
     }
    },
    "outputId": "7ae73cc6-661f-4186-9328-0c8620a90a23"
   },
   "source": [
    "tmp.drop(\"num\",axis=1, inplace=True)\n",
    "tmp"
   ],
   "execution_count": null,
   "outputs": [
    {
     "output_type": "execute_result",
     "data": {
      "text/html": [
       "<div>\n",
       "<style scoped>\n",
       "    .dataframe tbody tr th:only-of-type {\n",
       "        vertical-align: middle;\n",
       "    }\n",
       "\n",
       "    .dataframe tbody tr th {\n",
       "        vertical-align: top;\n",
       "    }\n",
       "\n",
       "    .dataframe thead th {\n",
       "        text-align: right;\n",
       "    }\n",
       "</style>\n",
       "<table border=\"1\" class=\"dataframe\">\n",
       "  <thead>\n",
       "    <tr style=\"text-align: right;\">\n",
       "      <th></th>\n",
       "      <th>fruitPrice</th>\n",
       "    </tr>\n",
       "  </thead>\n",
       "  <tbody>\n",
       "    <tr>\n",
       "      <th>apple</th>\n",
       "      <td>2500</td>\n",
       "    </tr>\n",
       "    <tr>\n",
       "      <th>banana</th>\n",
       "      <td>3800</td>\n",
       "    </tr>\n",
       "    <tr>\n",
       "      <th>cherry</th>\n",
       "      <td>6000</td>\n",
       "    </tr>\n",
       "    <tr>\n",
       "      <th>peer</th>\n",
       "      <td>1200</td>\n",
       "    </tr>\n",
       "  </tbody>\n",
       "</table>\n",
       "</div>"
      ],
      "text/plain": [
       "        fruitPrice\n",
       "apple         2500\n",
       "banana        3800\n",
       "cherry        6000\n",
       "peer          1200"
      ]
     },
     "metadata": {},
     "execution_count": 39
    }
   ]
  },
  {
   "cell_type": "code",
   "metadata": {
    "id": "ntowrMD0Ec3A"
   },
   "source": [],
   "execution_count": null,
   "outputs": []
  },
  {
   "cell_type": "code",
   "metadata": {
    "id": "vW7_zN1QEcwW"
   },
   "source": [],
   "execution_count": null,
   "outputs": []
  },
  {
   "cell_type": "code",
   "metadata": {
    "colab": {
     "base_uri": "https://localhost:8080/"
    },
    "id": "caXbexoks_l1",
    "executionInfo": {
     "status": "ok",
     "timestamp": 1629918514231,
     "user_tz": -540,
     "elapsed": 282,
     "user": {
      "displayName": "하이다비",
      "photoUrl": "",
      "userId": "07224346109532620542"
     }
    },
    "outputId": "a7a149d2-d203-4465-f9ee-36a993df1bfa"
   },
   "source": [
    "fruitFrame[\"year\"]=(2016,2017,2018,2019) #새로운 행을 만들고 데이터 값 추가하기\n",
    "print(fruitFrame)"
   ],
   "execution_count": null,
   "outputs": [
    {
     "output_type": "stream",
     "text": [
      "  fruitName  fruitPrice  num  year\n",
      "0     apple        2500   10  2016\n",
      "1    banana        3800    5  2017\n",
      "2    cherry        6000    3  2018\n",
      "3      peer        1200    8  2019\n"
     ],
     "name": "stdout"
    }
   ]
  },
  {
   "cell_type": "code",
   "metadata": {
    "colab": {
     "base_uri": "https://localhost:8080/"
    },
    "id": "z3ydD1Qks_l2",
    "executionInfo": {
     "status": "ok",
     "timestamp": 1629918545136,
     "user_tz": -540,
     "elapsed": 273,
     "user": {
      "displayName": "하이다비",
      "photoUrl": "",
      "userId": "07224346109532620542"
     }
    },
    "outputId": "841964ef-458f-468a-9110-146a707e1642"
   },
   "source": [
    "data = [2500,3800,1200,6000]\n",
    "value = [\"apple\",\"banana\",\"peer\",\"cherry\"]\n",
    "fruit = pd.Series(data=data, index=value)\n",
    "fruit"
   ],
   "execution_count": null,
   "outputs": [
    {
     "output_type": "execute_result",
     "data": {
      "text/plain": [
       "apple     2500\n",
       "banana    3800\n",
       "peer      1200\n",
       "cherry    6000\n",
       "dtype: int64"
      ]
     },
     "metadata": {},
     "execution_count": 20
    }
   ]
  },
  {
   "cell_type": "code",
   "metadata": {
    "colab": {
     "base_uri": "https://localhost:8080/"
    },
    "id": "3MzpiS2TNjyV",
    "executionInfo": {
     "status": "ok",
     "timestamp": 1629993990828,
     "user_tz": -540,
     "elapsed": 672,
     "user": {
      "displayName": "하이다비",
      "photoUrl": "",
      "userId": "07224346109532620542"
     }
    },
    "outputId": "8455fe58-378b-4538-edeb-5468c8781639"
   },
   "source": [
    "fruit[\"apple\":\"peer\"]"
   ],
   "execution_count": null,
   "outputs": [
    {
     "output_type": "execute_result",
     "data": {
      "text/plain": [
       "apple     2500\n",
       "banana    3800\n",
       "peer      1200\n",
       "dtype: int64"
      ]
     },
     "metadata": {},
     "execution_count": 40
    }
   ]
  },
  {
   "cell_type": "code",
   "metadata": {
    "colab": {
     "base_uri": "https://localhost:8080/",
     "height": 173
    },
    "id": "KTfC8w1MNprf",
    "executionInfo": {
     "status": "ok",
     "timestamp": 1629994145490,
     "user_tz": -540,
     "elapsed": 249,
     "user": {
      "displayName": "하이다비",
      "photoUrl": "",
      "userId": "07224346109532620542"
     }
    },
    "outputId": "dc22eedb-e8e0-4e26-a91f-a77f23068674"
   },
   "source": [
    "fruitData = {\"fruitName\":[\"apple\",\"banana\",\"cherry\",\"peer\"],\n",
    "             \"fruitPrice\":[2500,3800,6000,1200],\n",
    "             \"num\":[10,5,3,8]}\n",
    "fruitName = fruitData[\"fruitName\"]\n",
    "fruitFrame = pd.DataFrame(fruitData, index=fruitName,\n",
    "                          columns=[\"fruitPrice\",\"num\"])\n",
    "fruitFrame"
   ],
   "execution_count": null,
   "outputs": [
    {
     "output_type": "execute_result",
     "data": {
      "text/html": [
       "<div>\n",
       "<style scoped>\n",
       "    .dataframe tbody tr th:only-of-type {\n",
       "        vertical-align: middle;\n",
       "    }\n",
       "\n",
       "    .dataframe tbody tr th {\n",
       "        vertical-align: top;\n",
       "    }\n",
       "\n",
       "    .dataframe thead th {\n",
       "        text-align: right;\n",
       "    }\n",
       "</style>\n",
       "<table border=\"1\" class=\"dataframe\">\n",
       "  <thead>\n",
       "    <tr style=\"text-align: right;\">\n",
       "      <th></th>\n",
       "      <th>fruitPrice</th>\n",
       "      <th>num</th>\n",
       "    </tr>\n",
       "  </thead>\n",
       "  <tbody>\n",
       "    <tr>\n",
       "      <th>apple</th>\n",
       "      <td>2500</td>\n",
       "      <td>10</td>\n",
       "    </tr>\n",
       "    <tr>\n",
       "      <th>banana</th>\n",
       "      <td>3800</td>\n",
       "      <td>5</td>\n",
       "    </tr>\n",
       "    <tr>\n",
       "      <th>cherry</th>\n",
       "      <td>6000</td>\n",
       "      <td>3</td>\n",
       "    </tr>\n",
       "    <tr>\n",
       "      <th>peer</th>\n",
       "      <td>1200</td>\n",
       "      <td>8</td>\n",
       "    </tr>\n",
       "  </tbody>\n",
       "</table>\n",
       "</div>"
      ],
      "text/plain": [
       "        fruitPrice  num\n",
       "apple         2500   10\n",
       "banana        3800    5\n",
       "cherry        6000    3\n",
       "peer          1200    8"
      ]
     },
     "metadata": {},
     "execution_count": 41
    }
   ]
  },
  {
   "cell_type": "code",
   "metadata": {
    "colab": {
     "base_uri": "https://localhost:8080/",
     "height": 173
    },
    "id": "n8LSTOILNpop",
    "executionInfo": {
     "status": "ok",
     "timestamp": 1629994178187,
     "user_tz": -540,
     "elapsed": 279,
     "user": {
      "displayName": "하이다비",
      "photoUrl": "",
      "userId": "07224346109532620542"
     }
    },
    "outputId": "1dfdee9e-5122-47d2-905f-52b3e0af0ccc"
   },
   "source": [
    "pd.DataFrame(fruitData)"
   ],
   "execution_count": null,
   "outputs": [
    {
     "output_type": "execute_result",
     "data": {
      "text/html": [
       "<div>\n",
       "<style scoped>\n",
       "    .dataframe tbody tr th:only-of-type {\n",
       "        vertical-align: middle;\n",
       "    }\n",
       "\n",
       "    .dataframe tbody tr th {\n",
       "        vertical-align: top;\n",
       "    }\n",
       "\n",
       "    .dataframe thead th {\n",
       "        text-align: right;\n",
       "    }\n",
       "</style>\n",
       "<table border=\"1\" class=\"dataframe\">\n",
       "  <thead>\n",
       "    <tr style=\"text-align: right;\">\n",
       "      <th></th>\n",
       "      <th>fruitName</th>\n",
       "      <th>fruitPrice</th>\n",
       "      <th>num</th>\n",
       "    </tr>\n",
       "  </thead>\n",
       "  <tbody>\n",
       "    <tr>\n",
       "      <th>0</th>\n",
       "      <td>apple</td>\n",
       "      <td>2500</td>\n",
       "      <td>10</td>\n",
       "    </tr>\n",
       "    <tr>\n",
       "      <th>1</th>\n",
       "      <td>banana</td>\n",
       "      <td>3800</td>\n",
       "      <td>5</td>\n",
       "    </tr>\n",
       "    <tr>\n",
       "      <th>2</th>\n",
       "      <td>cherry</td>\n",
       "      <td>6000</td>\n",
       "      <td>3</td>\n",
       "    </tr>\n",
       "    <tr>\n",
       "      <th>3</th>\n",
       "      <td>peer</td>\n",
       "      <td>1200</td>\n",
       "      <td>8</td>\n",
       "    </tr>\n",
       "  </tbody>\n",
       "</table>\n",
       "</div>"
      ],
      "text/plain": [
       "  fruitName  fruitPrice  num\n",
       "0     apple        2500   10\n",
       "1    banana        3800    5\n",
       "2    cherry        6000    3\n",
       "3      peer        1200    8"
      ]
     },
     "metadata": {},
     "execution_count": 42
    }
   ]
  },
  {
   "cell_type": "code",
   "metadata": {
    "colab": {
     "base_uri": "https://localhost:8080/",
     "height": 173
    },
    "id": "EuEO-vH0NphG",
    "executionInfo": {
     "status": "ok",
     "timestamp": 1629994309435,
     "user_tz": -540,
     "elapsed": 249,
     "user": {
      "displayName": "하이다비",
      "photoUrl": "",
      "userId": "07224346109532620542"
     }
    },
    "outputId": "a018e154-8d4d-4fa2-d41d-d238012b45f4"
   },
   "source": [
    "pd.DataFrame(fruitData,index=fruitName)"
   ],
   "execution_count": null,
   "outputs": [
    {
     "output_type": "execute_result",
     "data": {
      "text/html": [
       "<div>\n",
       "<style scoped>\n",
       "    .dataframe tbody tr th:only-of-type {\n",
       "        vertical-align: middle;\n",
       "    }\n",
       "\n",
       "    .dataframe tbody tr th {\n",
       "        vertical-align: top;\n",
       "    }\n",
       "\n",
       "    .dataframe thead th {\n",
       "        text-align: right;\n",
       "    }\n",
       "</style>\n",
       "<table border=\"1\" class=\"dataframe\">\n",
       "  <thead>\n",
       "    <tr style=\"text-align: right;\">\n",
       "      <th></th>\n",
       "      <th>fruitName</th>\n",
       "      <th>fruitPrice</th>\n",
       "      <th>num</th>\n",
       "    </tr>\n",
       "  </thead>\n",
       "  <tbody>\n",
       "    <tr>\n",
       "      <th>apple</th>\n",
       "      <td>apple</td>\n",
       "      <td>2500</td>\n",
       "      <td>10</td>\n",
       "    </tr>\n",
       "    <tr>\n",
       "      <th>banana</th>\n",
       "      <td>banana</td>\n",
       "      <td>3800</td>\n",
       "      <td>5</td>\n",
       "    </tr>\n",
       "    <tr>\n",
       "      <th>cherry</th>\n",
       "      <td>cherry</td>\n",
       "      <td>6000</td>\n",
       "      <td>3</td>\n",
       "    </tr>\n",
       "    <tr>\n",
       "      <th>peer</th>\n",
       "      <td>peer</td>\n",
       "      <td>1200</td>\n",
       "      <td>8</td>\n",
       "    </tr>\n",
       "  </tbody>\n",
       "</table>\n",
       "</div>"
      ],
      "text/plain": [
       "       fruitName  fruitPrice  num\n",
       "apple      apple        2500   10\n",
       "banana    banana        3800    5\n",
       "cherry    cherry        6000    3\n",
       "peer        peer        1200    8"
      ]
     },
     "metadata": {},
     "execution_count": 45
    }
   ]
  },
  {
   "cell_type": "code",
   "metadata": {
    "colab": {
     "base_uri": "https://localhost:8080/",
     "height": 173
    },
    "id": "-VRznAh7Npdt",
    "executionInfo": {
     "status": "ok",
     "timestamp": 1629994325776,
     "user_tz": -540,
     "elapsed": 241,
     "user": {
      "displayName": "하이다비",
      "photoUrl": "",
      "userId": "07224346109532620542"
     }
    },
    "outputId": "ee7de29f-5460-44bf-b4bd-7c4367530bf8"
   },
   "source": [
    "fruitFrame"
   ],
   "execution_count": null,
   "outputs": [
    {
     "output_type": "execute_result",
     "data": {
      "text/html": [
       "<div>\n",
       "<style scoped>\n",
       "    .dataframe tbody tr th:only-of-type {\n",
       "        vertical-align: middle;\n",
       "    }\n",
       "\n",
       "    .dataframe tbody tr th {\n",
       "        vertical-align: top;\n",
       "    }\n",
       "\n",
       "    .dataframe thead th {\n",
       "        text-align: right;\n",
       "    }\n",
       "</style>\n",
       "<table border=\"1\" class=\"dataframe\">\n",
       "  <thead>\n",
       "    <tr style=\"text-align: right;\">\n",
       "      <th></th>\n",
       "      <th>fruitPrice</th>\n",
       "      <th>num</th>\n",
       "    </tr>\n",
       "  </thead>\n",
       "  <tbody>\n",
       "    <tr>\n",
       "      <th>apple</th>\n",
       "      <td>2500</td>\n",
       "      <td>10</td>\n",
       "    </tr>\n",
       "    <tr>\n",
       "      <th>banana</th>\n",
       "      <td>3800</td>\n",
       "      <td>5</td>\n",
       "    </tr>\n",
       "    <tr>\n",
       "      <th>cherry</th>\n",
       "      <td>6000</td>\n",
       "      <td>3</td>\n",
       "    </tr>\n",
       "    <tr>\n",
       "      <th>peer</th>\n",
       "      <td>1200</td>\n",
       "      <td>8</td>\n",
       "    </tr>\n",
       "  </tbody>\n",
       "</table>\n",
       "</div>"
      ],
      "text/plain": [
       "        fruitPrice  num\n",
       "apple         2500   10\n",
       "banana        3800    5\n",
       "cherry        6000    3\n",
       "peer          1200    8"
      ]
     },
     "metadata": {},
     "execution_count": 46
    }
   ]
  },
  {
   "cell_type": "code",
   "metadata": {
    "colab": {
     "base_uri": "https://localhost:8080/"
    },
    "id": "n45eoIYXNpaU",
    "executionInfo": {
     "status": "ok",
     "timestamp": 1629994372260,
     "user_tz": -540,
     "elapsed": 246,
     "user": {
      "displayName": "하이다비",
      "photoUrl": "",
      "userId": "07224346109532620542"
     }
    },
    "outputId": "abf47914-9c0b-4223-e0f5-03eda008747c"
   },
   "source": [
    "fruitFrame[\"fruitPrice\"]"
   ],
   "execution_count": null,
   "outputs": [
    {
     "output_type": "execute_result",
     "data": {
      "text/plain": [
       "apple     2500\n",
       "banana    3800\n",
       "cherry    6000\n",
       "peer      1200\n",
       "Name: fruitPrice, dtype: int64"
      ]
     },
     "metadata": {},
     "execution_count": 47
    }
   ]
  },
  {
   "cell_type": "code",
   "metadata": {
    "colab": {
     "base_uri": "https://localhost:8080/",
     "height": 111
    },
    "id": "DyLkQ5evNpPy",
    "executionInfo": {
     "status": "ok",
     "timestamp": 1629994398948,
     "user_tz": -540,
     "elapsed": 244,
     "user": {
      "displayName": "하이다비",
      "photoUrl": "",
      "userId": "07224346109532620542"
     }
    },
    "outputId": "b3d6644d-2061-4500-e325-dc0afba14568"
   },
   "source": [
    "fruitFrame[\"apple\":\"banana\"]"
   ],
   "execution_count": null,
   "outputs": [
    {
     "output_type": "execute_result",
     "data": {
      "text/html": [
       "<div>\n",
       "<style scoped>\n",
       "    .dataframe tbody tr th:only-of-type {\n",
       "        vertical-align: middle;\n",
       "    }\n",
       "\n",
       "    .dataframe tbody tr th {\n",
       "        vertical-align: top;\n",
       "    }\n",
       "\n",
       "    .dataframe thead th {\n",
       "        text-align: right;\n",
       "    }\n",
       "</style>\n",
       "<table border=\"1\" class=\"dataframe\">\n",
       "  <thead>\n",
       "    <tr style=\"text-align: right;\">\n",
       "      <th></th>\n",
       "      <th>fruitPrice</th>\n",
       "      <th>num</th>\n",
       "    </tr>\n",
       "  </thead>\n",
       "  <tbody>\n",
       "    <tr>\n",
       "      <th>apple</th>\n",
       "      <td>2500</td>\n",
       "      <td>10</td>\n",
       "    </tr>\n",
       "    <tr>\n",
       "      <th>banana</th>\n",
       "      <td>3800</td>\n",
       "      <td>5</td>\n",
       "    </tr>\n",
       "  </tbody>\n",
       "</table>\n",
       "</div>"
      ],
      "text/plain": [
       "        fruitPrice  num\n",
       "apple         2500   10\n",
       "banana        3800    5"
      ]
     },
     "metadata": {},
     "execution_count": 49
    }
   ]
  },
  {
   "cell_type": "code",
   "metadata": {
    "colab": {
     "base_uri": "https://localhost:8080/",
     "height": 142
    },
    "id": "v5FzdJS8s_l2",
    "executionInfo": {
     "status": "ok",
     "timestamp": 1629994419994,
     "user_tz": -540,
     "elapsed": 242,
     "user": {
      "displayName": "하이다비",
      "photoUrl": "",
      "userId": "07224346109532620542"
     }
    },
    "outputId": "0cc3c699-547c-4d7f-d9d0-2e79307e3578"
   },
   "source": [
    "fruitFrame.drop(\"banana\")"
   ],
   "execution_count": null,
   "outputs": [
    {
     "output_type": "execute_result",
     "data": {
      "text/html": [
       "<div>\n",
       "<style scoped>\n",
       "    .dataframe tbody tr th:only-of-type {\n",
       "        vertical-align: middle;\n",
       "    }\n",
       "\n",
       "    .dataframe tbody tr th {\n",
       "        vertical-align: top;\n",
       "    }\n",
       "\n",
       "    .dataframe thead th {\n",
       "        text-align: right;\n",
       "    }\n",
       "</style>\n",
       "<table border=\"1\" class=\"dataframe\">\n",
       "  <thead>\n",
       "    <tr style=\"text-align: right;\">\n",
       "      <th></th>\n",
       "      <th>fruitPrice</th>\n",
       "      <th>num</th>\n",
       "    </tr>\n",
       "  </thead>\n",
       "  <tbody>\n",
       "    <tr>\n",
       "      <th>apple</th>\n",
       "      <td>2500</td>\n",
       "      <td>10</td>\n",
       "    </tr>\n",
       "    <tr>\n",
       "      <th>cherry</th>\n",
       "      <td>6000</td>\n",
       "      <td>3</td>\n",
       "    </tr>\n",
       "    <tr>\n",
       "      <th>peer</th>\n",
       "      <td>1200</td>\n",
       "      <td>8</td>\n",
       "    </tr>\n",
       "  </tbody>\n",
       "</table>\n",
       "</div>"
      ],
      "text/plain": [
       "        fruitPrice  num\n",
       "apple         2500   10\n",
       "cherry        6000    3\n",
       "peer          1200    8"
      ]
     },
     "metadata": {},
     "execution_count": 50
    }
   ]
  },
  {
   "cell_type": "code",
   "metadata": {
    "id": "MYH6nmHTuDMb"
   },
   "source": [
    "fruit1 = pd.Series([5,9,10,3],\n",
    "                   index=[\"apple\",\"banana\",\"cherry\",\"peer\"])\n",
    "fruit2 = pd.Series([3,2,9,5,10],\n",
    "                   index = [\"apple\",\"orange\",\"banana\",\"cherry\",\"mango\"])"
   ],
   "execution_count": null,
   "outputs": []
  },
  {
   "cell_type": "code",
   "metadata": {
    "colab": {
     "base_uri": "https://localhost:8080/"
    },
    "id": "bxBVqLpsPfG-",
    "executionInfo": {
     "status": "ok",
     "timestamp": 1629995106207,
     "user_tz": -540,
     "elapsed": 243,
     "user": {
      "displayName": "하이다비",
      "photoUrl": "",
      "userId": "07224346109532620542"
     }
    },
    "outputId": "46195829-ef94-4662-9bc8-f73b46dd4327"
   },
   "source": [
    "fruit1"
   ],
   "execution_count": null,
   "outputs": [
    {
     "output_type": "execute_result",
     "data": {
      "text/plain": [
       "apple      5\n",
       "banana     9\n",
       "cherry    10\n",
       "peer       3\n",
       "dtype: int64"
      ]
     },
     "metadata": {},
     "execution_count": 52
    }
   ]
  },
  {
   "cell_type": "code",
   "metadata": {
    "colab": {
     "base_uri": "https://localhost:8080/"
    },
    "id": "vmI4qU1fPfED",
    "executionInfo": {
     "status": "ok",
     "timestamp": 1629995110667,
     "user_tz": -540,
     "elapsed": 245,
     "user": {
      "displayName": "하이다비",
      "photoUrl": "",
      "userId": "07224346109532620542"
     }
    },
    "outputId": "0e21bf69-0521-4937-8f91-38dc754a417a"
   },
   "source": [
    "fruit2"
   ],
   "execution_count": null,
   "outputs": [
    {
     "output_type": "execute_result",
     "data": {
      "text/plain": [
       "apple      3\n",
       "orange     2\n",
       "banana     9\n",
       "cherry     5\n",
       "mango     10\n",
       "dtype: int64"
      ]
     },
     "metadata": {},
     "execution_count": 53
    }
   ]
  },
  {
   "cell_type": "code",
   "metadata": {
    "colab": {
     "base_uri": "https://localhost:8080/"
    },
    "id": "onIc2bi6PfA0",
    "executionInfo": {
     "status": "ok",
     "timestamp": 1629995128172,
     "user_tz": -540,
     "elapsed": 242,
     "user": {
      "displayName": "하이다비",
      "photoUrl": "",
      "userId": "07224346109532620542"
     }
    },
    "outputId": "128e7324-f83b-4f4a-e1b1-00920d92e754"
   },
   "source": [
    "fruit1+fruit2"
   ],
   "execution_count": null,
   "outputs": [
    {
     "output_type": "execute_result",
     "data": {
      "text/plain": [
       "apple      8.0\n",
       "banana    18.0\n",
       "cherry    15.0\n",
       "mango      NaN\n",
       "orange     NaN\n",
       "peer       NaN\n",
       "dtype: float64"
      ]
     },
     "metadata": {},
     "execution_count": 54
    }
   ]
  },
  {
   "cell_type": "code",
   "metadata": {
    "colab": {
     "base_uri": "https://localhost:8080/"
    },
    "id": "VRRZs4KvPe7A",
    "executionInfo": {
     "status": "ok",
     "timestamp": 1629995280094,
     "user_tz": -540,
     "elapsed": 1546,
     "user": {
      "displayName": "하이다비",
      "photoUrl": "",
      "userId": "07224346109532620542"
     }
    },
    "outputId": "4597a3f0-d4d5-4dad-bc89-6ed729a32fe1"
   },
   "source": [
    "fruit1 = pd.Series([5,9,10,3],\n",
    "                   index=[\"apple\",\"banana\",\"cherry\",\"peer\"])\n",
    "fruit2 = pd.Series([3,2,9,5,10],\n",
    "                   index = [\"apple\",\"orange\",\"banana\",\"cherry\",\"mango\"])\n",
    "print(fruit1)\n",
    "print(fruit2)\n",
    "fruit1+fruit2"
   ],
   "execution_count": null,
   "outputs": [
    {
     "output_type": "stream",
     "text": [
      "apple      5\n",
      "banana     9\n",
      "cherry    10\n",
      "peer       3\n",
      "dtype: int64\n",
      "apple      3\n",
      "orange     2\n",
      "banana     9\n",
      "cherry     5\n",
      "mango     10\n",
      "dtype: int64\n"
     ],
     "name": "stdout"
    },
    {
     "output_type": "execute_result",
     "data": {
      "text/plain": [
       "apple      8.0\n",
       "banana    18.0\n",
       "cherry    15.0\n",
       "mango      NaN\n",
       "orange     NaN\n",
       "peer       NaN\n",
       "dtype: float64"
      ]
     },
     "metadata": {},
     "execution_count": 57
    }
   ]
  },
  {
   "cell_type": "code",
   "metadata": {
    "id": "l6PrMKTgPe4F"
   },
   "source": [
    "#데이터 프레임의 연산\n",
    "fd1 = {\"Ohio\":[4,8,3,5],\"Texas\":[0,1,2,3]}\n",
    "df1 = pd.DataFrame(data=fd1, columns=[\"Ohio\",\"Texas\"],\n",
    "                   index = [\"ap\",\"ba\",\"ch\",\"pe\"])\n",
    "fd2 = {\"Ohio\":[3,0,2,1,7], \"Colorado\":[5,4,3,6,0]}\n",
    "df2 = pd.DataFrame(data=fd2, columns = [\"Ohio\",\"Colorado\"],\n",
    "                   index = [\"ap\",\"or\",\"ba\",\"ch\",\"ma\"])"
   ],
   "execution_count": null,
   "outputs": []
  },
  {
   "cell_type": "code",
   "metadata": {
    "colab": {
     "base_uri": "https://localhost:8080/",
     "height": 173
    },
    "id": "Jfq55996Pe1q",
    "executionInfo": {
     "status": "ok",
     "timestamp": 1629995704874,
     "user_tz": -540,
     "elapsed": 271,
     "user": {
      "displayName": "하이다비",
      "photoUrl": "",
      "userId": "07224346109532620542"
     }
    },
    "outputId": "6a599826-961d-4a21-8538-29b623a80387"
   },
   "source": [
    "df1"
   ],
   "execution_count": null,
   "outputs": [
    {
     "output_type": "execute_result",
     "data": {
      "text/html": [
       "<div>\n",
       "<style scoped>\n",
       "    .dataframe tbody tr th:only-of-type {\n",
       "        vertical-align: middle;\n",
       "    }\n",
       "\n",
       "    .dataframe tbody tr th {\n",
       "        vertical-align: top;\n",
       "    }\n",
       "\n",
       "    .dataframe thead th {\n",
       "        text-align: right;\n",
       "    }\n",
       "</style>\n",
       "<table border=\"1\" class=\"dataframe\">\n",
       "  <thead>\n",
       "    <tr style=\"text-align: right;\">\n",
       "      <th></th>\n",
       "      <th>Ohio</th>\n",
       "      <th>Texas</th>\n",
       "    </tr>\n",
       "  </thead>\n",
       "  <tbody>\n",
       "    <tr>\n",
       "      <th>ap</th>\n",
       "      <td>4</td>\n",
       "      <td>0</td>\n",
       "    </tr>\n",
       "    <tr>\n",
       "      <th>ba</th>\n",
       "      <td>8</td>\n",
       "      <td>1</td>\n",
       "    </tr>\n",
       "    <tr>\n",
       "      <th>ch</th>\n",
       "      <td>3</td>\n",
       "      <td>2</td>\n",
       "    </tr>\n",
       "    <tr>\n",
       "      <th>pe</th>\n",
       "      <td>5</td>\n",
       "      <td>3</td>\n",
       "    </tr>\n",
       "  </tbody>\n",
       "</table>\n",
       "</div>"
      ],
      "text/plain": [
       "    Ohio  Texas\n",
       "ap     4      0\n",
       "ba     8      1\n",
       "ch     3      2\n",
       "pe     5      3"
      ]
     },
     "metadata": {},
     "execution_count": 74
    }
   ]
  },
  {
   "cell_type": "code",
   "metadata": {
    "colab": {
     "base_uri": "https://localhost:8080/",
     "height": 204
    },
    "id": "lNXyF9YpPeyg",
    "executionInfo": {
     "status": "ok",
     "timestamp": 1629995707637,
     "user_tz": -540,
     "elapsed": 250,
     "user": {
      "displayName": "하이다비",
      "photoUrl": "",
      "userId": "07224346109532620542"
     }
    },
    "outputId": "5a10a4f2-535c-44ba-ed71-5fe820461f04"
   },
   "source": [
    "df2"
   ],
   "execution_count": null,
   "outputs": [
    {
     "output_type": "execute_result",
     "data": {
      "text/html": [
       "<div>\n",
       "<style scoped>\n",
       "    .dataframe tbody tr th:only-of-type {\n",
       "        vertical-align: middle;\n",
       "    }\n",
       "\n",
       "    .dataframe tbody tr th {\n",
       "        vertical-align: top;\n",
       "    }\n",
       "\n",
       "    .dataframe thead th {\n",
       "        text-align: right;\n",
       "    }\n",
       "</style>\n",
       "<table border=\"1\" class=\"dataframe\">\n",
       "  <thead>\n",
       "    <tr style=\"text-align: right;\">\n",
       "      <th></th>\n",
       "      <th>Ohio</th>\n",
       "      <th>Colorado</th>\n",
       "    </tr>\n",
       "  </thead>\n",
       "  <tbody>\n",
       "    <tr>\n",
       "      <th>ap</th>\n",
       "      <td>3</td>\n",
       "      <td>5</td>\n",
       "    </tr>\n",
       "    <tr>\n",
       "      <th>or</th>\n",
       "      <td>0</td>\n",
       "      <td>4</td>\n",
       "    </tr>\n",
       "    <tr>\n",
       "      <th>ba</th>\n",
       "      <td>2</td>\n",
       "      <td>3</td>\n",
       "    </tr>\n",
       "    <tr>\n",
       "      <th>ch</th>\n",
       "      <td>1</td>\n",
       "      <td>6</td>\n",
       "    </tr>\n",
       "    <tr>\n",
       "      <th>ma</th>\n",
       "      <td>7</td>\n",
       "      <td>0</td>\n",
       "    </tr>\n",
       "  </tbody>\n",
       "</table>\n",
       "</div>"
      ],
      "text/plain": [
       "    Ohio  Colorado\n",
       "ap     3         5\n",
       "or     0         4\n",
       "ba     2         3\n",
       "ch     1         6\n",
       "ma     7         0"
      ]
     },
     "metadata": {},
     "execution_count": 75
    }
   ]
  },
  {
   "cell_type": "code",
   "metadata": {
    "colab": {
     "base_uri": "https://localhost:8080/",
     "height": 235
    },
    "id": "1vwdmTtDPevW",
    "executionInfo": {
     "status": "ok",
     "timestamp": 1629995719974,
     "user_tz": -540,
     "elapsed": 241,
     "user": {
      "displayName": "하이다비",
      "photoUrl": "",
      "userId": "07224346109532620542"
     }
    },
    "outputId": "061dc27c-6a28-4632-a3d5-36bd19a28753"
   },
   "source": [
    "df1+df2"
   ],
   "execution_count": null,
   "outputs": [
    {
     "output_type": "execute_result",
     "data": {
      "text/html": [
       "<div>\n",
       "<style scoped>\n",
       "    .dataframe tbody tr th:only-of-type {\n",
       "        vertical-align: middle;\n",
       "    }\n",
       "\n",
       "    .dataframe tbody tr th {\n",
       "        vertical-align: top;\n",
       "    }\n",
       "\n",
       "    .dataframe thead th {\n",
       "        text-align: right;\n",
       "    }\n",
       "</style>\n",
       "<table border=\"1\" class=\"dataframe\">\n",
       "  <thead>\n",
       "    <tr style=\"text-align: right;\">\n",
       "      <th></th>\n",
       "      <th>Colorado</th>\n",
       "      <th>Ohio</th>\n",
       "      <th>Texas</th>\n",
       "    </tr>\n",
       "  </thead>\n",
       "  <tbody>\n",
       "    <tr>\n",
       "      <th>ap</th>\n",
       "      <td>NaN</td>\n",
       "      <td>7.0</td>\n",
       "      <td>NaN</td>\n",
       "    </tr>\n",
       "    <tr>\n",
       "      <th>ba</th>\n",
       "      <td>NaN</td>\n",
       "      <td>10.0</td>\n",
       "      <td>NaN</td>\n",
       "    </tr>\n",
       "    <tr>\n",
       "      <th>ch</th>\n",
       "      <td>NaN</td>\n",
       "      <td>4.0</td>\n",
       "      <td>NaN</td>\n",
       "    </tr>\n",
       "    <tr>\n",
       "      <th>ma</th>\n",
       "      <td>NaN</td>\n",
       "      <td>NaN</td>\n",
       "      <td>NaN</td>\n",
       "    </tr>\n",
       "    <tr>\n",
       "      <th>or</th>\n",
       "      <td>NaN</td>\n",
       "      <td>NaN</td>\n",
       "      <td>NaN</td>\n",
       "    </tr>\n",
       "    <tr>\n",
       "      <th>pe</th>\n",
       "      <td>NaN</td>\n",
       "      <td>NaN</td>\n",
       "      <td>NaN</td>\n",
       "    </tr>\n",
       "  </tbody>\n",
       "</table>\n",
       "</div>"
      ],
      "text/plain": [
       "    Colorado  Ohio  Texas\n",
       "ap       NaN   7.0    NaN\n",
       "ba       NaN  10.0    NaN\n",
       "ch       NaN   4.0    NaN\n",
       "ma       NaN   NaN    NaN\n",
       "or       NaN   NaN    NaN\n",
       "pe       NaN   NaN    NaN"
      ]
     },
     "metadata": {},
     "execution_count": 76
    }
   ]
  },
  {
   "cell_type": "code",
   "metadata": {
    "colab": {
     "base_uri": "https://localhost:8080/"
    },
    "id": "mIGw4EWxUNqf",
    "executionInfo": {
     "status": "ok",
     "timestamp": 1629995775219,
     "user_tz": -540,
     "elapsed": 257,
     "user": {
      "displayName": "하이다비",
      "photoUrl": "",
      "userId": "07224346109532620542"
     }
    },
    "outputId": "b03fafa1-e3aa-475e-ad94-a24796e549da"
   },
   "source": [
    "data = [2500,3800,1200,6000]\n",
    "value = [\"apple\",\"banana\",\"peer\",\"cherry\"]\n",
    "fruit = pd.Series(data = data, index=value)\n",
    "fruit"
   ],
   "execution_count": null,
   "outputs": [
    {
     "output_type": "execute_result",
     "data": {
      "text/plain": [
       "apple     2500\n",
       "banana    3800\n",
       "peer      1200\n",
       "cherry    6000\n",
       "dtype: int64"
      ]
     },
     "metadata": {},
     "execution_count": 77
    }
   ]
  },
  {
   "cell_type": "code",
   "metadata": {
    "colab": {
     "base_uri": "https://localhost:8080/"
    },
    "id": "ROfj6O_1Ua9P",
    "executionInfo": {
     "status": "ok",
     "timestamp": 1629995807113,
     "user_tz": -540,
     "elapsed": 577,
     "user": {
      "displayName": "하이다비",
      "photoUrl": "",
      "userId": "07224346109532620542"
     }
    },
    "outputId": "2a22af03-b00b-45b7-cc9e-e1bc3e5a37fe"
   },
   "source": [
    "fruit.sort_values()"
   ],
   "execution_count": null,
   "outputs": [
    {
     "output_type": "execute_result",
     "data": {
      "text/plain": [
       "peer      1200\n",
       "apple     2500\n",
       "banana    3800\n",
       "cherry    6000\n",
       "dtype: int64"
      ]
     },
     "metadata": {},
     "execution_count": 78
    }
   ]
  },
  {
   "cell_type": "code",
   "metadata": {
    "colab": {
     "base_uri": "https://localhost:8080/"
    },
    "id": "BOnje9D3Ui1G",
    "executionInfo": {
     "status": "ok",
     "timestamp": 1629995847414,
     "user_tz": -540,
     "elapsed": 286,
     "user": {
      "displayName": "하이다비",
      "photoUrl": "",
      "userId": "07224346109532620542"
     }
    },
    "outputId": "c8a0d612-c850-4aeb-df1c-b2aac1a2b1c8"
   },
   "source": [
    "fruit.sort_values(ascending=False)"
   ],
   "execution_count": null,
   "outputs": [
    {
     "output_type": "execute_result",
     "data": {
      "text/plain": [
       "cherry    6000\n",
       "banana    3800\n",
       "apple     2500\n",
       "peer      1200\n",
       "dtype: int64"
      ]
     },
     "metadata": {},
     "execution_count": 79
    }
   ]
  },
  {
   "cell_type": "code",
   "metadata": {
    "colab": {
     "base_uri": "https://localhost:8080/",
     "height": 173
    },
    "id": "qnJgY1ktUssf",
    "executionInfo": {
     "status": "ok",
     "timestamp": 1629995884708,
     "user_tz": -540,
     "elapsed": 473,
     "user": {
      "displayName": "하이다비",
      "photoUrl": "",
      "userId": "07224346109532620542"
     }
    },
    "outputId": "38cc8ba9-49ca-40d1-c1e7-3aa01a783f06"
   },
   "source": [
    "fruitFrame"
   ],
   "execution_count": null,
   "outputs": [
    {
     "output_type": "execute_result",
     "data": {
      "text/html": [
       "<div>\n",
       "<style scoped>\n",
       "    .dataframe tbody tr th:only-of-type {\n",
       "        vertical-align: middle;\n",
       "    }\n",
       "\n",
       "    .dataframe tbody tr th {\n",
       "        vertical-align: top;\n",
       "    }\n",
       "\n",
       "    .dataframe thead th {\n",
       "        text-align: right;\n",
       "    }\n",
       "</style>\n",
       "<table border=\"1\" class=\"dataframe\">\n",
       "  <thead>\n",
       "    <tr style=\"text-align: right;\">\n",
       "      <th></th>\n",
       "      <th>fruitPrice</th>\n",
       "      <th>num</th>\n",
       "    </tr>\n",
       "  </thead>\n",
       "  <tbody>\n",
       "    <tr>\n",
       "      <th>apple</th>\n",
       "      <td>2500</td>\n",
       "      <td>10</td>\n",
       "    </tr>\n",
       "    <tr>\n",
       "      <th>banana</th>\n",
       "      <td>3800</td>\n",
       "      <td>5</td>\n",
       "    </tr>\n",
       "    <tr>\n",
       "      <th>cherry</th>\n",
       "      <td>6000</td>\n",
       "      <td>3</td>\n",
       "    </tr>\n",
       "    <tr>\n",
       "      <th>peer</th>\n",
       "      <td>1200</td>\n",
       "      <td>8</td>\n",
       "    </tr>\n",
       "  </tbody>\n",
       "</table>\n",
       "</div>"
      ],
      "text/plain": [
       "        fruitPrice  num\n",
       "apple         2500   10\n",
       "banana        3800    5\n",
       "cherry        6000    3\n",
       "peer          1200    8"
      ]
     },
     "metadata": {},
     "execution_count": 80
    }
   ]
  },
  {
   "cell_type": "code",
   "metadata": {
    "colab": {
     "base_uri": "https://localhost:8080/",
     "height": 173
    },
    "id": "GSYncw6CU0ga",
    "executionInfo": {
     "status": "ok",
     "timestamp": 1629995901726,
     "user_tz": -540,
     "elapsed": 261,
     "user": {
      "displayName": "하이다비",
      "photoUrl": "",
      "userId": "07224346109532620542"
     }
    },
    "outputId": "962c291d-f07e-40c7-980f-6b1ae57f92cc"
   },
   "source": [
    "fruitFrame.sort_index(ascending = False)"
   ],
   "execution_count": null,
   "outputs": [
    {
     "output_type": "execute_result",
     "data": {
      "text/html": [
       "<div>\n",
       "<style scoped>\n",
       "    .dataframe tbody tr th:only-of-type {\n",
       "        vertical-align: middle;\n",
       "    }\n",
       "\n",
       "    .dataframe tbody tr th {\n",
       "        vertical-align: top;\n",
       "    }\n",
       "\n",
       "    .dataframe thead th {\n",
       "        text-align: right;\n",
       "    }\n",
       "</style>\n",
       "<table border=\"1\" class=\"dataframe\">\n",
       "  <thead>\n",
       "    <tr style=\"text-align: right;\">\n",
       "      <th></th>\n",
       "      <th>fruitPrice</th>\n",
       "      <th>num</th>\n",
       "    </tr>\n",
       "  </thead>\n",
       "  <tbody>\n",
       "    <tr>\n",
       "      <th>peer</th>\n",
       "      <td>1200</td>\n",
       "      <td>8</td>\n",
       "    </tr>\n",
       "    <tr>\n",
       "      <th>cherry</th>\n",
       "      <td>6000</td>\n",
       "      <td>3</td>\n",
       "    </tr>\n",
       "    <tr>\n",
       "      <th>banana</th>\n",
       "      <td>3800</td>\n",
       "      <td>5</td>\n",
       "    </tr>\n",
       "    <tr>\n",
       "      <th>apple</th>\n",
       "      <td>2500</td>\n",
       "      <td>10</td>\n",
       "    </tr>\n",
       "  </tbody>\n",
       "</table>\n",
       "</div>"
      ],
      "text/plain": [
       "        fruitPrice  num\n",
       "peer          1200    8\n",
       "cherry        6000    3\n",
       "banana        3800    5\n",
       "apple         2500   10"
      ]
     },
     "metadata": {},
     "execution_count": 81
    }
   ]
  },
  {
   "cell_type": "code",
   "metadata": {
    "colab": {
     "base_uri": "https://localhost:8080/",
     "height": 173
    },
    "id": "OZ7bXKxgU0dI",
    "executionInfo": {
     "status": "ok",
     "timestamp": 1629995994831,
     "user_tz": -540,
     "elapsed": 280,
     "user": {
      "displayName": "하이다비",
      "photoUrl": "",
      "userId": "07224346109532620542"
     }
    },
    "outputId": "06b2b479-8826-4345-b6b1-d5fcc9195e4e"
   },
   "source": [
    "fruitFrame.sort_index(axis=1,ascending=False)"
   ],
   "execution_count": null,
   "outputs": [
    {
     "output_type": "execute_result",
     "data": {
      "text/html": [
       "<div>\n",
       "<style scoped>\n",
       "    .dataframe tbody tr th:only-of-type {\n",
       "        vertical-align: middle;\n",
       "    }\n",
       "\n",
       "    .dataframe tbody tr th {\n",
       "        vertical-align: top;\n",
       "    }\n",
       "\n",
       "    .dataframe thead th {\n",
       "        text-align: right;\n",
       "    }\n",
       "</style>\n",
       "<table border=\"1\" class=\"dataframe\">\n",
       "  <thead>\n",
       "    <tr style=\"text-align: right;\">\n",
       "      <th></th>\n",
       "      <th>num</th>\n",
       "      <th>fruitPrice</th>\n",
       "    </tr>\n",
       "  </thead>\n",
       "  <tbody>\n",
       "    <tr>\n",
       "      <th>apple</th>\n",
       "      <td>10</td>\n",
       "      <td>2500</td>\n",
       "    </tr>\n",
       "    <tr>\n",
       "      <th>banana</th>\n",
       "      <td>5</td>\n",
       "      <td>3800</td>\n",
       "    </tr>\n",
       "    <tr>\n",
       "      <th>cherry</th>\n",
       "      <td>3</td>\n",
       "      <td>6000</td>\n",
       "    </tr>\n",
       "    <tr>\n",
       "      <th>peer</th>\n",
       "      <td>8</td>\n",
       "      <td>1200</td>\n",
       "    </tr>\n",
       "  </tbody>\n",
       "</table>\n",
       "</div>"
      ],
      "text/plain": [
       "        num  fruitPrice\n",
       "apple    10        2500\n",
       "banana    5        3800\n",
       "cherry    3        6000\n",
       "peer      8        1200"
      ]
     },
     "metadata": {},
     "execution_count": 82
    }
   ]
  },
  {
   "cell_type": "code",
   "metadata": {
    "colab": {
     "base_uri": "https://localhost:8080/",
     "height": 173
    },
    "id": "goCeqFq4U0ZQ",
    "executionInfo": {
     "status": "ok",
     "timestamp": 1629996052096,
     "user_tz": -540,
     "elapsed": 277,
     "user": {
      "displayName": "하이다비",
      "photoUrl": "",
      "userId": "07224346109532620542"
     }
    },
    "outputId": "b887d56e-4223-43d5-e800-687e99e45d16"
   },
   "source": [
    "fruitFrame.sort_values(by=[\"fruitPrice\"])"
   ],
   "execution_count": null,
   "outputs": [
    {
     "output_type": "execute_result",
     "data": {
      "text/html": [
       "<div>\n",
       "<style scoped>\n",
       "    .dataframe tbody tr th:only-of-type {\n",
       "        vertical-align: middle;\n",
       "    }\n",
       "\n",
       "    .dataframe tbody tr th {\n",
       "        vertical-align: top;\n",
       "    }\n",
       "\n",
       "    .dataframe thead th {\n",
       "        text-align: right;\n",
       "    }\n",
       "</style>\n",
       "<table border=\"1\" class=\"dataframe\">\n",
       "  <thead>\n",
       "    <tr style=\"text-align: right;\">\n",
       "      <th></th>\n",
       "      <th>fruitPrice</th>\n",
       "      <th>num</th>\n",
       "    </tr>\n",
       "  </thead>\n",
       "  <tbody>\n",
       "    <tr>\n",
       "      <th>peer</th>\n",
       "      <td>1200</td>\n",
       "      <td>8</td>\n",
       "    </tr>\n",
       "    <tr>\n",
       "      <th>apple</th>\n",
       "      <td>2500</td>\n",
       "      <td>10</td>\n",
       "    </tr>\n",
       "    <tr>\n",
       "      <th>banana</th>\n",
       "      <td>3800</td>\n",
       "      <td>5</td>\n",
       "    </tr>\n",
       "    <tr>\n",
       "      <th>cherry</th>\n",
       "      <td>6000</td>\n",
       "      <td>3</td>\n",
       "    </tr>\n",
       "  </tbody>\n",
       "</table>\n",
       "</div>"
      ],
      "text/plain": [
       "        fruitPrice  num\n",
       "peer          1200    8\n",
       "apple         2500   10\n",
       "banana        3800    5\n",
       "cherry        6000    3"
      ]
     },
     "metadata": {},
     "execution_count": 83
    }
   ]
  },
  {
   "cell_type": "code",
   "metadata": {
    "colab": {
     "base_uri": "https://localhost:8080/",
     "height": 173
    },
    "id": "dfbXyHxuU0V8",
    "executionInfo": {
     "status": "ok",
     "timestamp": 1629996084280,
     "user_tz": -540,
     "elapsed": 259,
     "user": {
      "displayName": "하이다비",
      "photoUrl": "",
      "userId": "07224346109532620542"
     }
    },
    "outputId": "6587e54b-bb28-4c0b-81e8-9ef944d88b5f"
   },
   "source": [
    "fruitFrame.sort_values(by=[\"fruitPrice\"],ascending=False)"
   ],
   "execution_count": null,
   "outputs": [
    {
     "output_type": "execute_result",
     "data": {
      "text/html": [
       "<div>\n",
       "<style scoped>\n",
       "    .dataframe tbody tr th:only-of-type {\n",
       "        vertical-align: middle;\n",
       "    }\n",
       "\n",
       "    .dataframe tbody tr th {\n",
       "        vertical-align: top;\n",
       "    }\n",
       "\n",
       "    .dataframe thead th {\n",
       "        text-align: right;\n",
       "    }\n",
       "</style>\n",
       "<table border=\"1\" class=\"dataframe\">\n",
       "  <thead>\n",
       "    <tr style=\"text-align: right;\">\n",
       "      <th></th>\n",
       "      <th>fruitPrice</th>\n",
       "      <th>num</th>\n",
       "    </tr>\n",
       "  </thead>\n",
       "  <tbody>\n",
       "    <tr>\n",
       "      <th>cherry</th>\n",
       "      <td>6000</td>\n",
       "      <td>3</td>\n",
       "    </tr>\n",
       "    <tr>\n",
       "      <th>banana</th>\n",
       "      <td>3800</td>\n",
       "      <td>5</td>\n",
       "    </tr>\n",
       "    <tr>\n",
       "      <th>apple</th>\n",
       "      <td>2500</td>\n",
       "      <td>10</td>\n",
       "    </tr>\n",
       "    <tr>\n",
       "      <th>peer</th>\n",
       "      <td>1200</td>\n",
       "      <td>8</td>\n",
       "    </tr>\n",
       "  </tbody>\n",
       "</table>\n",
       "</div>"
      ],
      "text/plain": [
       "        fruitPrice  num\n",
       "cherry        6000    3\n",
       "banana        3800    5\n",
       "apple         2500   10\n",
       "peer          1200    8"
      ]
     },
     "metadata": {},
     "execution_count": 84
    }
   ]
  },
  {
   "cell_type": "code",
   "metadata": {
    "id": "Ou3TiVomU0Sz"
   },
   "source": [],
   "execution_count": null,
   "outputs": []
  },
  {
   "cell_type": "code",
   "metadata": {
    "id": "Iokc-piLU0Pe"
   },
   "source": [],
   "execution_count": null,
   "outputs": []
  },
  {
   "cell_type": "code",
   "metadata": {
    "id": "tSn8igt3U0Ma"
   },
   "source": [],
   "execution_count": null,
   "outputs": []
  }
 ]
}
