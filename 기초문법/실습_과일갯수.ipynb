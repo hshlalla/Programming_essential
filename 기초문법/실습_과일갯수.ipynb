{
 "cells": [
  {
   "cell_type": "markdown",
   "source": [
    "## (실습2.  과일 갯수 )\n",
    "1. fruit1은 과일명:[과일가격, 갯수]로 구성\n",
    "2. 3000원보다 비싼 과일은 총 몇개인가?"
   ],
   "metadata": {
    "collapsed": false
   }
  },
  {
   "cell_type": "code",
   "execution_count": null,
   "outputs": [],
   "source": [
    "fruit1 = {\"apple\":[3500,5], \"peer\": [2500,2],\n",
    "         \"cherry\": [5000,8], \"mango\":[2200,4]}"
   ],
   "metadata": {
    "collapsed": false
   }
  },
  {
   "cell_type": "code",
   "execution_count": null,
   "outputs": [
    {
     "output_type": "stream",
     "text": [
      "tot =  13\n"
     ],
     "name": "stdout"
    }
   ],
   "source": [
    "tot = 0\n",
    "for i in fruit1.items():\n",
    "    if i[1][0] > 3000:\n",
    "        tot = tot + i[1][1]\n",
    "print(\"tot = \", tot)"
   ],
   "metadata": {
    "collapsed": false
   }
  },
  {
   "cell_type": "code",
   "execution_count": null,
   "outputs": [],
   "source": [],
   "metadata": {
    "collapsed": false
   }
  },
  {
   "cell_type": "code",
   "execution_count": null,
   "outputs": [],
   "source": [],
   "metadata": {
    "collapsed": false
   }
  },
  {
   "cell_type": "code",
   "execution_count": null,
   "outputs": [
    {
     "output_type": "execute_result",
     "data": {
      "text/plain": [
       "{'A1': [78, 60, 92, 88],\n",
       " 'A2': [66, 88, 77, 90],\n",
       " 'A3': [77, 93, 83, 73],\n",
       " 'A4': [55, 99, 96, 87]}"
      ]
     },
     "metadata": {
      "tags": []
     },
     "execution_count": 190
    }
   ],
   "source": [
    "###  A반 학생의 국어,영어,수학,과학의 시험 성적이다\n",
    "class_a = {\"A1\":[78,60,92,88],\n",
    "           \"A2\":[66,88,77,90],\n",
    "           \"A3\":[77,93,83,73],\n",
    "           \"A4\":[55,99,96,87]} ; class_a"
   ],
   "metadata": {
    "collapsed": false
   }
  },
  {
   "cell_type": "code",
   "execution_count": null,
   "outputs": [],
   "source": [],
   "metadata": {
    "collapsed": false
   }
  }
 ],
 "metadata": {
  "kernelspec": {
   "display_name": "Python 3",
   "language": "python",
   "name": "python3"
  },
  "language_info": {
   "codemirror_mode": {
    "name": "ipython",
    "version": 2
   },
   "file_extension": ".py",
   "mimetype": "text/x-python",
   "name": "python",
   "nbconvert_exporter": "python",
   "pygments_lexer": "ipython2",
   "version": "2.7.6"
  }
 },
 "nbformat": 4,
 "nbformat_minor": 0
}
