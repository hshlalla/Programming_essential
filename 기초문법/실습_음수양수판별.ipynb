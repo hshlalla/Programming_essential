{
 "nbformat": 4,
 "nbformat_minor": 5,
 "metadata": {
  "kernelspec": {
   "display_name": "Python 3",
   "language": "python",
   "name": "python3"
  },
  "language_info": {
   "codemirror_mode": {
    "name": "ipython",
    "version": 3
   },
   "file_extension": ".py",
   "mimetype": "text/x-python",
   "name": "python",
   "nbconvert_exporter": "python",
   "pygments_lexer": "ipython3",
   "version": "3.8.8"
  },
  "colab": {
   "name": "210727_실습_음수양수판별.ipynb",
   "provenance": []
  }
 },
 "cells": [
  {
   "cell_type": "markdown",
   "metadata": {
    "id": "072f538b"
   },
   "source": [
    "굵은 텍스트### ( 실습 ) \n",
    "1. 화면에서 숫자를 입력받아 \"음수\", \"양수\"를 판별하여 출력하라\n",
    "2. 입력받은 숫자를 inputnum=[],\n",
    "3. 판별된 값을 output = []에 저장하라\n",
    "4. 저장된 값을 데이터프레임으로 만들어라 data= output, columns = inputnum"
   ],
   "id": "072f538b"
  },
  {
   "cell_type": "code",
   "metadata": {
    "id": "8553783f",
    "outputId": "3e6c0319-315c-486e-ea79-ecace2a0861e"
   },
   "source": [
    "x=int(input())\n",
    "if x>0:\n",
    "    print(\"양수\")\n",
    "else:\n",
    "    print(\"음수\")"
   ],
   "id": "8553783f",
   "execution_count": null,
   "outputs": [
    {
     "name": "stdout",
     "output_type": "stream",
     "text": [
      "1\n",
      "양수\n"
     ]
    }
   ]
  },
  {
   "cell_type": "code",
   "metadata": {
    "id": "c9a068b2",
    "outputId": "7dad6444-2ccc-4291-9e59-2e09aafaa412"
   },
   "source": [
    "x=int(input(\"숫자를 입력하세요 \"))\n",
    "if x>0:\n",
    "    print(\"양수\")\n",
    "else:\n",
    "    print(\"음수\")"
   ],
   "id": "c9a068b2",
   "execution_count": null,
   "outputs": [
    {
     "name": "stdout",
     "output_type": "stream",
     "text": [
      "숫자를 입력하세요 1\n",
      "양수\n"
     ]
    }
   ]
  },
  {
   "cell_type": "code",
   "metadata": {
    "id": "e5549f0b"
   },
   "source": [],
   "id": "e5549f0b",
   "execution_count": null,
   "outputs": []
  }
 ]
}
