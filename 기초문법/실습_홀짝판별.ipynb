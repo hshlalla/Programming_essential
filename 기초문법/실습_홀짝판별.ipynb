{
 "cells": [
  {
   "cell_type": "markdown",
   "id": "d5f68825",
   "metadata": {},
   "source": [
    "### ( 실습. 홀짝 판별 )\n",
    "1. 화면에서 숫자를 입력받아\n",
    "2. 홀수면 \"홀수\", 짝수면 \"짝수\"를 출력하세요"
   ]
  },
  {
   "cell_type": "code",
   "execution_count": 3,
   "id": "5b44df14",
   "metadata": {},
   "outputs": [
    {
     "name": "stdout",
     "output_type": "stream",
     "text": [
      "숫자를 입력하세요1\n",
      "홀수\n"
     ]
    }
   ],
   "source": [
    "x=int(input(\"숫자를 입력하세요\"))\n",
    "if (x%2)==0:\n",
    "    print(\"짝수\")\n",
    "else:\n",
    "    print(\"홀수\")"
   ]
  },
  {
   "cell_type": "code",
   "execution_count": null,
   "id": "dbe2bec2",
   "metadata": {},
   "outputs": [],
   "source": []
  }
 ],
 "metadata": {
  "kernelspec": {
   "display_name": "Python 3",
   "language": "python",
   "name": "python3"
  },
  "language_info": {
   "codemirror_mode": {
    "name": "ipython",
    "version": 3
   },
   "file_extension": ".py",
   "mimetype": "text/x-python",
   "name": "python",
   "nbconvert_exporter": "python",
   "pygments_lexer": "ipython3",
   "version": "3.8.8"
  }
 },
 "nbformat": 4,
 "nbformat_minor": 5
}
