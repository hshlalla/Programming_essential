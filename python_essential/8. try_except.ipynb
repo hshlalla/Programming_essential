{
 "cells": [
  {
   "cell_type": "markdown",
   "id": "e9d37d88",
   "metadata": {},
   "source": [
    "### 에러발생하는부분을 지나서 except부분으로 넘어간다"
   ]
  },
  {
   "cell_type": "code",
   "execution_count": 1,
   "id": "3639de4a",
   "metadata": {},
   "outputs": [
    {
     "name": "stdout",
     "output_type": "stream",
     "text": [
      "111\n",
      "error 발생!!!\n"
     ]
    }
   ],
   "source": [
    "try:\n",
    "    print(111)\n",
    "    print(1/0)\n",
    "    print(\"222\")\n",
    "except:\n",
    "    print(\"error 발생!!!\")"
   ]
  },
  {
   "cell_type": "code",
   "execution_count": 3,
   "id": "8ec9683a",
   "metadata": {},
   "outputs": [],
   "source": [
    "def divide(x,y):\n",
    "    try:\n",
    "        result = x/y\n",
    "    except ZeroDivisionError:\n",
    "        print(\"0으로 나눌수 없음!!!\")\n",
    "    except TypeError:\n",
    "        print(\"type Error\")\n",
    "    else:\n",
    "        print(\"결과는 =\", result)\n",
    "    finally: #써도 되고 안써도 된다\n",
    "        print(\"무조건 실행!!!\")"
   ]
  },
  {
   "cell_type": "code",
   "execution_count": 4,
   "id": "67106bb2",
   "metadata": {},
   "outputs": [
    {
     "name": "stdout",
     "output_type": "stream",
     "text": [
      "결과는 = 0.5\n",
      "무조건 실행!!!\n"
     ]
    }
   ],
   "source": [
    "divide(2,4)"
   ]
  },
  {
   "cell_type": "code",
   "execution_count": null,
   "id": "98e529f4",
   "metadata": {},
   "outputs": [],
   "source": []
  }
 ],
 "metadata": {
  "kernelspec": {
   "display_name": "Python 3",
   "language": "python",
   "name": "python3"
  },
  "language_info": {
   "codemirror_mode": {
    "name": "ipython",
    "version": 3
   },
   "file_extension": ".py",
   "mimetype": "text/x-python",
   "name": "python",
   "nbconvert_exporter": "python",
   "pygments_lexer": "ipython3",
   "version": "3.8.8"
  }
 },
 "nbformat": 4,
 "nbformat_minor": 5
}
