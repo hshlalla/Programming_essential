{
 "nbformat": 4,
 "nbformat_minor": 0,
 "metadata": {
  "colab": {
   "name": "210727_입출력.ipynb",
   "provenance": [],
   "collapsed_sections": [],
   "authorship_tag": "ABX9TyMspuOF0IrD+h961bnuiSxI"
  },
  "kernelspec": {
   "name": "python3",
   "display_name": "Python 3"
  },
  "language_info": {
   "name": "python"
  }
 },
 "cells": [
  {
   "cell_type": "code",
   "metadata": {
    "id": "HwvwzAn5cSPJ",
    "executionInfo": {
     "status": "ok",
     "timestamp": 1630853659474,
     "user_tz": -540,
     "elapsed": 261,
     "user": {
      "displayName": "하이다비",
      "photoUrl": "https://lh3.googleusercontent.com/a/default-user=s64",
      "userId": "07224346109532620542"
     }
    }
   },
   "source": [
    "fruit = open(\"/content/sample_data/README.md\",\"wt\")\n",
    "fruit_price = {\"apple\":3500,\"peer\":2500, \"cherry\":5000}\n",
    "for item in fruit_price.items():\n",
    "    print(item, file=fruit)\n",
    "fruit.close()"
   ],
   "execution_count": 4,
   "outputs": []
  },
  {
   "cell_type": "code",
   "metadata": {
    "id": "bUQ-QEilcpkO",
    "executionInfo": {
     "status": "ok",
     "timestamp": 1630853917315,
     "user_tz": -540,
     "elapsed": 245,
     "user": {
      "displayName": "하이다비",
      "photoUrl": "https://lh3.googleusercontent.com/a/default-user=s64",
      "userId": "07224346109532620542"
     }
    }
   },
   "source": [
    "fruit = open(\"fruit_a.txt\",\"wt\")\n",
    "fruit_price = {\"apple\":3500,\"peer\":2500,\"cherry\":5000}\n",
    "for item in fruit_price.items():\n",
    "    print(item,file=fruit)\n",
    "fruit.close()"
   ],
   "execution_count": 7,
   "outputs": []
  },
  {
   "cell_type": "code",
   "metadata": {
    "id": "W7574d9Vco44",
    "executionInfo": {
     "status": "ok",
     "timestamp": 1630854005895,
     "user_tz": -540,
     "elapsed": 254,
     "user": {
      "displayName": "하이다비",
      "photoUrl": "https://lh3.googleusercontent.com/a/default-user=s64",
      "userId": "07224346109532620542"
     }
    }
   },
   "source": [
    "fruit = open (\"/content/sample_data/README.md\",\"wt\")\n",
    "fruit.write(\"apple 3500\\n\")\n",
    "fruit.write(\"peer 2500\\n\")\n",
    "fruit.write(\"cherry 5000\\n\")\n",
    "fruit.close()"
   ],
   "execution_count": 9,
   "outputs": []
  },
  {
   "cell_type": "code",
   "metadata": {
    "id": "aBJ9P6aKeR-l",
    "executionInfo": {
     "status": "ok",
     "timestamp": 1630854196334,
     "user_tz": -540,
     "elapsed": 261,
     "user": {
      "displayName": "하이다비",
      "photoUrl": "https://lh3.googleusercontent.com/a/default-user=s64",
      "userId": "07224346109532620542"
     }
    }
   },
   "source": [
    "import csv\n",
    "with open (\"/content/sample_data/california.csv\", \"w\", newline=\"\")as fruit:\n",
    "    writer = csv.writer(fruit,delimiter = \"*\")\n",
    "    writer.writerow([\"111\"])\n",
    "    writer.writerow([\"222\"])\n",
    "    writer.writerow([\"333\"])\n",
    "    writer.writerow([\"444\"])\n",
    "    writer.writerow([\"555\"])\n"
   ],
   "execution_count": 10,
   "outputs": []
  },
  {
   "cell_type": "markdown",
   "metadata": {
    "id": "3VOTnMsZgvQI"
   },
   "source": [
    "# 파일 읽기"
   ]
  },
  {
   "cell_type": "code",
   "metadata": {
    "colab": {
     "base_uri": "https://localhost:8080/"
    },
    "id": "KQ87SL9TfCn6",
    "executionInfo": {
     "status": "ok",
     "timestamp": 1630854676826,
     "user_tz": -540,
     "elapsed": 286,
     "user": {
      "displayName": "하이다비",
      "photoUrl": "https://lh3.googleusercontent.com/a/default-user=s64",
      "userId": "07224346109532620542"
     }
    },
    "outputId": "615979df-8fb7-4516-e2ed-47c8d4c53e1e"
   },
   "source": [
    "fruit = open(\"/content/fruit_a.txt\",\"rt\")\n",
    "fruit.readlines()"
   ],
   "execution_count": 11,
   "outputs": [
    {
     "output_type": "execute_result",
     "data": {
      "text/plain": [
       "[\"('apple', 3500)\\n\", \"('peer', 2500)\\n\", \"('cherry', 5000)\\n\"]"
      ]
     },
     "metadata": {},
     "execution_count": 11
    }
   ]
  },
  {
   "cell_type": "code",
   "metadata": {
    "colab": {
     "base_uri": "https://localhost:8080/"
    },
    "id": "y1UdGPa-g37O",
    "executionInfo": {
     "status": "ok",
     "timestamp": 1630854701188,
     "user_tz": -540,
     "elapsed": 258,
     "user": {
      "displayName": "하이다비",
      "photoUrl": "https://lh3.googleusercontent.com/a/default-user=s64",
      "userId": "07224346109532620542"
     }
    },
    "outputId": "10e2f912-14d2-42ef-e81a-715e85393cae"
   },
   "source": [
    "fruit.readlines()"
   ],
   "execution_count": 12,
   "outputs": [
    {
     "output_type": "execute_result",
     "data": {
      "text/plain": [
       "[]"
      ]
     },
     "metadata": {},
     "execution_count": 12
    }
   ]
  },
  {
   "cell_type": "code",
   "metadata": {
    "colab": {
     "base_uri": "https://localhost:8080/"
    },
    "id": "aPq9TFGog93k",
    "executionInfo": {
     "status": "ok",
     "timestamp": 1630854724431,
     "user_tz": -540,
     "elapsed": 258,
     "user": {
      "displayName": "하이다비",
      "photoUrl": "https://lh3.googleusercontent.com/a/default-user=s64",
      "userId": "07224346109532620542"
     }
    },
    "outputId": "d4e8d611-26f6-42eb-892d-4d40041ab77c"
   },
   "source": [
    "fruit = open(\"/content/fruit_a.txt\",\"rt\")\n",
    "data = fruit.readlines()\n",
    "data"
   ],
   "execution_count": 13,
   "outputs": [
    {
     "output_type": "execute_result",
     "data": {
      "text/plain": [
       "[\"('apple', 3500)\\n\", \"('peer', 2500)\\n\", \"('cherry', 5000)\\n\"]"
      ]
     },
     "metadata": {},
     "execution_count": 13
    }
   ]
  },
  {
   "cell_type": "code",
   "metadata": {
    "colab": {
     "base_uri": "https://localhost:8080/",
     "height": 35
    },
    "id": "7aJHpv8ghDjR",
    "executionInfo": {
     "status": "ok",
     "timestamp": 1630854727629,
     "user_tz": -540,
     "elapsed": 6,
     "user": {
      "displayName": "하이다비",
      "photoUrl": "https://lh3.googleusercontent.com/a/default-user=s64",
      "userId": "07224346109532620542"
     }
    },
    "outputId": "ee1c6356-12e4-45a1-a4e9-1c60d4933f66"
   },
   "source": [
    "data[1]"
   ],
   "execution_count": 14,
   "outputs": [
    {
     "output_type": "execute_result",
     "data": {
      "application/vnd.google.colaboratory.intrinsic+json": {
       "type": "string"
      },
      "text/plain": [
       "\"('peer', 2500)\\n\""
      ]
     },
     "metadata": {},
     "execution_count": 14
    }
   ]
  },
  {
   "cell_type": "code",
   "metadata": {
    "colab": {
     "base_uri": "https://localhost:8080/"
    },
    "id": "OHdSRDHXhEV3",
    "executionInfo": {
     "status": "ok",
     "timestamp": 1630854870124,
     "user_tz": -540,
     "elapsed": 248,
     "user": {
      "displayName": "하이다비",
      "photoUrl": "https://lh3.googleusercontent.com/a/default-user=s64",
      "userId": "07224346109532620542"
     }
    },
    "outputId": "ad93e1df-9cd8-4d5f-f60a-f3fc5b698636"
   },
   "source": [
    "import csv\n",
    "f=fruit = open(\"/content/fruit_a.txt\",\"rt\")\n",
    "csvread = csv.reader(f)\n",
    "print(list(csvread))\n",
    "\n",
    "fruit = []\n",
    "for i in csvread:\n",
    "    print(i)\n",
    "    fruit.append(i)"
   ],
   "execution_count": 18,
   "outputs": [
    {
     "output_type": "stream",
     "name": "stdout",
     "text": [
      "[[\"('apple'\", ' 3500)'], [\"('peer'\", ' 2500)'], [\"('cherry'\", ' 5000)']]\n"
     ]
    }
   ]
  },
  {
   "cell_type": "code",
   "metadata": {
    "colab": {
     "base_uri": "https://localhost:8080/"
    },
    "id": "FHRPSlgFhXES",
    "executionInfo": {
     "status": "ok",
     "timestamp": 1630854877846,
     "user_tz": -540,
     "elapsed": 251,
     "user": {
      "displayName": "하이다비",
      "photoUrl": "https://lh3.googleusercontent.com/a/default-user=s64",
      "userId": "07224346109532620542"
     }
    },
    "outputId": "2a054af7-f646-4153-99d3-4b5941f572ec"
   },
   "source": [
    "fruit"
   ],
   "execution_count": 19,
   "outputs": [
    {
     "output_type": "execute_result",
     "data": {
      "text/plain": [
       "[]"
      ]
     },
     "metadata": {},
     "execution_count": 19
    }
   ]
  },
  {
   "cell_type": "code",
   "metadata": {
    "id": "BnNcaHjlhpAD"
   },
   "source": [],
   "execution_count": null,
   "outputs": []
  }
 ]
}
