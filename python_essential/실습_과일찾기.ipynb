{
 "nbformat": 4,
 "nbformat_minor": 5,
 "metadata": {
  "kernelspec": {
   "display_name": "Python 3",
   "language": "python",
   "name": "python3"
  },
  "language_info": {
   "codemirror_mode": {
    "name": "ipython",
    "version": 3
   },
   "file_extension": ".py",
   "mimetype": "text/x-python",
   "name": "python",
   "nbconvert_exporter": "python",
   "pygments_lexer": "ipython3",
   "version": "3.8.8"
  },
  "colab": {
   "name": "210727_실습 과일찾기.ipynb",
   "provenance": []
  }
 },
 "cells": [
  {
   "cell_type": "markdown",
   "metadata": {
    "id": "c32e3564"
   },
   "source": [
    "### (실습, 과일 몇 찾기)\n",
    "1.과일명과 과일가격으로 구성된 dict 데이터\n",
    "\n",
    "2.fruit={\"apple\":3500, \"peer\":2500, \"cherry\":5000}\n",
    "\n",
    "3.과일 가격이 3000원 보다 비싼 과일은 high에 저장\n",
    "\n",
    "4.3000원 보다 싼 과일의 이름을 low에 저장\n",
    "\n",
    "5.high. low를 출력"
   ],
   "id": "c32e3564"
  },
  {
   "cell_type": "code",
   "metadata": {
    "id": "31bd9c70",
    "outputId": "c13aca73-2cfa-4648-8570-401bbd12ff0e"
   },
   "source": [
    "fruit={\"apple\":3500, \"peer\":2500, \"cherry\":5000}\n",
    "fruit"
   ],
   "id": "31bd9c70",
   "execution_count": null,
   "outputs": [
    {
     "data": {
      "text/plain": [
       "{'apple': 3500, 'peer': 2500, 'cherry': 5000}"
      ]
     },
     "execution_count": 1,
     "metadata": {},
     "output_type": "execute_result"
    }
   ]
  },
  {
   "cell_type": "code",
   "metadata": {
    "scrolled": true,
    "id": "985a152c",
    "outputId": "86a355e8-eed1-46b9-832b-d73534d61300"
   },
   "source": [
    "fruit"
   ],
   "id": "985a152c",
   "execution_count": null,
   "outputs": [
    {
     "ename": "TypeError",
     "evalue": "items() takes no arguments (1 given)",
     "output_type": "error",
     "traceback": [
      "\u001B[1;31m---------------------------------------------------------------------------\u001B[0m",
      "\u001B[1;31mTypeError\u001B[0m                                 Traceback (most recent call last)",
      "\u001B[1;32m<ipython-input-13-6ce4c7b862df>\u001B[0m in \u001B[0;36m<module>\u001B[1;34m\u001B[0m\n\u001B[1;32m----> 1\u001B[1;33m \u001B[0mfruit\u001B[0m\u001B[1;33m.\u001B[0m\u001B[0mitems\u001B[0m\u001B[1;33m(\u001B[0m\u001B[1;33m[\u001B[0m\u001B[1;36m1\u001B[0m\u001B[1;33m]\u001B[0m\u001B[1;33m)\u001B[0m\u001B[1;33m\u001B[0m\u001B[1;33m\u001B[0m\u001B[0m\n\u001B[0m",
      "\u001B[1;31mTypeError\u001B[0m: items() takes no arguments (1 given)"
     ]
    }
   ]
  },
  {
   "cell_type": "code",
   "metadata": {
    "id": "def848ea",
    "outputId": "acda999f-cb9e-42b9-dac8-71d9bbd39165"
   },
   "source": [
    "for i in fruit.items():\n",
    "    print(i)"
   ],
   "id": "def848ea",
   "execution_count": null,
   "outputs": [
    {
     "name": "stdout",
     "output_type": "stream",
     "text": [
      "3500\n",
      "2500\n",
      "5000\n"
     ]
    }
   ]
  },
  {
   "cell_type": "code",
   "metadata": {
    "id": "357c8da3",
    "outputId": "b0ecbec5-7294-413b-c5c5-5aaa4156a2ef"
   },
   "source": [
    "high=[]\n",
    "low=[]\n",
    "for i in fruit.items(): #for다음 변수 이름 만들고 만들어진 변수는 위에 \n",
    "    if i [1] > 3000:\n",
    "        high.append([i[0],i[1]])# 리스트를 사용하면 딕셔너리에서 가격을 가져올 수 있다.\n",
    "    else:\n",
    "        low.append([i[0],i[1]])\n",
    "\n",
    "print(\"high= \",high)\n",
    "print(\"low= \",low)"
   ],
   "id": "357c8da3",
   "execution_count": null,
   "outputs": [
    {
     "name": "stdout",
     "output_type": "stream",
     "text": [
      "high=  [['apple', 3500], ['cherry', 5000]]\n",
      "low=  [['peer', 2500]]\n"
     ]
    }
   ]
  },
  {
   "cell_type": "code",
   "metadata": {
    "id": "2c96165d"
   },
   "source": [
    "fruit={\"apple\":[3500,5], \"peer\":[2500,2], \"cherry\":[5000,8], \"mango\":[2200,4]}"
   ],
   "id": "2c96165d",
   "execution_count": null,
   "outputs": []
  },
  {
   "cell_type": "code",
   "metadata": {
    "id": "bf260fc6",
    "outputId": "e6149c27-f808-4752-b9ae-36f73e3c5b2e"
   },
   "source": [
    "tot=0\n",
    "for f in fruit.items():\n",
    "    if f[1][0] > 3000:\n",
    "        tot = tot + f[1][1]\n",
    "print(\"tot= \",tot)"
   ],
   "id": "bf260fc6",
   "execution_count": null,
   "outputs": [
    {
     "name": "stdout",
     "output_type": "stream",
     "text": [
      "tot=  13\n"
     ]
    }
   ]
  },
  {
   "cell_type": "code",
   "metadata": {
    "id": "b1737529"
   },
   "source": [
    "class_a={\"a1\":[78,60,92,88],\"a2\":[66,88,77,90],\"a3\":[77,93,83,73],\"a4\":[55,99,96,87]}"
   ],
   "id": "b1737529",
   "execution_count": null,
   "outputs": []
  },
  {
   "cell_type": "code",
   "metadata": {
    "id": "4d0587fc",
    "outputId": "3739cdd1-1e53-4a96-cbc6-469e6b14b0ab"
   },
   "source": [
    "#1.데이터 확인하기\n",
    "class_a.values()"
   ],
   "id": "4d0587fc",
   "execution_count": null,
   "outputs": [
    {
     "data": {
      "text/plain": [
       "dict_values([[78, 60, 92, 88], [66, 88, 77, 90], [77, 93, 83, 73], [55, 99, 96, 87]])"
      ]
     },
     "execution_count": 43,
     "metadata": {},
     "output_type": "execute_result"
    }
   ]
  },
  {
   "cell_type": "code",
   "metadata": {
    "id": "87d047b4",
    "outputId": "1981c6c1-d763-4db0-f1fc-f006ad2b0bad"
   },
   "source": [
    "num=list(range(1,6,2));num #패턴이 있으면 무조건 range쓰는 연습하기 range(처음값,둘째값,거리값)"
   ],
   "id": "87d047b4",
   "execution_count": null,
   "outputs": [
    {
     "data": {
      "text/plain": [
       "[1, 3, 5]"
      ]
     },
     "execution_count": 45,
     "metadata": {},
     "output_type": "execute_result"
    }
   ]
  },
  {
   "cell_type": "code",
   "metadata": {
    "id": "bbee6d5f",
    "outputId": "59eed9d0-da4a-4b5b-9536-19b7528acf6f"
   },
   "source": [
    "square = []\n",
    "for i in num:\n",
    "    square.append(i**2)\n",
    "print(square)\n",
    "    "
   ],
   "id": "bbee6d5f",
   "execution_count": null,
   "outputs": [
    {
     "name": "stdout",
     "output_type": "stream",
     "text": [
      "[1, 9, 25]\n"
     ]
    }
   ]
  },
  {
   "cell_type": "code",
   "metadata": {
    "id": "b3031aad"
   },
   "source": [
    "import csv\n",
    "with open(\"fruit.csv\",\"w\",newline==\"\")"
   ],
   "id": "b3031aad",
   "execution_count": null,
   "outputs": []
  },
  {
   "cell_type": "code",
   "metadata": {
    "id": "f436f270"
   },
   "source": [],
   "id": "f436f270",
   "execution_count": null,
   "outputs": []
  }
 ]
}
