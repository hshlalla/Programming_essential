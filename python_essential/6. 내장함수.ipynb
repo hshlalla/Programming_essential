{
 "nbformat": 4,
 "nbformat_minor": 0,
 "metadata": {
  "kernelspec": {
   "display_name": "Python 3",
   "language": "python",
   "name": "python3"
  },
  "language_info": {
   "codemirror_mode": {
    "name": "ipython",
    "version": 3
   },
   "file_extension": ".py",
   "mimetype": "text/x-python",
   "name": "python",
   "nbconvert_exporter": "python",
   "pygments_lexer": "ipython3",
   "version": "3.8.5"
  },
  "colab": {
   "name": "210730_내장함수.ipynb",
   "provenance": [],
   "collapsed_sections": []
  }
 },
 "cells": [
  {
   "cell_type": "markdown",
   "metadata": {
    "id": "7F_3_EOREJaP"
   },
   "source": [
    "### (id())"
   ]
  },
  {
   "cell_type": "code",
   "metadata": {
    "id": "WUOBLfQlEJaT"
   },
   "source": [
    "a=1\n",
    "b=2"
   ],
   "execution_count": null,
   "outputs": []
  },
  {
   "cell_type": "code",
   "metadata": {
    "id": "dgUm8lEdEJaV",
    "outputId": "2c85a9fb-b903-4e52-8346-57b5cf17504b"
   },
   "source": [
    "id(a)"
   ],
   "execution_count": null,
   "outputs": [
    {
     "data": {
      "text/plain": [
       "4512168288"
      ]
     },
     "execution_count": 2,
     "metadata": {},
     "output_type": "execute_result"
    }
   ]
  },
  {
   "cell_type": "code",
   "metadata": {
    "colab": {
     "base_uri": "https://localhost:8080/"
    },
    "id": "GbK7j-yaESqw",
    "executionInfo": {
     "status": "ok",
     "timestamp": 1630243218783,
     "user_tz": -540,
     "elapsed": 270,
     "user": {
      "displayName": "하이다비",
      "photoUrl": "",
      "userId": "07224346109532620542"
     }
    },
    "outputId": "b3e20727-6d22-456e-eee3-fbc669484988"
   },
   "source": [
    "id(b)"
   ],
   "execution_count": null,
   "outputs": [
    {
     "output_type": "execute_result",
     "data": {
      "text/plain": [
       "94548859316768"
      ]
     },
     "metadata": {},
     "execution_count": 6
    }
   ]
  },
  {
   "cell_type": "code",
   "metadata": {
    "id": "NQR661MNEJaW"
   },
   "source": [
    "c=2\n",
    "d=c"
   ],
   "execution_count": null,
   "outputs": []
  },
  {
   "cell_type": "code",
   "metadata": {
    "colab": {
     "base_uri": "https://localhost:8080/"
    },
    "id": "bFGs-d6kEJaW",
    "executionInfo": {
     "status": "ok",
     "timestamp": 1630243222974,
     "user_tz": -540,
     "elapsed": 287,
     "user": {
      "displayName": "하이다비",
      "photoUrl": "",
      "userId": "07224346109532620542"
     }
    },
    "outputId": "493ed993-5e48-419a-bddd-ade865ccdfab"
   },
   "source": [
    "id(c)"
   ],
   "execution_count": null,
   "outputs": [
    {
     "output_type": "execute_result",
     "data": {
      "text/plain": [
       "94548859316768"
      ]
     },
     "metadata": {},
     "execution_count": 8
    }
   ]
  },
  {
   "cell_type": "code",
   "metadata": {
    "colab": {
     "base_uri": "https://localhost:8080/"
    },
    "id": "aN4H1_1PEJaX",
    "executionInfo": {
     "status": "ok",
     "timestamp": 1630243231189,
     "user_tz": -540,
     "elapsed": 257,
     "user": {
      "displayName": "하이다비",
      "photoUrl": "",
      "userId": "07224346109532620542"
     }
    },
    "outputId": "477f75a4-d08d-4836-c110-a15b1a717fec"
   },
   "source": [
    "id(d)"
   ],
   "execution_count": null,
   "outputs": [
    {
     "output_type": "execute_result",
     "data": {
      "text/plain": [
       "94548859316768"
      ]
     },
     "metadata": {},
     "execution_count": 10
    }
   ]
  },
  {
   "cell_type": "code",
   "metadata": {
    "id": "R0P6pHC5EJaX"
   },
   "source": [
    "a1=[1,2,3]\n",
    "b1=a1"
   ],
   "execution_count": null,
   "outputs": []
  },
  {
   "cell_type": "code",
   "metadata": {
    "id": "f3rwUDvkEJaX",
    "outputId": "04d75a2d-9c77-4f98-9ed1-0741bedd3007"
   },
   "source": [
    "id(a1)"
   ],
   "execution_count": null,
   "outputs": [
    {
     "data": {
      "text/plain": [
       "4559553216"
      ]
     },
     "execution_count": 11,
     "metadata": {},
     "output_type": "execute_result"
    }
   ]
  },
  {
   "cell_type": "code",
   "metadata": {
    "id": "wJjTzvizEJaY",
    "outputId": "8fe42506-58c2-4072-dc47-96e0f1560e9f"
   },
   "source": [
    "id(b1)"
   ],
   "execution_count": null,
   "outputs": [
    {
     "data": {
      "text/plain": [
       "4559553216"
      ]
     },
     "execution_count": 12,
     "metadata": {},
     "output_type": "execute_result"
    }
   ]
  },
  {
   "cell_type": "code",
   "metadata": {
    "id": "LaUpgkW_EJaY",
    "outputId": "60af02ef-695d-4dab-996a-01507065fdac"
   },
   "source": [
    "a1[1]=99\n",
    "a1"
   ],
   "execution_count": null,
   "outputs": [
    {
     "data": {
      "text/plain": [
       "[1, 99, 3]"
      ]
     },
     "execution_count": 13,
     "metadata": {},
     "output_type": "execute_result"
    }
   ]
  },
  {
   "cell_type": "code",
   "metadata": {
    "id": "DFyvdJcHEJaZ",
    "outputId": "bf6b6d63-5946-4d0f-c524-c33e3958cff1"
   },
   "source": [
    "b1"
   ],
   "execution_count": null,
   "outputs": [
    {
     "data": {
      "text/plain": [
       "[1, 99, 3]"
      ]
     },
     "execution_count": 14,
     "metadata": {},
     "output_type": "execute_result"
    }
   ]
  },
  {
   "cell_type": "code",
   "metadata": {
    "id": "l3yBAyajEJaZ",
    "outputId": "8300fd48-4d60-4eba-ba56-b83e4739ec38"
   },
   "source": [
    "id(a1)"
   ],
   "execution_count": null,
   "outputs": [
    {
     "data": {
      "text/plain": [
       "4559553216"
      ]
     },
     "execution_count": 15,
     "metadata": {},
     "output_type": "execute_result"
    }
   ]
  },
  {
   "cell_type": "code",
   "metadata": {
    "id": "WigtVVQ3EJaa",
    "outputId": "a423c9a3-95cb-4dc5-d80f-db66a3263f04"
   },
   "source": [
    "id(b1)"
   ],
   "execution_count": null,
   "outputs": [
    {
     "data": {
      "text/plain": [
       "4559553216"
      ]
     },
     "execution_count": 16,
     "metadata": {},
     "output_type": "execute_result"
    }
   ]
  },
  {
   "cell_type": "code",
   "metadata": {
    "id": "4izV-hCaEJaa"
   },
   "source": [
    "c1=a1.copy()"
   ],
   "execution_count": null,
   "outputs": []
  },
  {
   "cell_type": "code",
   "metadata": {
    "id": "SQz_KbbVEJaa"
   },
   "source": [
    "d1 =a1[:]"
   ],
   "execution_count": null,
   "outputs": []
  },
  {
   "cell_type": "code",
   "metadata": {
    "id": "2Fm_8--7EJab",
    "outputId": "f0f58620-54eb-4f36-f957-67796b24ef57"
   },
   "source": [
    "id(a1)==id(b1)"
   ],
   "execution_count": null,
   "outputs": [
    {
     "data": {
      "text/plain": [
       "True"
      ]
     },
     "execution_count": 21,
     "metadata": {},
     "output_type": "execute_result"
    }
   ]
  },
  {
   "cell_type": "markdown",
   "metadata": {
    "id": "WiDKaR90EJab"
   },
   "source": [
    "# enumerate"
   ]
  },
  {
   "cell_type": "code",
   "metadata": {
    "id": "OuyJwgDmEJab"
   },
   "source": [
    "sea = [\"a\",\"b\",\"c\",\"d\"]"
   ],
   "execution_count": null,
   "outputs": []
  },
  {
   "cell_type": "code",
   "metadata": {
    "colab": {
     "base_uri": "https://localhost:8080/",
     "height": 130
    },
    "id": "TYjXPxrpEJac",
    "executionInfo": {
     "status": "error",
     "timestamp": 1630243305236,
     "user_tz": -540,
     "elapsed": 270,
     "user": {
      "displayName": "하이다비",
      "photoUrl": "",
      "userId": "07224346109532620542"
     }
    },
    "outputId": "bf628b6a-35c0-44b7-e3c3-90f8f0ce75bc"
   },
   "source": [
    "sea[0] \"a\"\n",
    "sea[1] \"b\""
   ],
   "execution_count": null,
   "outputs": [
    {
     "output_type": "error",
     "ename": "SyntaxError",
     "evalue": "ignored",
     "traceback": [
      "\u001B[0;36m  File \u001B[0;32m\"<ipython-input-13-610dfd1d63d1>\"\u001B[0;36m, line \u001B[0;32m1\u001B[0m\n\u001B[0;31m    sea[0]... \"a\"\u001B[0m\n\u001B[0m            ^\u001B[0m\n\u001B[0;31mSyntaxError\u001B[0m\u001B[0;31m:\u001B[0m invalid syntax\n"
     ]
    }
   ]
  },
  {
   "cell_type": "code",
   "metadata": {
    "colab": {
     "base_uri": "https://localhost:8080/"
    },
    "id": "blPMfLB-EJac",
    "executionInfo": {
     "status": "ok",
     "timestamp": 1630243348836,
     "user_tz": -540,
     "elapsed": 254,
     "user": {
      "displayName": "하이다비",
      "photoUrl": "",
      "userId": "07224346109532620542"
     }
    },
    "outputId": "edd1d830-79f1-461d-e418-5a16cae78b70"
   },
   "source": [
    "list(enumerate(sea))"
   ],
   "execution_count": null,
   "outputs": [
    {
     "output_type": "execute_result",
     "data": {
      "text/plain": [
       "[(0, 'a'), (1, 'b'), (2, 'c'), (3, 'd')]"
      ]
     },
     "metadata": {},
     "execution_count": 17
    }
   ]
  },
  {
   "cell_type": "code",
   "metadata": {
    "colab": {
     "base_uri": "https://localhost:8080/"
    },
    "id": "uRm3Xa_HE5eW",
    "executionInfo": {
     "status": "ok",
     "timestamp": 1630243389692,
     "user_tz": -540,
     "elapsed": 350,
     "user": {
      "displayName": "하이다비",
      "photoUrl": "",
      "userId": "07224346109532620542"
     }
    },
    "outputId": "dc8f326d-0f35-4b29-e2d3-377f8946dcb7"
   },
   "source": [
    "n = 0\n",
    "for data in sea:\n",
    "    print (\"n = \",n,\"data = \",data)\n",
    "    n+=1"
   ],
   "execution_count": null,
   "outputs": [
    {
     "output_type": "stream",
     "text": [
      "n =  0 data =  a\n",
      "n =  1 data =  b\n",
      "n =  2 data =  c\n",
      "n =  3 data =  d\n"
     ],
     "name": "stdout"
    }
   ]
  },
  {
   "cell_type": "code",
   "metadata": {
    "colab": {
     "base_uri": "https://localhost:8080/"
    },
    "id": "MIe-y9JcFI-Y",
    "executionInfo": {
     "status": "ok",
     "timestamp": 1630243476596,
     "user_tz": -540,
     "elapsed": 258,
     "user": {
      "displayName": "하이다비",
      "photoUrl": "",
      "userId": "07224346109532620542"
     }
    },
    "outputId": "494889f5-45ce-4314-f746-add9eb566c01"
   },
   "source": [
    "for data in enumerate(sea):\n",
    "    print(data)\n",
    "    print(\"idx = \", data[0])\n",
    "    print(\"val = \", data[1])"
   ],
   "execution_count": null,
   "outputs": [
    {
     "output_type": "stream",
     "text": [
      "(0, 'a')\n",
      "idx =  0\n",
      "val =  a\n",
      "(1, 'b')\n",
      "idx =  1\n",
      "val =  b\n",
      "(2, 'c')\n",
      "idx =  2\n",
      "val =  c\n",
      "(3, 'd')\n",
      "idx =  3\n",
      "val =  d\n"
     ],
     "name": "stdout"
    }
   ]
  },
  {
   "cell_type": "code",
   "metadata": {
    "colab": {
     "base_uri": "https://localhost:8080/"
    },
    "id": "fipRjEYVFZFR",
    "executionInfo": {
     "status": "ok",
     "timestamp": 1630243529201,
     "user_tz": -540,
     "elapsed": 255,
     "user": {
      "displayName": "하이다비",
      "photoUrl": "",
      "userId": "07224346109532620542"
     }
    },
    "outputId": "045504f8-a717-4ea4-ab33-45c03772e890"
   },
   "source": [
    "for idx, val in enumerate(sea):\n",
    "    print(\"idx = \",idx, \"val=\", val)"
   ],
   "execution_count": null,
   "outputs": [
    {
     "output_type": "stream",
     "text": [
      "idx =  0 val= a\n",
      "idx =  1 val= b\n",
      "idx =  2 val= c\n",
      "idx =  3 val= d\n"
     ],
     "name": "stdout"
    }
   ]
  },
  {
   "cell_type": "code",
   "metadata": {
    "colab": {
     "base_uri": "https://localhost:8080/"
    },
    "id": "n40XLefWFlB9",
    "executionInfo": {
     "status": "ok",
     "timestamp": 1630243571612,
     "user_tz": -540,
     "elapsed": 308,
     "user": {
      "displayName": "하이다비",
      "photoUrl": "",
      "userId": "07224346109532620542"
     }
    },
    "outputId": "aaecf94b-1184-41c6-d07d-7be9512e8a11"
   },
   "source": [
    "x= (\"a\",\"b\",\"c\")\n",
    "y= enumerate(x)\n",
    "list(y)"
   ],
   "execution_count": null,
   "outputs": [
    {
     "output_type": "execute_result",
     "data": {
      "text/plain": [
       "[(0, 'a'), (1, 'b'), (2, 'c')]"
      ]
     },
     "metadata": {},
     "execution_count": 23
    }
   ]
  },
  {
   "cell_type": "markdown",
   "metadata": {
    "id": "eROGteFmFvV8"
   },
   "source": [
    "#(Eval) #스트링 변수를 int로 형변환 없이 계산할수 있는 함수"
   ]
  },
  {
   "cell_type": "code",
   "metadata": {
    "id": "SdbhhbgJGTiY"
   },
   "source": [
    "x=1"
   ],
   "execution_count": null,
   "outputs": []
  },
  {
   "cell_type": "code",
   "metadata": {
    "colab": {
     "base_uri": "https://localhost:8080/"
    },
    "id": "bHhNwA-WGTeC",
    "executionInfo": {
     "status": "ok",
     "timestamp": 1630243745182,
     "user_tz": -540,
     "elapsed": 1825,
     "user": {
      "displayName": "하이다비",
      "photoUrl": "",
      "userId": "07224346109532620542"
     }
    },
    "outputId": "456d2956-0e01-4428-f0ca-a777d078baa0"
   },
   "source": [
    "eval(\"x+1\")"
   ],
   "execution_count": null,
   "outputs": [
    {
     "output_type": "execute_result",
     "data": {
      "text/plain": [
       "2"
      ]
     },
     "metadata": {},
     "execution_count": 25
    }
   ]
  },
  {
   "cell_type": "code",
   "metadata": {
    "colab": {
     "base_uri": "https://localhost:8080/"
    },
    "id": "VR2_OQbvGTZ6",
    "executionInfo": {
     "status": "ok",
     "timestamp": 1630243772019,
     "user_tz": -540,
     "elapsed": 255,
     "user": {
      "displayName": "하이다비",
      "photoUrl": "",
      "userId": "07224346109532620542"
     }
    },
    "outputId": "9a68761c-a1e8-4a71-bda6-14c33c3ef46b"
   },
   "source": [
    "x=\"print(55)\"\n",
    "print(\"1 = \",x)\n",
    "eval(x)"
   ],
   "execution_count": null,
   "outputs": [
    {
     "output_type": "stream",
     "text": [
      "1 =  print(55)\n",
      "55\n"
     ],
     "name": "stdout"
    }
   ]
  },
  {
   "cell_type": "code",
   "metadata": {
    "colab": {
     "base_uri": "https://localhost:8080/"
    },
    "id": "42MYTNHGGTWM",
    "executionInfo": {
     "status": "ok",
     "timestamp": 1630243790723,
     "user_tz": -540,
     "elapsed": 271,
     "user": {
      "displayName": "하이다비",
      "photoUrl": "",
      "userId": "07224346109532620542"
     }
    },
    "outputId": "9ff79e77-b415-48f6-bf49-7ee2f7b1c83c"
   },
   "source": [
    "print(\"2 = \",eval(x))"
   ],
   "execution_count": null,
   "outputs": [
    {
     "output_type": "stream",
     "text": [
      "55\n",
      "2 =  None\n"
     ],
     "name": "stdout"
    }
   ]
  },
  {
   "cell_type": "code",
   "metadata": {
    "colab": {
     "base_uri": "https://localhost:8080/"
    },
    "id": "2PUIaxSwGTRy",
    "executionInfo": {
     "status": "ok",
     "timestamp": 1630243868077,
     "user_tz": -540,
     "elapsed": 283,
     "user": {
      "displayName": "하이다비",
      "photoUrl": "",
      "userId": "07224346109532620542"
     }
    },
    "outputId": "7d9542a1-1863-4734-8a58-08ac1ffdd8e5"
   },
   "source": [
    "b= eval(\"100 +32\")\n",
    "b"
   ],
   "execution_count": null,
   "outputs": [
    {
     "output_type": "execute_result",
     "data": {
      "text/plain": [
       "132"
      ]
     },
     "metadata": {},
     "execution_count": 29
    }
   ]
  },
  {
   "cell_type": "code",
   "metadata": {
    "colab": {
     "base_uri": "https://localhost:8080/",
     "height": 35
    },
    "id": "0AP3lhDiGTNc",
    "executionInfo": {
     "status": "ok",
     "timestamp": 1630243883308,
     "user_tz": -540,
     "elapsed": 319,
     "user": {
      "displayName": "하이다비",
      "photoUrl": "",
      "userId": "07224346109532620542"
     }
    },
    "outputId": "5acb7b4a-14cd-454c-a96c-23dc67172f24"
   },
   "source": [
    "dd = [1,2,3,4]\n",
    "\"len(dd)\""
   ],
   "execution_count": null,
   "outputs": [
    {
     "output_type": "execute_result",
     "data": {
      "application/vnd.google.colaboratory.intrinsic+json": {
       "type": "string"
      },
      "text/plain": [
       "'len(dd)'"
      ]
     },
     "metadata": {},
     "execution_count": 30
    }
   ]
  },
  {
   "cell_type": "code",
   "metadata": {
    "colab": {
     "base_uri": "https://localhost:8080/"
    },
    "id": "0DFPsEdkGTJ1",
    "executionInfo": {
     "status": "ok",
     "timestamp": 1630243892402,
     "user_tz": -540,
     "elapsed": 286,
     "user": {
      "displayName": "하이다비",
      "photoUrl": "",
      "userId": "07224346109532620542"
     }
    },
    "outputId": "caba0643-3224-4395-df76-04a8900b5590"
   },
   "source": [
    "eval(\"len(dd)\")"
   ],
   "execution_count": null,
   "outputs": [
    {
     "output_type": "execute_result",
     "data": {
      "text/plain": [
       "4"
      ]
     },
     "metadata": {},
     "execution_count": 31
    }
   ]
  },
  {
   "cell_type": "code",
   "metadata": {
    "colab": {
     "base_uri": "https://localhost:8080/",
     "height": 35
    },
    "id": "Aflz5YYPGTFe",
    "executionInfo": {
     "status": "ok",
     "timestamp": 1630244031324,
     "user_tz": -540,
     "elapsed": 266,
     "user": {
      "displayName": "하이다비",
      "photoUrl": "",
      "userId": "07224346109532620542"
     }
    },
    "outputId": "be12dbe4-b9c3-415e-86c7-ae93c5eb257e"
   },
   "source": [
    "ee=\"len(dd)\"\n",
    "ee"
   ],
   "execution_count": null,
   "outputs": [
    {
     "output_type": "execute_result",
     "data": {
      "application/vnd.google.colaboratory.intrinsic+json": {
       "type": "string"
      },
      "text/plain": [
       "'len(dd)'"
      ]
     },
     "metadata": {},
     "execution_count": 32
    }
   ]
  },
  {
   "cell_type": "code",
   "metadata": {
    "colab": {
     "base_uri": "https://localhost:8080/"
    },
    "id": "Ib3MmGekGTCJ",
    "executionInfo": {
     "status": "ok",
     "timestamp": 1630244037768,
     "user_tz": -540,
     "elapsed": 272,
     "user": {
      "displayName": "하이다비",
      "photoUrl": "",
      "userId": "07224346109532620542"
     }
    },
    "outputId": "0cfafb18-0cd8-4c5e-efcb-70a23a0d5f4d"
   },
   "source": [
    "eval(ee)"
   ],
   "execution_count": null,
   "outputs": [
    {
     "output_type": "execute_result",
     "data": {
      "text/plain": [
       "4"
      ]
     },
     "metadata": {},
     "execution_count": 33
    }
   ]
  },
  {
   "cell_type": "code",
   "metadata": {
    "id": "SXLdFWHWGS9g"
   },
   "source": [],
   "execution_count": null,
   "outputs": []
  },
  {
   "cell_type": "code",
   "metadata": {
    "id": "7vFV03pKEJac",
    "outputId": "c2555be3-83b2-45ea-ff48-257edb578f53"
   },
   "source": [
    "b= eval(\"3.14+3\");b"
   ],
   "execution_count": null,
   "outputs": [
    {
     "data": {
      "text/plain": [
       "6.140000000000001"
      ]
     },
     "execution_count": 28,
     "metadata": {},
     "output_type": "execute_result"
    }
   ]
  },
  {
   "cell_type": "markdown",
   "metadata": {
    "id": "hZqziNUcEJad"
   },
   "source": [
    "## filter"
   ]
  },
  {
   "cell_type": "code",
   "metadata": {
    "id": "IHRmiOVNEJad"
   },
   "source": [
    "ages= [5,12,17,18,24,32]\n",
    "def myfunc(x):\n",
    "    if x <18:\n",
    "        return False\n",
    "    else:\n",
    "        return True"
   ],
   "execution_count": null,
   "outputs": []
  },
  {
   "cell_type": "code",
   "metadata": {
    "colab": {
     "base_uri": "https://localhost:8080/"
    },
    "id": "9oSDHlzfH_5-",
    "executionInfo": {
     "status": "ok",
     "timestamp": 1630244281688,
     "user_tz": -540,
     "elapsed": 272,
     "user": {
      "displayName": "하이다비",
      "photoUrl": "",
      "userId": "07224346109532620542"
     }
    },
    "outputId": "8a42fd37-55d2-4adb-ddc6-9245bdcbf078"
   },
   "source": [
    "res=[]\n",
    "for x in ages:\n",
    "    if x >=18:\n",
    "        res.append(x)\n",
    "res"
   ],
   "execution_count": null,
   "outputs": [
    {
     "output_type": "execute_result",
     "data": {
      "text/plain": [
       "[18, 24, 32]"
      ]
     },
     "metadata": {},
     "execution_count": 41
    }
   ]
  },
  {
   "cell_type": "code",
   "metadata": {
    "colab": {
     "base_uri": "https://localhost:8080/"
    },
    "id": "pzWowecFH_3u",
    "executionInfo": {
     "status": "ok",
     "timestamp": 1630244302488,
     "user_tz": -540,
     "elapsed": 386,
     "user": {
      "displayName": "하이다비",
      "photoUrl": "",
      "userId": "07224346109532620542"
     }
    },
    "outputId": "f520b708-02b0-43fa-e929-c3fb0e0bf9af"
   },
   "source": [
    "filter(myfunc,ages)"
   ],
   "execution_count": null,
   "outputs": [
    {
     "output_type": "execute_result",
     "data": {
      "text/plain": [
       "<filter at 0x7f0d2a315a10>"
      ]
     },
     "metadata": {},
     "execution_count": 42
    }
   ]
  },
  {
   "cell_type": "code",
   "metadata": {
    "colab": {
     "base_uri": "https://localhost:8080/"
    },
    "id": "jiPrW-AbH_03",
    "executionInfo": {
     "status": "ok",
     "timestamp": 1630244432252,
     "user_tz": -540,
     "elapsed": 256,
     "user": {
      "displayName": "하이다비",
      "photoUrl": "",
      "userId": "07224346109532620542"
     }
    },
    "outputId": "4f52c3c4-8fb1-4acf-9988-37baecaccf08"
   },
   "source": [
    "list(filter(myfunc,ages))"
   ],
   "execution_count": null,
   "outputs": [
    {
     "output_type": "execute_result",
     "data": {
      "text/plain": [
       "[18, 24, 32]"
      ]
     },
     "metadata": {},
     "execution_count": 47
    }
   ]
  },
  {
   "cell_type": "code",
   "metadata": {
    "colab": {
     "base_uri": "https://localhost:8080/"
    },
    "id": "6VgdCr65H_yP",
    "executionInfo": {
     "status": "ok",
     "timestamp": 1630244450206,
     "user_tz": -540,
     "elapsed": 267,
     "user": {
      "displayName": "하이다비",
      "photoUrl": "",
      "userId": "07224346109532620542"
     }
    },
    "outputId": "a5361f1d-cdc3-42fb-9764-c746ab90bf30"
   },
   "source": [
    "target  = list (range(1,11))\n",
    "target"
   ],
   "execution_count": null,
   "outputs": [
    {
     "output_type": "execute_result",
     "data": {
      "text/plain": [
       "[1, 2, 3, 4, 5, 6, 7, 8, 9, 10]"
      ]
     },
     "metadata": {},
     "execution_count": 48
    }
   ]
  },
  {
   "cell_type": "code",
   "metadata": {
    "id": "Z1d7Rrw3H_v0"
   },
   "source": [
    "def is_even(n):\n",
    "    return True if n%2 == 0 else False"
   ],
   "execution_count": null,
   "outputs": []
  },
  {
   "cell_type": "code",
   "metadata": {
    "colab": {
     "base_uri": "https://localhost:8080/"
    },
    "id": "bLV0khfdH_tH",
    "executionInfo": {
     "status": "ok",
     "timestamp": 1630244500760,
     "user_tz": -540,
     "elapsed": 256,
     "user": {
      "displayName": "하이다비",
      "photoUrl": "",
      "userId": "07224346109532620542"
     }
    },
    "outputId": "d1e59ea6-f9d9-4420-a241-569e5e1bf020"
   },
   "source": [
    "is_even"
   ],
   "execution_count": null,
   "outputs": [
    {
     "output_type": "execute_result",
     "data": {
      "text/plain": [
       "<function __main__.is_even>"
      ]
     },
     "metadata": {},
     "execution_count": 51
    }
   ]
  },
  {
   "cell_type": "code",
   "metadata": {
    "colab": {
     "base_uri": "https://localhost:8080/"
    },
    "id": "IaRQxZLNH_qp",
    "executionInfo": {
     "status": "ok",
     "timestamp": 1630244531245,
     "user_tz": -540,
     "elapsed": 258,
     "user": {
      "displayName": "하이다비",
      "photoUrl": "",
      "userId": "07224346109532620542"
     }
    },
    "outputId": "db9173dc-5da8-44ba-e85f-41ec3201ebd4"
   },
   "source": [
    "list(filter(is_even,target))"
   ],
   "execution_count": null,
   "outputs": [
    {
     "output_type": "execute_result",
     "data": {
      "text/plain": [
       "[2, 4, 6, 8, 10]"
      ]
     },
     "metadata": {},
     "execution_count": 52
    }
   ]
  },
  {
   "cell_type": "code",
   "metadata": {
    "colab": {
     "base_uri": "https://localhost:8080/"
    },
    "id": "q7sq6B5BH_n_",
    "executionInfo": {
     "status": "ok",
     "timestamp": 1630244582421,
     "user_tz": -540,
     "elapsed": 275,
     "user": {
      "displayName": "하이다비",
      "photoUrl": "",
      "userId": "07224346109532620542"
     }
    },
    "outputId": "97836dab-b04b-482f-c85d-aabd50923633"
   },
   "source": [
    "target = list(range(1,11))\n",
    "list(filter(lambda x : x%2 == 0, target))"
   ],
   "execution_count": null,
   "outputs": [
    {
     "output_type": "execute_result",
     "data": {
      "text/plain": [
       "[2, 4, 6, 8, 10]"
      ]
     },
     "metadata": {},
     "execution_count": 53
    }
   ]
  },
  {
   "cell_type": "code",
   "metadata": {
    "colab": {
     "base_uri": "https://localhost:8080/"
    },
    "id": "679GKeRUH_ll",
    "executionInfo": {
     "status": "ok",
     "timestamp": 1630244628854,
     "user_tz": -540,
     "elapsed": 274,
     "user": {
      "displayName": "하이다비",
      "photoUrl": "",
      "userId": "07224346109532620542"
     }
    },
    "outputId": "90fef3ad-483d-4680-8888-37d9bbd2bed4"
   },
   "source": [
    "list(filter(lambda x : x%2==0, list(range(1,11))))"
   ],
   "execution_count": null,
   "outputs": [
    {
     "output_type": "execute_result",
     "data": {
      "text/plain": [
       "[2, 4, 6, 8, 10]"
      ]
     },
     "metadata": {},
     "execution_count": 54
    }
   ]
  },
  {
   "cell_type": "code",
   "metadata": {
    "id": "Zi2JqxARJ_xY",
    "colab": {
     "base_uri": "https://localhost:8080/"
    },
    "executionInfo": {
     "status": "ok",
     "timestamp": 1630314917153,
     "user_tz": -540,
     "elapsed": 285,
     "user": {
      "displayName": "하이다비",
      "photoUrl": "",
      "userId": "07224346109532620542"
     }
    },
    "outputId": "dedd86d1-3546-4ea9-c1d1-f4aca70a6c08"
   },
   "source": [
    "def myfunc(n):\n",
    "    return len(n)\n",
    "\n",
    "list(map(myfunc, (\"apple\",\"banana\",\"cherry\")))\n",
    "    "
   ],
   "execution_count": null,
   "outputs": [
    {
     "output_type": "execute_result",
     "data": {
      "text/plain": [
       "[5, 6, 6]"
      ]
     },
     "metadata": {},
     "execution_count": 2
    }
   ]
  },
  {
   "cell_type": "code",
   "metadata": {
    "id": "5WBg0L4TJ_tK",
    "colab": {
     "base_uri": "https://localhost:8080/"
    },
    "executionInfo": {
     "status": "ok",
     "timestamp": 1630314961837,
     "user_tz": -540,
     "elapsed": 283,
     "user": {
      "displayName": "하이다비",
      "photoUrl": "",
      "userId": "07224346109532620542"
     }
    },
    "outputId": "50f5f26a-60b9-4664-cf50-71d5b5f451d0"
   },
   "source": [
    "aa = (\"apple\",\"banana\",\"cherry\") #맵을 안쓰면 포문을 돌려서 넣어야 한다.\n",
    "\n",
    "res = []\n",
    "for i in aa:\n",
    "    res.append(len(i))\n",
    "res"
   ],
   "execution_count": null,
   "outputs": [
    {
     "output_type": "execute_result",
     "data": {
      "text/plain": [
       "[5, 6, 6]"
      ]
     },
     "metadata": {},
     "execution_count": 4
    }
   ]
  },
  {
   "cell_type": "code",
   "metadata": {
    "id": "VRc1gOodJ_q3",
    "executionInfo": {
     "status": "ok",
     "timestamp": 1630387314976,
     "user_tz": -540,
     "elapsed": 5,
     "user": {
      "displayName": "하이다비",
      "photoUrl": "",
      "userId": "07224346109532620542"
     }
    }
   },
   "source": [
    "def myfunc1(a,b):\n",
    "    return a+\"-\"+b\n",
    "\n",
    "a=(\"a1\",\"b1\",\"c1\")\n",
    "b=(\"a2\",\"b2\",\"c2\")"
   ],
   "execution_count": 1,
   "outputs": []
  },
  {
   "cell_type": "code",
   "metadata": {
    "id": "Ghp_1SVdJ_n4",
    "colab": {
     "base_uri": "https://localhost:8080/"
    },
    "executionInfo": {
     "status": "ok",
     "timestamp": 1630387337972,
     "user_tz": -540,
     "elapsed": 262,
     "user": {
      "displayName": "하이다비",
      "photoUrl": "",
      "userId": "07224346109532620542"
     }
    },
    "outputId": "466418c8-1185-4018-e1b3-0900fb5d33cb"
   },
   "source": [
    "list(map(myfunc1,a,b))"
   ],
   "execution_count": 2,
   "outputs": [
    {
     "output_type": "execute_result",
     "data": {
      "text/plain": [
       "['a1-a2', 'b1-b2', 'c1-c2']"
      ]
     },
     "metadata": {},
     "execution_count": 2
    }
   ]
  },
  {
   "cell_type": "code",
   "metadata": {
    "id": "on-WPZw5J_lK",
    "colab": {
     "base_uri": "https://localhost:8080/"
    },
    "executionInfo": {
     "status": "ok",
     "timestamp": 1630387399588,
     "user_tz": -540,
     "elapsed": 243,
     "user": {
      "displayName": "하이다비",
      "photoUrl": "",
      "userId": "07224346109532620542"
     }
    },
    "outputId": "9bfa0704-d49f-4a2b-a113-6576dfd74119"
   },
   "source": [
    "def myfunc2(n):\n",
    "    return n+1\n",
    "target=[1,2,3,4,5]\n",
    "list(map(myfunc2,target))"
   ],
   "execution_count": 3,
   "outputs": [
    {
     "output_type": "execute_result",
     "data": {
      "text/plain": [
       "[2, 3, 4, 5, 6]"
      ]
     },
     "metadata": {},
     "execution_count": 3
    }
   ]
  },
  {
   "cell_type": "code",
   "metadata": {
    "id": "nv8dYU7jJ_if",
    "colab": {
     "base_uri": "https://localhost:8080/"
    },
    "executionInfo": {
     "status": "ok",
     "timestamp": 1630387437421,
     "user_tz": -540,
     "elapsed": 229,
     "user": {
      "displayName": "하이다비",
      "photoUrl": "",
      "userId": "07224346109532620542"
     }
    },
    "outputId": "15a9e270-0bcb-4c51-d1a5-17badcdda35d"
   },
   "source": [
    "list(map(lambda x : x+1, target))"
   ],
   "execution_count": 4,
   "outputs": [
    {
     "output_type": "execute_result",
     "data": {
      "text/plain": [
       "[2, 3, 4, 5, 6]"
      ]
     },
     "metadata": {},
     "execution_count": 4
    }
   ]
  },
  {
   "cell_type": "markdown",
   "metadata": {
    "id": "hlZc-6TwJ_gJ"
   },
   "source": [
    "#(lambda)함수"
   ]
  },
  {
   "cell_type": "code",
   "metadata": {
    "id": "ahWhj4gKJ_dH",
    "colab": {
     "base_uri": "https://localhost:8080/"
    },
    "executionInfo": {
     "status": "ok",
     "timestamp": 1630387494200,
     "user_tz": -540,
     "elapsed": 4,
     "user": {
      "displayName": "하이다비",
      "photoUrl": "",
      "userId": "07224346109532620542"
     }
    },
    "outputId": "833230c2-541b-40f9-982e-e501013fe2a2"
   },
   "source": [
    "def x(a):\n",
    "    return a+10\n",
    "x(5)"
   ],
   "execution_count": 5,
   "outputs": [
    {
     "output_type": "execute_result",
     "data": {
      "text/plain": [
       "15"
      ]
     },
     "metadata": {},
     "execution_count": 5
    }
   ]
  },
  {
   "cell_type": "code",
   "metadata": {
    "colab": {
     "base_uri": "https://localhost:8080/"
    },
    "id": "szEUu6JiqoeI",
    "executionInfo": {
     "status": "ok",
     "timestamp": 1630387498755,
     "user_tz": -540,
     "elapsed": 4,
     "user": {
      "displayName": "하이다비",
      "photoUrl": "",
      "userId": "07224346109532620542"
     }
    },
    "outputId": "fdab29f1-3a5a-4277-9269-5ad288ff1ab2"
   },
   "source": [
    "x(10)"
   ],
   "execution_count": 6,
   "outputs": [
    {
     "output_type": "execute_result",
     "data": {
      "text/plain": [
       "20"
      ]
     },
     "metadata": {},
     "execution_count": 6
    }
   ]
  },
  {
   "cell_type": "code",
   "metadata": {
    "id": "FAmIMZOEJ_am",
    "colab": {
     "base_uri": "https://localhost:8080/"
    },
    "executionInfo": {
     "status": "ok",
     "timestamp": 1630387503017,
     "user_tz": -540,
     "elapsed": 228,
     "user": {
      "displayName": "하이다비",
      "photoUrl": "",
      "userId": "07224346109532620542"
     }
    },
    "outputId": "73d49efa-2a2d-42c9-ce8f-288a55b3d145"
   },
   "source": [
    "x"
   ],
   "execution_count": 7,
   "outputs": [
    {
     "output_type": "execute_result",
     "data": {
      "text/plain": [
       "<function __main__.x>"
      ]
     },
     "metadata": {},
     "execution_count": 7
    }
   ]
  },
  {
   "cell_type": "code",
   "metadata": {
    "id": "OxuOCuGFJ_X1",
    "colab": {
     "base_uri": "https://localhost:8080/"
    },
    "executionInfo": {
     "status": "ok",
     "timestamp": 1630387536131,
     "user_tz": -540,
     "elapsed": 4,
     "user": {
      "displayName": "하이다비",
      "photoUrl": "",
      "userId": "07224346109532620542"
     }
    },
    "outputId": "47a42476-1f15-42e1-ffcd-d5e2b82506fd"
   },
   "source": [
    "lambda a : a+10"
   ],
   "execution_count": 8,
   "outputs": [
    {
     "output_type": "execute_result",
     "data": {
      "text/plain": [
       "<function __main__.<lambda>>"
      ]
     },
     "metadata": {},
     "execution_count": 8
    }
   ]
  },
  {
   "cell_type": "code",
   "metadata": {
    "colab": {
     "base_uri": "https://localhost:8080/"
    },
    "id": "YOofjyesq310",
    "executionInfo": {
     "status": "ok",
     "timestamp": 1630387560404,
     "user_tz": -540,
     "elapsed": 3,
     "user": {
      "displayName": "하이다비",
      "photoUrl": "",
      "userId": "07224346109532620542"
     }
    },
    "outputId": "140a7f95-fc07-45b1-d5e3-1662f0555bd3"
   },
   "source": [
    "y = lambda a : a+10\n",
    "y(5)"
   ],
   "execution_count": 10,
   "outputs": [
    {
     "output_type": "execute_result",
     "data": {
      "text/plain": [
       "15"
      ]
     },
     "metadata": {},
     "execution_count": 10
    }
   ]
  },
  {
   "cell_type": "code",
   "metadata": {
    "colab": {
     "base_uri": "https://localhost:8080/"
    },
    "id": "2CYk0VKfq8p0",
    "executionInfo": {
     "status": "ok",
     "timestamp": 1630387577607,
     "user_tz": -540,
     "elapsed": 4,
     "user": {
      "displayName": "하이다비",
      "photoUrl": "",
      "userId": "07224346109532620542"
     }
    },
    "outputId": "e0fe9f2b-5334-4f64-c1e3-41b3e26e9827"
   },
   "source": [
    "(lambda a: a+10)(5)"
   ],
   "execution_count": 11,
   "outputs": [
    {
     "output_type": "execute_result",
     "data": {
      "text/plain": [
       "15"
      ]
     },
     "metadata": {},
     "execution_count": 11
    }
   ]
  },
  {
   "cell_type": "code",
   "metadata": {
    "colab": {
     "base_uri": "https://localhost:8080/"
    },
    "id": "mRNE_DwFrB-2",
    "executionInfo": {
     "status": "ok",
     "timestamp": 1630387598403,
     "user_tz": -540,
     "elapsed": 3,
     "user": {
      "displayName": "하이다비",
      "photoUrl": "",
      "userId": "07224346109532620542"
     }
    },
    "outputId": "fcb89442-a558-436d-c315-0c922ef0765a"
   },
   "source": [
    "(lambda x,y : x*y)(5,6)"
   ],
   "execution_count": 12,
   "outputs": [
    {
     "output_type": "execute_result",
     "data": {
      "text/plain": [
       "30"
      ]
     },
     "metadata": {},
     "execution_count": 12
    }
   ]
  },
  {
   "cell_type": "code",
   "metadata": {
    "id": "I2RlwLEorHED",
    "executionInfo": {
     "status": "ok",
     "timestamp": 1630387654902,
     "user_tz": -540,
     "elapsed": 3,
     "user": {
      "displayName": "하이다비",
      "photoUrl": "",
      "userId": "07224346109532620542"
     }
    }
   },
   "source": [
    "def myfunc(n):\n",
    "    return lambda a: a*n"
   ],
   "execution_count": 13,
   "outputs": []
  },
  {
   "cell_type": "code",
   "metadata": {
    "colab": {
     "base_uri": "https://localhost:8080/"
    },
    "id": "S3coLOi8rU2l",
    "executionInfo": {
     "status": "ok",
     "timestamp": 1630387677613,
     "user_tz": -540,
     "elapsed": 4,
     "user": {
      "displayName": "하이다비",
      "photoUrl": "",
      "userId": "07224346109532620542"
     }
    },
    "outputId": "8a184dec-8f2c-45c1-f482-843bcc8f3dab"
   },
   "source": [
    "myfunc(2)(11)"
   ],
   "execution_count": 15,
   "outputs": [
    {
     "output_type": "execute_result",
     "data": {
      "text/plain": [
       "22"
      ]
     },
     "metadata": {},
     "execution_count": 15
    }
   ]
  },
  {
   "cell_type": "code",
   "metadata": {
    "colab": {
     "base_uri": "https://localhost:8080/"
    },
    "id": "qIaMiLx9rWmY",
    "executionInfo": {
     "status": "ok",
     "timestamp": 1630387719518,
     "user_tz": -540,
     "elapsed": 4,
     "user": {
      "displayName": "하이다비",
      "photoUrl": "",
      "userId": "07224346109532620542"
     }
    },
    "outputId": "7dff2648-890e-4a44-c748-68e9c97622f4"
   },
   "source": [
    "(lambda a : a*2)(11)"
   ],
   "execution_count": 16,
   "outputs": [
    {
     "output_type": "execute_result",
     "data": {
      "text/plain": [
       "22"
      ]
     },
     "metadata": {},
     "execution_count": 16
    }
   ]
  },
  {
   "cell_type": "markdown",
   "metadata": {
    "id": "_HK5Oi5rrknv"
   },
   "source": [
    "#zip"
   ]
  },
  {
   "cell_type": "code",
   "metadata": {
    "colab": {
     "base_uri": "https://localhost:8080/"
    },
    "id": "8QEL3AnVroYh",
    "executionInfo": {
     "status": "ok",
     "timestamp": 1630387841072,
     "user_tz": -540,
     "elapsed": 4,
     "user": {
      "displayName": "하이다비",
      "photoUrl": "",
      "userId": "07224346109532620542"
     }
    },
    "outputId": "9c69e078-5766-4861-a9e1-6c0062ce0086"
   },
   "source": [
    "x = list(range(1,5))\n",
    "print(\"x = \", x)\n",
    "y = list(range(4,7))\n",
    "print(\"y = \", y)"
   ],
   "execution_count": 20,
   "outputs": [
    {
     "output_type": "stream",
     "name": "stdout",
     "text": [
      "x =  [1, 2, 3, 4]\n",
      "y=  [4, 5, 6]\n"
     ]
    }
   ]
  },
  {
   "cell_type": "code",
   "metadata": {
    "colab": {
     "base_uri": "https://localhost:8080/"
    },
    "id": "KZtWv6QrsCTj",
    "executionInfo": {
     "status": "ok",
     "timestamp": 1630387860328,
     "user_tz": -540,
     "elapsed": 3,
     "user": {
      "displayName": "하이다비",
      "photoUrl": "",
      "userId": "07224346109532620542"
     }
    },
    "outputId": "95944231-c918-496a-9ce6-8c774975530b"
   },
   "source": [
    "list(zip(x,y))"
   ],
   "execution_count": 21,
   "outputs": [
    {
     "output_type": "execute_result",
     "data": {
      "text/plain": [
       "[(1, 4), (2, 5), (3, 6)]"
      ]
     },
     "metadata": {},
     "execution_count": 21
    }
   ]
  },
  {
   "cell_type": "code",
   "metadata": {
    "id": "SHMTrd-NsHBt"
   },
   "source": [],
   "execution_count": null,
   "outputs": []
  }
 ]
}
