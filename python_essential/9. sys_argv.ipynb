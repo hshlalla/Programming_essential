{
 "cells": [
  {
   "cell_type": "markdown",
   "id": "b53b662d",
   "metadata": {},
   "source": [
    "## (주요 작업 절차)\n",
    "1. *.ipynb 파일을 만들어서 실행\n",
    "2. ipynb -> py\n",
    "3. python a.py\n"
   ]
  },
  {
   "cell_type": "markdown",
   "id": "2d60f3ca",
   "metadata": {},
   "source": [
    "## 네이버 뉴스 수집\n",
    "1. 날짜 2일, page 3페이지 수집하는 모듈을 만들었다.\n",
    "2. a. ipynb를 불러서 -> 날짜, page 정보를 수정하고... 실행\n",
    "3. a.py 날짜 page"
   ]
  },
  {
   "cell_type": "code",
   "execution_count": 13,
   "id": "02a2818a",
   "metadata": {},
   "outputs": [
    {
     "name": "stdout",
     "output_type": "stream",
     "text": [
      "Writing acc_arg.py\n"
     ]
    }
   ],
   "source": [
    "%%writefile acc_arg.py\n",
    "\n",
    "import sys\n",
    "\n",
    "def main(argv):\n",
    "    print(\"main = \",argv)\n",
    "    \n",
    "if __name__ == \"__main__\":\n",
    "    print(\"init = \",sys.argv)\n",
    "    main(sys.argv)"
   ]
  },
  {
   "cell_type": "code",
   "execution_count": 14,
   "id": "27f9abfe",
   "metadata": {},
   "outputs": [
    {
     "name": "stdout",
     "output_type": "stream",
     "text": [
      "init =  ['acc_arg.py', '210804', '210805', '3']\n",
      "main =  ['acc_arg.py', '210804', '210805', '3']\n"
     ]
    }
   ],
   "source": [
    "%run acc_arg.py 210804 210805 3"
   ]
  },
  {
   "cell_type": "code",
   "execution_count": null,
   "id": "1925b280",
   "metadata": {},
   "outputs": [],
   "source": []
  }
 ],
 "metadata": {
  "kernelspec": {
   "display_name": "Python 3",
   "language": "python",
   "name": "python3"
  },
  "language_info": {
   "codemirror_mode": {
    "name": "ipython",
    "version": 3
   },
   "file_extension": ".py",
   "mimetype": "text/x-python",
   "name": "python",
   "nbconvert_exporter": "python",
   "pygments_lexer": "ipython3",
   "version": "3.8.8"
  }
 },
 "nbformat": 4,
 "nbformat_minor": 5
}
