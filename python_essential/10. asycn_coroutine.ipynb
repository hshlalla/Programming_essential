{
 "cells": [
  {
   "cell_type": "markdown",
   "metadata": {},
   "source": [
    "# 동기식 처리방식\n",
    "동기식 처리방식은 한계가있다 싱글스레드만 사용하기때문에 한개가 지연처리 되면 느리게진행됨"
   ]
  },
  {
   "cell_type": "code",
   "execution_count": 3,
   "metadata": {},
   "outputs": [],
   "source": [
    "import time\n",
    "def find_users_sync(n):\n",
    "    for i in range(1, n+1):\n",
    "        print(f'{n} 명중{i} 번째 사용자 조회중..')\n",
    "        time.sleep(0.1) #의도적으로 지연발생 싱글스레드 역할\n",
    "    print(f'>  총{n}명 사용자 동기조회 완료!')\n",
    "\n",
    "def process_sync():\n",
    "    start = time.time()\n",
    "    find_users_sync(3)\n",
    "    find_users_sync(2)\n",
    "    find_users_sync(1)\n",
    "    end = time.time()\n",
    "    print(f'>>> 동기 처리 중 소요시간: {end -start}')"
   ]
  },
  {
   "cell_type": "code",
   "execution_count": 5,
   "metadata": {
    "scrolled": true
   },
   "outputs": [
    {
     "name": "stdout",
     "output_type": "stream",
     "text": [
      "3 명중1 번째 사용자 조회중..\n",
      "3 명중2 번째 사용자 조회중..\n",
      "3 명중3 번째 사용자 조회중..\n",
      ">  총3명 사용자 동기조회 완료!\n",
      "2 명중1 번째 사용자 조회중..\n",
      "2 명중2 번째 사용자 조회중..\n",
      ">  총2명 사용자 동기조회 완료!\n",
      "1 명중1 번째 사용자 조회중..\n",
      ">  총1명 사용자 동기조회 완료!\n",
      ">>> 동기 처리 중 소요시간: 0.602330207824707\n"
     ]
    }
   ],
   "source": [
    "process_sync()"
   ]
  },
  {
   "cell_type": "markdown",
   "metadata": {},
   "source": [
    "# 비동기식 처리방식\n",
    "다만 비동기처리의 중요한점은 순서가 정해져 있기때문에 딥러닝에사용시에는 주의가 필요하다."
   ]
  },
  {
   "cell_type": "code",
   "execution_count": 4,
   "metadata": {},
   "outputs": [],
   "source": [
    "import time\n",
    "import asyncio\n",
    "\n",
    "async def find_users_async(n):\n",
    "    for i in range(1,n+1):\n",
    "        print(f'{n}명 중 {i} 번 째 사용자 조회 중 ...')\n",
    "        await asyncio.sleep(1)\n",
    "    print(f'>총 {n}명 사용자 비동기 조회 완료!')"
   ]
  },
  {
   "cell_type": "code",
   "execution_count": 5,
   "metadata": {},
   "outputs": [
    {
     "name": "stdout",
     "output_type": "stream",
     "text": [
      "10명 중 1 번 째 사용자 조회 중 ...\n",
      "10명 중 2 번 째 사용자 조회 중 ...\n",
      "10명 중 3 번 째 사용자 조회 중 ...\n",
      "10명 중 4 번 째 사용자 조회 중 ...\n",
      "10명 중 5 번 째 사용자 조회 중 ...\n",
      "10명 중 6 번 째 사용자 조회 중 ...\n",
      "10명 중 7 번 째 사용자 조회 중 ...\n",
      "10명 중 8 번 째 사용자 조회 중 ...\n",
      "10명 중 9 번 째 사용자 조회 중 ...\n",
      "10명 중 10 번 째 사용자 조회 중 ...\n",
      ">총 10명 사용자 비동기 조회 완료!\n"
     ]
    }
   ],
   "source": [
    "await (find_users_async(10))"
   ]
  },
  {
   "cell_type": "code",
   "execution_count": 12,
   "metadata": {},
   "outputs": [],
   "source": [
    "async def process_async():\n",
    "    start = time.time()\n",
    "    await asyncio.wait([\n",
    "        find_users_async(3),\n",
    "        find_users_async(2),\n",
    "        find_users_async(1)])\n",
    "    end = time.time()\n",
    "    print(\"비동기 처리시간은 :\",(end-start))\n",
    "    "
   ]
  },
  {
   "cell_type": "code",
   "execution_count": 15,
   "metadata": {},
   "outputs": [
    {
     "name": "stderr",
     "output_type": "stream",
     "text": [
      "/tmp/ipykernel_706293/1776326554.py:3: DeprecationWarning: The explicit passing of coroutine objects to asyncio.wait() is deprecated since Python 3.8, and scheduled for removal in Python 3.11.\n",
      "  await asyncio.wait([\n"
     ]
    },
    {
     "name": "stdout",
     "output_type": "stream",
     "text": [
      "3명 중 1 번 째 사용자 조회 중 ...\n",
      "2명 중 1 번 째 사용자 조회 중 ...\n",
      "1명 중 1 번 째 사용자 조회 중 ...\n",
      "3명 중 2 번 째 사용자 조회 중 ...\n",
      "2명 중 2 번 째 사용자 조회 중 ...\n",
      ">총 1명 사용자 비동기 조회 완료!\n",
      "3명 중 3 번 째 사용자 조회 중 ...\n",
      ">총 2명 사용자 비동기 조회 완료!\n",
      ">총 3명 사용자 비동기 조회 완료!\n",
      "비동기 처리시간은 : 3.0064539909362793\n"
     ]
    }
   ],
   "source": [
    "await (process_async())"
   ]
  }
 ],
 "metadata": {
  "kernelspec": {
   "display_name": "Python 3 (ipykernel)",
   "language": "python",
   "name": "python3"
  },
  "language_info": {
   "codemirror_mode": {
    "name": "ipython",
    "version": 3
   },
   "file_extension": ".py",
   "mimetype": "text/x-python",
   "name": "python",
   "nbconvert_exporter": "python",
   "pygments_lexer": "ipython3",
   "version": "3.10.8"
  }
 },
 "nbformat": 4,
 "nbformat_minor": 1
}
