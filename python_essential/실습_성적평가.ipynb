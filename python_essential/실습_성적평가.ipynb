{
 "cells": [
  {
   "cell_type": "markdown",
   "id": "feb822c7",
   "metadata": {},
   "source": [
    "###  (실습. 성적 평가 )\n",
    "1.화면에서 점수를 입력 받아\n",
    "\n",
    "2.90점 이상은 \"A\"\n",
    "\n",
    "3.80~90점은 \"B\"\n",
    "\n",
    "4.70~80점은 \"C\"\n",
    "\n",
    "5,70이하는 \"D\"를\n",
    "\n",
    "6.출력 예 ( 95점은 A 등급입니다.)"
   ]
  },
  {
   "cell_type": "code",
   "execution_count": 8,
   "id": "42b299d4",
   "metadata": {},
   "outputs": [
    {
     "name": "stdout",
     "output_type": "stream",
     "text": [
      "55\n",
      "55점은 D등급입니다\n"
     ]
    }
   ],
   "source": [
    "x=int(input())\n",
    "if x>90:\n",
    "    print (\"{}점은 A등급입니다\".format(x))\n",
    "elif x>80:\n",
    "    print (\"{}점은 B등급입니다\".format(x))\n",
    "elif x>70:\n",
    "    print (\"{}점은 C등급입니다\".format(x))\n",
    "else:\n",
    "    print (\"{}점은 D등급입니다\".format(x))"
   ]
  },
  {
   "cell_type": "code",
   "execution_count": null,
   "id": "b04e391d",
   "metadata": {},
   "outputs": [],
   "source": [
    "score = int(input(\"점수는? \"))\n",
    "if score >= 90:\n",
    "    if score==100:\n",
    "        degree = \"Perfect\"\n",
    "    else:\n",
    "        degree = \"Very Good\"\n",
    "elif (score >=80) and (score <90):\n",
    "    degree = \"Good\"\n",
    "else:\n",
    "    degree = \"Bad\"\n",
    "print(score, \"은 \", degree, \"등급 입니다.\")\n",
    "print(\"{} 은 {} 등급 입니다\".format(score, degree))"
   ]
  },
  {
   "cell_type": "code",
   "execution_count": null,
   "id": "fe65eb3f",
   "metadata": {},
   "outputs": [],
   "source": [
    "score = int(input(\"점수는? \"))\n",
    "if score == 100:\n",
    "    degree = \"Perfect\"\n",
    "elif score>=90:\n",
    "    degree = \"Very Good\"\n",
    "elif (score >=80):\n",
    "    degree = \"Good\"\n",
    "else:\n",
    "    degree = \"Bad\"\n",
    "print(score, \"은 \", degree, \"등급 입니다.\")\n",
    "print(\"{} 은 {} 등급 입니다\".format(score, degree))"
   ]
  }
 ],
 "metadata": {
  "kernelspec": {
   "display_name": "Python 3",
   "language": "python",
   "name": "python3"
  },
  "language_info": {
   "codemirror_mode": {
    "name": "ipython",
    "version": 3
   },
   "file_extension": ".py",
   "mimetype": "text/x-python",
   "name": "python",
   "nbconvert_exporter": "python",
   "pygments_lexer": "ipython3",
   "version": "3.8.8"
  }
 },
 "nbformat": 4,
 "nbformat_minor": 5
}
