{
 "nbformat": 4,
 "nbformat_minor": 5,
 "metadata": {
  "kernelspec": {
   "display_name": "Python 3",
   "language": "python",
   "name": "python3"
  },
  "language_info": {
   "codemirror_mode": {
    "name": "ipython",
    "version": 3
   },
   "file_extension": ".py",
   "mimetype": "text/x-python",
   "name": "python",
   "nbconvert_exporter": "python",
   "pygments_lexer": "ipython3",
   "version": "3.8.8"
  },
  "colab": {
   "name": "210728_함수_def.ipynb",
   "provenance": []
  }
 },
 "cells": [
  {
   "cell_type": "code",
   "metadata": {
    "id": "ff79bdf3"
   },
   "source": [
    "### ( 함수, function, def ) \n",
    "# 반복적으로 사용하는 코드를 모아서 동작 시키 기능 \n",
    "# def 함수명():\n",
    "#     실행코드1\n",
    "#     실행코드2\n",
    "#     return "
   ],
   "id": "ff79bdf3",
   "execution_count": null,
   "outputs": []
  },
  {
   "cell_type": "markdown",
   "metadata": {
    "id": "f813c5fa"
   },
   "source": [
    "1. 인자없는 실행함수\n",
    "2. 인자를 받아서 실행하는 함수\n",
    "3. 인자를 받아서 실행후 결과를 돌려주는 함수\n",
    "4. 입력값을 여러개 받아서 처리하는 함수 "
   ],
   "id": "f813c5fa"
  },
  {
   "cell_type": "code",
   "metadata": {
    "id": "e1570808"
   },
   "source": [],
   "id": "e1570808",
   "execution_count": null,
   "outputs": []
  },
  {
   "cell_type": "code",
   "metadata": {
    "id": "38f33f20"
   },
   "source": [
    "# 1.인자 없는 실행함수 \n",
    "def hello():\n",
    "    print(\"aaa\")\n",
    "    print(\"bbb\")\n",
    "    print(\"ccc\")"
   ],
   "id": "38f33f20",
   "execution_count": null,
   "outputs": []
  },
  {
   "cell_type": "code",
   "metadata": {
    "id": "87a18cdb",
    "outputId": "135775dc-c5c4-4a59-d18d-3d46f4bf4b95"
   },
   "source": [
    "# 함수 실행\n",
    "hello()"
   ],
   "id": "87a18cdb",
   "execution_count": null,
   "outputs": [
    {
     "name": "stdout",
     "output_type": "stream",
     "text": [
      "aaa\n",
      "bbb\n",
      "ccc\n"
     ]
    }
   ]
  },
  {
   "cell_type": "code",
   "metadata": {
    "id": "c138763c"
   },
   "source": [],
   "id": "c138763c",
   "execution_count": null,
   "outputs": []
  },
  {
   "cell_type": "code",
   "metadata": {
    "id": "aa662c8b"
   },
   "source": [
    "# 2. 인자를 받아서 실행하는 함수\n",
    "def sum(a,b):\n",
    "    c = a+b\n",
    "    print(c) "
   ],
   "id": "aa662c8b",
   "execution_count": null,
   "outputs": []
  },
  {
   "cell_type": "code",
   "metadata": {
    "id": "721d7fad",
    "outputId": "e80bb5a4-a739-4fe6-fde8-7c2fbb9ba93d"
   },
   "source": [
    "sum(3,5)"
   ],
   "id": "721d7fad",
   "execution_count": null,
   "outputs": [
    {
     "name": "stdout",
     "output_type": "stream",
     "text": [
      "8\n"
     ]
    }
   ]
  },
  {
   "cell_type": "code",
   "metadata": {
    "id": "b4922245",
    "outputId": "597061b9-fea3-4ed5-c5f6-a622c510eaae"
   },
   "source": [
    "x = 3; y = 10\n",
    "sum(x,y)"
   ],
   "id": "b4922245",
   "execution_count": null,
   "outputs": [
    {
     "name": "stdout",
     "output_type": "stream",
     "text": [
      "13\n"
     ]
    }
   ]
  },
  {
   "cell_type": "code",
   "metadata": {
    "id": "2462a0b2",
    "outputId": "dedabcd0-d8f6-47ed-8471-2a7760f29995"
   },
   "source": [
    "res = sum(x,y)\n",
    "print(\"res = \", res)"
   ],
   "id": "2462a0b2",
   "execution_count": null,
   "outputs": [
    {
     "name": "stdout",
     "output_type": "stream",
     "text": [
      "13\n",
      "res =  None\n"
     ]
    }
   ]
  },
  {
   "cell_type": "code",
   "metadata": {
    "id": "14569ced"
   },
   "source": [],
   "id": "14569ced",
   "execution_count": null,
   "outputs": []
  },
  {
   "cell_type": "code",
   "metadata": {
    "id": "3543dfd5"
   },
   "source": [
    "# 3. 인자를 받아서 실행후 결과값을 돌려주는 함수 \n",
    "def fun(x,y):\n",
    "    z = x*y\n",
    "    print(\"z = \", z)\n",
    "    return z"
   ],
   "id": "3543dfd5",
   "execution_count": null,
   "outputs": []
  },
  {
   "cell_type": "code",
   "metadata": {
    "id": "5a72bd31",
    "outputId": "e1ff261f-bbab-4067-c6b0-d52451bea1f0"
   },
   "source": [
    "fun(3,8)"
   ],
   "id": "5a72bd31",
   "execution_count": null,
   "outputs": [
    {
     "name": "stdout",
     "output_type": "stream",
     "text": [
      "z =  24\n"
     ]
    },
    {
     "data": {
      "text/plain": [
       "24"
      ]
     },
     "execution_count": 27,
     "metadata": {},
     "output_type": "execute_result"
    }
   ]
  },
  {
   "cell_type": "code",
   "metadata": {
    "id": "faada104",
    "outputId": "546f9167-22b7-4106-e4fa-beecdf32521b"
   },
   "source": [
    "res = fun(3,8)\n",
    "print(\"res = \", res)"
   ],
   "id": "faada104",
   "execution_count": null,
   "outputs": [
    {
     "name": "stdout",
     "output_type": "stream",
     "text": [
      "z =  24\n",
      "res =  24\n"
     ]
    }
   ]
  },
  {
   "cell_type": "code",
   "metadata": {
    "id": "039a9581"
   },
   "source": [],
   "id": "039a9581",
   "execution_count": null,
   "outputs": []
  },
  {
   "cell_type": "code",
   "metadata": {
    "id": "79fef747"
   },
   "source": [
    "def fun1(x,y):\n",
    "    z = x*y\n",
    "    print(\"z = \", z)\n",
    "    return x+y, x*y, x-y"
   ],
   "id": "79fef747",
   "execution_count": null,
   "outputs": []
  },
  {
   "cell_type": "code",
   "metadata": {
    "id": "f0a8f9db",
    "outputId": "68de3a30-9556-4c34-e730-8cacc1457805"
   },
   "source": [
    "fun1(5,8)"
   ],
   "id": "f0a8f9db",
   "execution_count": null,
   "outputs": [
    {
     "name": "stdout",
     "output_type": "stream",
     "text": [
      "z =  40\n"
     ]
    },
    {
     "data": {
      "text/plain": [
       "(13, 320, -3)"
      ]
     },
     "execution_count": 30,
     "metadata": {},
     "output_type": "execute_result"
    }
   ]
  },
  {
   "cell_type": "code",
   "metadata": {
    "id": "a445d93f",
    "outputId": "9dd013a2-70f4-412e-e3d4-a9979da98858"
   },
   "source": [
    "res = fun1(5,8); res"
   ],
   "id": "a445d93f",
   "execution_count": null,
   "outputs": [
    {
     "name": "stdout",
     "output_type": "stream",
     "text": [
      "z =  40\n"
     ]
    },
    {
     "data": {
      "text/plain": [
       "(13, 320, -3)"
      ]
     },
     "execution_count": 31,
     "metadata": {},
     "output_type": "execute_result"
    }
   ]
  },
  {
   "cell_type": "code",
   "metadata": {
    "id": "be9f83e3",
    "outputId": "e8e8fbf7-638b-47a2-9798-601b9e56a3d9"
   },
   "source": [
    "a,b,c = fun1(5,8)"
   ],
   "id": "be9f83e3",
   "execution_count": null,
   "outputs": [
    {
     "name": "stdout",
     "output_type": "stream",
     "text": [
      "z =  40\n"
     ]
    }
   ]
  },
  {
   "cell_type": "code",
   "metadata": {
    "id": "2e403f5e",
    "outputId": "bf15db91-9588-42bc-9277-0cab6c6daff3"
   },
   "source": [
    "print(\"a = \", a)\n",
    "print(\"b = \", b)\n",
    "print(\"c = \", c)"
   ],
   "id": "2e403f5e",
   "execution_count": null,
   "outputs": [
    {
     "name": "stdout",
     "output_type": "stream",
     "text": [
      "a =  13\n",
      "b =  320\n",
      "c =  -3\n"
     ]
    }
   ]
  },
  {
   "cell_type": "code",
   "metadata": {
    "id": "8cd1562b",
    "outputId": "14d13e8c-b265-4786-9aa2-c6de42188c37"
   },
   "source": [
    "res = fun1(5,8)\n",
    "print(\"1 = \", res[0])\n",
    "print(\"2 = \", res[1])\n",
    "print(\"3 = \", res[2])"
   ],
   "id": "8cd1562b",
   "execution_count": null,
   "outputs": [
    {
     "name": "stdout",
     "output_type": "stream",
     "text": [
      "z =  40\n",
      "1 =  13\n",
      "2 =  320\n",
      "3 =  -3\n"
     ]
    }
   ]
  },
  {
   "cell_type": "code",
   "metadata": {
    "id": "0ae102e9"
   },
   "source": [],
   "id": "0ae102e9",
   "execution_count": null,
   "outputs": []
  },
  {
   "cell_type": "code",
   "metadata": {
    "id": "243e1c7d"
   },
   "source": [
    "def fun2(x,y):\n",
    "    return x+y, x*y, x-y"
   ],
   "id": "243e1c7d",
   "execution_count": null,
   "outputs": []
  },
  {
   "cell_type": "code",
   "metadata": {
    "id": "9c09823b",
    "outputId": "c916c883-e8a6-48cb-aa1b-b53fc1d106df"
   },
   "source": [
    "fun2(5,10)"
   ],
   "id": "9c09823b",
   "execution_count": null,
   "outputs": [
    {
     "data": {
      "text/plain": [
       "(15, 50, -5)"
      ]
     },
     "execution_count": 39,
     "metadata": {},
     "output_type": "execute_result"
    }
   ]
  },
  {
   "cell_type": "code",
   "metadata": {
    "id": "fd810602"
   },
   "source": [],
   "id": "fd810602",
   "execution_count": null,
   "outputs": []
  },
  {
   "cell_type": "code",
   "metadata": {
    "id": "431956ea"
   },
   "source": [
    "def fun3(x1,y1):\n",
    "    aaa = x1+y1\n",
    "    bbb = x1*y1\n",
    "    ccc = x1-y1\n",
    "    return aaa,bbb,ccc"
   ],
   "id": "431956ea",
   "execution_count": null,
   "outputs": []
  },
  {
   "cell_type": "code",
   "metadata": {
    "id": "87f9d581",
    "outputId": "9c245a5a-af8f-47d6-bea6-90dd7e9ae8b2"
   },
   "source": [
    "fun3(3,5)"
   ],
   "id": "87f9d581",
   "execution_count": null,
   "outputs": [
    {
     "data": {
      "text/plain": [
       "(8, 15, -2)"
      ]
     },
     "execution_count": 51,
     "metadata": {},
     "output_type": "execute_result"
    }
   ]
  },
  {
   "cell_type": "code",
   "metadata": {
    "id": "3f8239fb"
   },
   "source": [],
   "id": "3f8239fb",
   "execution_count": null,
   "outputs": []
  },
  {
   "cell_type": "markdown",
   "metadata": {
    "id": "86d21185"
   },
   "source": [
    "### 섭씨를 화씨로 변환하는 함수(cel_to_fah) 만들기\n",
    "1. y  = ( (9/5) * x ) + 32"
   ],
   "id": "86d21185"
  },
  {
   "cell_type": "code",
   "metadata": {
    "id": "53a23fcc",
    "outputId": "f4169917-7ab1-4be3-b6dc-864d4f157f8f"
   },
   "source": [
    "x = 32.2\n",
    "y = ((9/5) * x)  + 32\n",
    "y"
   ],
   "id": "53a23fcc",
   "execution_count": null,
   "outputs": [
    {
     "data": {
      "text/plain": [
       "89.96000000000001"
      ]
     },
     "execution_count": 53,
     "metadata": {},
     "output_type": "execute_result"
    }
   ]
  },
  {
   "cell_type": "code",
   "metadata": {
    "id": "e9f48e8d"
   },
   "source": [
    "def cel_to_fah(x):\n",
    "    y = ((9/5) * x)  + 32\n",
    "    return y "
   ],
   "id": "e9f48e8d",
   "execution_count": null,
   "outputs": []
  },
  {
   "cell_type": "code",
   "metadata": {
    "id": "63eed9b1"
   },
   "source": [
    "def cel_to_fah1(x):    \n",
    "    return ((9/5) * x)  + 32"
   ],
   "id": "63eed9b1",
   "execution_count": null,
   "outputs": []
  },
  {
   "cell_type": "code",
   "metadata": {
    "id": "22ed843b",
    "outputId": "a27dfb34-23c3-4921-a5d8-dc75934bf693"
   },
   "source": [
    "fah = cel_to_fah(32.2)\n",
    "print(\"화씨 = \", fah)"
   ],
   "id": "22ed843b",
   "execution_count": null,
   "outputs": [
    {
     "name": "stdout",
     "output_type": "stream",
     "text": [
      "화씨 =  89.96000000000001\n"
     ]
    }
   ]
  },
  {
   "cell_type": "code",
   "metadata": {
    "id": "3306aa2d",
    "outputId": "d15a1733-fc94-4080-9756-0ac893b00c5b"
   },
   "source": [
    "cel_to_fah1(32.2)"
   ],
   "id": "3306aa2d",
   "execution_count": null,
   "outputs": [
    {
     "data": {
      "text/plain": [
       "89.96000000000001"
      ]
     },
     "execution_count": 61,
     "metadata": {},
     "output_type": "execute_result"
    }
   ]
  },
  {
   "cell_type": "code",
   "metadata": {
    "id": "558c190c"
   },
   "source": [],
   "id": "558c190c",
   "execution_count": null,
   "outputs": []
  },
  {
   "cell_type": "code",
   "metadata": {
    "id": "c5f599d6"
   },
   "source": [
    "# 4. 입력값을 여러개 받아서 처리하는 함수 "
   ],
   "id": "c5f599d6",
   "execution_count": null,
   "outputs": []
  },
  {
   "cell_type": "code",
   "metadata": {
    "id": "041dcdd8"
   },
   "source": [
    "def sum_many(*args):\n",
    "    print(\"args = \", args)\n",
    "    sum = 0\n",
    "    for i in args:\n",
    "        sum += i\n",
    "    return sum "
   ],
   "id": "041dcdd8",
   "execution_count": null,
   "outputs": []
  },
  {
   "cell_type": "code",
   "metadata": {
    "id": "7e64d341",
    "outputId": "23695c03-fef5-445e-cd1c-f1be9da84f46"
   },
   "source": [
    "sum_many(1,3,5,7)"
   ],
   "id": "7e64d341",
   "execution_count": null,
   "outputs": [
    {
     "name": "stdout",
     "output_type": "stream",
     "text": [
      "args =  (1, 3, 5, 7)\n"
     ]
    },
    {
     "data": {
      "text/plain": [
       "16"
      ]
     },
     "execution_count": 65,
     "metadata": {},
     "output_type": "execute_result"
    }
   ]
  },
  {
   "cell_type": "code",
   "metadata": {
    "id": "597fd6dc",
    "outputId": "8659dd45-4033-4d40-f2f2-7784d02d3dea"
   },
   "source": [
    "sum_many(1,3,5,7,9,11)"
   ],
   "id": "597fd6dc",
   "execution_count": null,
   "outputs": [
    {
     "name": "stdout",
     "output_type": "stream",
     "text": [
      "args =  (1, 3, 5, 7, 9, 11)\n"
     ]
    },
    {
     "data": {
      "text/plain": [
       "36"
      ]
     },
     "execution_count": 66,
     "metadata": {},
     "output_type": "execute_result"
    }
   ]
  },
  {
   "cell_type": "code",
   "metadata": {
    "id": "3320f013"
   },
   "source": [],
   "id": "3320f013",
   "execution_count": null,
   "outputs": []
  },
  {
   "cell_type": "code",
   "metadata": {
    "id": "40e398d2"
   },
   "source": [
    "def sum_many1(*aa):\n",
    "    print(\"args = \", aa)\n",
    "    sum = 0\n",
    "    for i in aa:\n",
    "        sum += i\n",
    "    return sum "
   ],
   "id": "40e398d2",
   "execution_count": null,
   "outputs": []
  },
  {
   "cell_type": "code",
   "metadata": {
    "id": "ae76c387",
    "outputId": "fdc40cf6-070b-447e-bf04-a05f18c11cf5"
   },
   "source": [
    "sum_many1(1,2,3)"
   ],
   "id": "ae76c387",
   "execution_count": null,
   "outputs": [
    {
     "name": "stdout",
     "output_type": "stream",
     "text": [
      "args =  (1, 2, 3)\n"
     ]
    },
    {
     "data": {
      "text/plain": [
       "6"
      ]
     },
     "execution_count": 70,
     "metadata": {},
     "output_type": "execute_result"
    }
   ]
  },
  {
   "cell_type": "code",
   "metadata": {
    "id": "afcb3dac"
   },
   "source": [],
   "id": "afcb3dac",
   "execution_count": null,
   "outputs": []
  },
  {
   "cell_type": "code",
   "metadata": {
    "id": "989b11c0"
   },
   "source": [
    "# 5. key:value 로 받는 방식 , kwargs\n",
    "def name(**kwargs):\n",
    "    print(\"kwargs = \", kwargs) \n",
    "    for item in kwargs.items():\n",
    "        print(\"{} = {}\".format(item[0], item[1]))"
   ],
   "id": "989b11c0",
   "execution_count": null,
   "outputs": []
  },
  {
   "cell_type": "code",
   "metadata": {
    "id": "1dcb57df",
    "outputId": "d5595785-a936-4853-ba3a-6d33d36a2b7d"
   },
   "source": [
    "name(aa=\"123\")"
   ],
   "id": "1dcb57df",
   "execution_count": null,
   "outputs": [
    {
     "name": "stdout",
     "output_type": "stream",
     "text": [
      "kwargs =  {'aa': '123'}\n",
      "aa = 123\n"
     ]
    }
   ]
  },
  {
   "cell_type": "code",
   "metadata": {
    "id": "4ed7f595",
    "outputId": "73912ed5-b19d-46fb-b0cd-bfd53941109a"
   },
   "source": [
    "name(aa=\"123\", bb=\"abc\")"
   ],
   "id": "4ed7f595",
   "execution_count": null,
   "outputs": [
    {
     "name": "stdout",
     "output_type": "stream",
     "text": [
      "kwargs =  {'aa': '123', 'bb': 'abc'}\n",
      "aa = 123\n",
      "bb = abc\n"
     ]
    }
   ]
  },
  {
   "cell_type": "code",
   "metadata": {
    "id": "2fecacc3"
   },
   "source": [],
   "id": "2fecacc3",
   "execution_count": null,
   "outputs": []
  },
  {
   "cell_type": "code",
   "metadata": {
    "id": "f3fc3d9d",
    "executionInfo": {
     "status": "error",
     "timestamp": 1629915220838,
     "user_tz": -540,
     "elapsed": 8,
     "user": {
      "displayName": "하이다비",
      "photoUrl": "",
      "userId": "07224346109532620542"
     }
    },
    "outputId": "b93403f5-d6f6-4e8d-cb9d-df29e9616bb4",
    "colab": {
     "base_uri": "https://localhost:8080/",
     "height": 130
    }
   },
   "source": [
    "def std_arg(arg):\n",
    "    print(\"std_arg = \", arg)\n",
    "def pos_only_arg(arg,/):\n",
    "    print(\"pos_only_arg = \", arg)\n",
    "def kwd_only_arg(*, arg):\n",
    "    print(\"kwd_only_arg = \", arg)\n",
    "def combined_example(pos_only, /, standard, *, kwd_only):\n",
    "    print(pos_only, standard, kwd_only) "
   ],
   "id": "f3fc3d9d",
   "execution_count": 1,
   "outputs": [
    {
     "output_type": "error",
     "ename": "SyntaxError",
     "evalue": "ignored",
     "traceback": [
      "\u001B[0;36m  File \u001B[0;32m\"<ipython-input-1-6f4fbd1845dc>\"\u001B[0;36m, line \u001B[0;32m3\u001B[0m\n\u001B[0;31m    def pos_only_arg(arg,/):\u001B[0m\n\u001B[0m                         ^\u001B[0m\n\u001B[0;31mSyntaxError\u001B[0m\u001B[0;31m:\u001B[0m invalid syntax\n"
     ]
    }
   ]
  },
  {
   "cell_type": "code",
   "metadata": {
    "id": "f07aacf8",
    "outputId": "3d68bcd0-4a06-4fcd-bade-6626ec87aeed"
   },
   "source": [
    "std_arg(2)"
   ],
   "id": "f07aacf8",
   "execution_count": null,
   "outputs": [
    {
     "name": "stdout",
     "output_type": "stream",
     "text": [
      "std_arg =  2\n"
     ]
    }
   ]
  },
  {
   "cell_type": "code",
   "metadata": {
    "id": "f049e2ae",
    "outputId": "f44217e5-779c-471e-ae5b-0d972da4d181"
   },
   "source": [
    "std_arg(arg=2)"
   ],
   "id": "f049e2ae",
   "execution_count": null,
   "outputs": [
    {
     "name": "stdout",
     "output_type": "stream",
     "text": [
      "std_arg =  2\n"
     ]
    }
   ]
  },
  {
   "cell_type": "code",
   "metadata": {
    "id": "8de1785a",
    "outputId": "30298e0c-5a83-4465-f00f-765252e396c9"
   },
   "source": [
    "std_arg(aa=2)"
   ],
   "id": "8de1785a",
   "execution_count": null,
   "outputs": [
    {
     "ename": "TypeError",
     "evalue": "std_arg() got an unexpected keyword argument 'aa'",
     "output_type": "error",
     "traceback": [
      "\u001B[1;31m---------------------------------------------------------------------------\u001B[0m",
      "\u001B[1;31mTypeError\u001B[0m                                 Traceback (most recent call last)",
      "\u001B[1;32m<ipython-input-84-1e5910868295>\u001B[0m in \u001B[0;36m<module>\u001B[1;34m\u001B[0m\n\u001B[1;32m----> 1\u001B[1;33m \u001B[0mstd_arg\u001B[0m\u001B[1;33m(\u001B[0m\u001B[0maa\u001B[0m\u001B[1;33m=\u001B[0m\u001B[1;36m2\u001B[0m\u001B[1;33m)\u001B[0m\u001B[1;33m\u001B[0m\u001B[1;33m\u001B[0m\u001B[0m\n\u001B[0m",
      "\u001B[1;31mTypeError\u001B[0m: std_arg() got an unexpected keyword argument 'aa'"
     ]
    }
   ]
  },
  {
   "cell_type": "code",
   "metadata": {
    "id": "0c7c5a0a",
    "outputId": "d23bdfe6-bfd7-42b0-c425-b3a4f7bbfb1c"
   },
   "source": [
    "pos_only_arg(1)"
   ],
   "id": "0c7c5a0a",
   "execution_count": null,
   "outputs": [
    {
     "name": "stdout",
     "output_type": "stream",
     "text": [
      "pos_only_arg =  1\n"
     ]
    }
   ]
  },
  {
   "cell_type": "code",
   "metadata": {
    "id": "d255ade3",
    "outputId": "68d2c24a-cec7-4441-c330-db28bbadcf55"
   },
   "source": [
    "pos_only_arg(arg=1)"
   ],
   "id": "d255ade3",
   "execution_count": null,
   "outputs": [
    {
     "ename": "TypeError",
     "evalue": "pos_only_arg() got some positional-only arguments passed as keyword arguments: 'arg'",
     "output_type": "error",
     "traceback": [
      "\u001B[1;31m---------------------------------------------------------------------------\u001B[0m",
      "\u001B[1;31mTypeError\u001B[0m                                 Traceback (most recent call last)",
      "\u001B[1;32m<ipython-input-86-434db44f4ff9>\u001B[0m in \u001B[0;36m<module>\u001B[1;34m\u001B[0m\n\u001B[1;32m----> 1\u001B[1;33m \u001B[0mpos_only_arg\u001B[0m\u001B[1;33m(\u001B[0m\u001B[0marg\u001B[0m\u001B[1;33m=\u001B[0m\u001B[1;36m1\u001B[0m\u001B[1;33m)\u001B[0m\u001B[1;33m\u001B[0m\u001B[1;33m\u001B[0m\u001B[0m\n\u001B[0m",
      "\u001B[1;31mTypeError\u001B[0m: pos_only_arg() got some positional-only arguments passed as keyword arguments: 'arg'"
     ]
    }
   ]
  },
  {
   "cell_type": "code",
   "metadata": {
    "id": "572a4541",
    "outputId": "8ba41fa9-efbb-49a4-bfc1-c69c74a48868"
   },
   "source": [
    "kwd_only_arg(arg=3)"
   ],
   "id": "572a4541",
   "execution_count": null,
   "outputs": [
    {
     "name": "stdout",
     "output_type": "stream",
     "text": [
      "kwd_only_arg =  3\n"
     ]
    }
   ]
  },
  {
   "cell_type": "code",
   "metadata": {
    "id": "66b94a66",
    "outputId": "437bdba1-c718-43c0-df71-d22628f646a0"
   },
   "source": [
    "kwd_only_arg(3)"
   ],
   "id": "66b94a66",
   "execution_count": null,
   "outputs": [
    {
     "ename": "TypeError",
     "evalue": "kwd_only_arg() takes 0 positional arguments but 1 was given",
     "output_type": "error",
     "traceback": [
      "\u001B[1;31m---------------------------------------------------------------------------\u001B[0m",
      "\u001B[1;31mTypeError\u001B[0m                                 Traceback (most recent call last)",
      "\u001B[1;32m<ipython-input-89-896c53ef896c>\u001B[0m in \u001B[0;36m<module>\u001B[1;34m\u001B[0m\n\u001B[1;32m----> 1\u001B[1;33m \u001B[0mkwd_only_arg\u001B[0m\u001B[1;33m(\u001B[0m\u001B[1;36m3\u001B[0m\u001B[1;33m)\u001B[0m\u001B[1;33m\u001B[0m\u001B[1;33m\u001B[0m\u001B[0m\n\u001B[0m",
      "\u001B[1;31mTypeError\u001B[0m: kwd_only_arg() takes 0 positional arguments but 1 was given"
     ]
    }
   ]
  },
  {
   "cell_type": "code",
   "metadata": {
    "id": "68b72cb5",
    "outputId": "48385f94-7ee5-43d0-c95b-3a3f845110ae"
   },
   "source": [
    "combined_example(1,2,kwd_only=3)"
   ],
   "id": "68b72cb5",
   "execution_count": null,
   "outputs": [
    {
     "name": "stdout",
     "output_type": "stream",
     "text": [
      "1 2 3\n"
     ]
    }
   ]
  },
  {
   "cell_type": "code",
   "metadata": {
    "id": "722c716b",
    "outputId": "0931f593-9efd-4ef3-ea43-5b1c8912206f"
   },
   "source": [
    "combined_example(1,2,3)"
   ],
   "id": "722c716b",
   "execution_count": null,
   "outputs": [
    {
     "ename": "TypeError",
     "evalue": "combined_example() takes 2 positional arguments but 3 were given",
     "output_type": "error",
     "traceback": [
      "\u001B[1;31m---------------------------------------------------------------------------\u001B[0m",
      "\u001B[1;31mTypeError\u001B[0m                                 Traceback (most recent call last)",
      "\u001B[1;32m<ipython-input-91-266135a592b0>\u001B[0m in \u001B[0;36m<module>\u001B[1;34m\u001B[0m\n\u001B[1;32m----> 1\u001B[1;33m \u001B[0mcombined_example\u001B[0m\u001B[1;33m(\u001B[0m\u001B[1;36m1\u001B[0m\u001B[1;33m,\u001B[0m\u001B[1;36m2\u001B[0m\u001B[1;33m,\u001B[0m\u001B[1;36m3\u001B[0m\u001B[1;33m)\u001B[0m\u001B[1;33m\u001B[0m\u001B[1;33m\u001B[0m\u001B[0m\n\u001B[0m",
      "\u001B[1;31mTypeError\u001B[0m: combined_example() takes 2 positional arguments but 3 were given"
     ]
    }
   ]
  },
  {
   "cell_type": "code",
   "metadata": {
    "id": "b0ebd346"
   },
   "source": [],
   "id": "b0ebd346",
   "execution_count": null,
   "outputs": []
  },
  {
   "cell_type": "code",
   "metadata": {
    "id": "15fa7249"
   },
   "source": [],
   "id": "15fa7249",
   "execution_count": null,
   "outputs": []
  },
  {
   "cell_type": "code",
   "metadata": {
    "id": "a19edf9e"
   },
   "source": [
    "def cv_fah(x):\n",
    "    y = ((9/5) * x)  + 32\n",
    "    return y "
   ],
   "id": "a19edf9e",
   "execution_count": null,
   "outputs": []
  },
  {
   "cell_type": "markdown",
   "metadata": {
    "id": "0e0eae41"
   },
   "source": [
    "1. 화면에서 입력받아 화씨 출력\n",
    "2. 출력 예. 섭씨 25.0도는 화씨 77.00 입니다. "
   ],
   "id": "0e0eae41"
  },
  {
   "cell_type": "code",
   "metadata": {
    "id": "b30634c7",
    "outputId": "91f119f6-245b-4921-cf85-b1a07278f229"
   },
   "source": [
    "x = float(input(\"섭씨 온도는? \"))\n",
    "y = cv_fah(x)\n",
    "print(\"섭씨 %s는 화씨 %.2f 입니다\"%(x,y))"
   ],
   "id": "b30634c7",
   "execution_count": null,
   "outputs": [
    {
     "name": "stdout",
     "output_type": "stream",
     "text": [
      "섭씨 온도는? 25\n",
      "섭씨 25.0는 화씨 77.00 입니다\n"
     ]
    }
   ]
  },
  {
   "cell_type": "code",
   "metadata": {
    "id": "d0f80085"
   },
   "source": [],
   "id": "d0f80085",
   "execution_count": null,
   "outputs": []
  },
  {
   "cell_type": "code",
   "metadata": {
    "id": "475e8c5e"
   },
   "source": [
    "x = [25, 20, 32, 34, 19]"
   ],
   "id": "475e8c5e",
   "execution_count": null,
   "outputs": []
  },
  {
   "cell_type": "code",
   "metadata": {
    "id": "6e57c952",
    "outputId": "d930a726-2915-4797-f49b-93e5752db173"
   },
   "source": [
    "# 1. 처리할 데이터 확인\n",
    "for i in x:\n",
    "    print(i)"
   ],
   "id": "6e57c952",
   "execution_count": null,
   "outputs": [
    {
     "name": "stdout",
     "output_type": "stream",
     "text": [
      "25\n",
      "20\n",
      "32\n",
      "34\n",
      "19\n"
     ]
    }
   ]
  },
  {
   "cell_type": "code",
   "metadata": {
    "id": "f68b2e04",
    "outputId": "a65ee4a0-5d26-4b7c-af34-421bcd8befb7"
   },
   "source": [
    "# 2. 함수 적용하기 \n",
    "for i in x:\n",
    "    y = cv_fah(i)\n",
    "    print(\"섭씨 %s는 화씨 %.2f 입니다\"%(i,y))"
   ],
   "id": "f68b2e04",
   "execution_count": null,
   "outputs": [
    {
     "name": "stdout",
     "output_type": "stream",
     "text": [
      "섭씨 25는 화씨 77.00 입니다\n",
      "섭씨 20는 화씨 68.00 입니다\n",
      "섭씨 32는 화씨 89.60 입니다\n",
      "섭씨 34는 화씨 93.20 입니다\n",
      "섭씨 19는 화씨 66.20 입니다\n"
     ]
    }
   ]
  },
  {
   "cell_type": "code",
   "metadata": {
    "id": "42704842"
   },
   "source": [],
   "id": "42704842",
   "execution_count": null,
   "outputs": []
  },
  {
   "cell_type": "markdown",
   "metadata": {
    "id": "49846b8f"
   },
   "source": [
    "## ( 실습.. 화씨 데이터 저장 )"
   ],
   "id": "49846b8f"
  },
  {
   "cell_type": "code",
   "metadata": {
    "id": "652c6e3c",
    "outputId": "f5d92c99-8d63-47a7-e826-2667e376a5b4"
   },
   "source": [
    "# 2. 함수 적용하기 \n",
    "y1 = []\n",
    "for i in x:\n",
    "    y = cv_fah(i)\n",
    "    y1.append(y)\n",
    "    print(\"섭씨 %s는 화씨 %.2f 입니다\"%(i,y))\n",
    "    print(\"y1 = \", y1)"
   ],
   "id": "652c6e3c",
   "execution_count": null,
   "outputs": [
    {
     "name": "stdout",
     "output_type": "stream",
     "text": [
      "섭씨 25는 화씨 77.00 입니다\n",
      "y1 =  [77.0]\n",
      "섭씨 20는 화씨 68.00 입니다\n",
      "y1 =  [77.0, 68.0]\n",
      "섭씨 32는 화씨 89.60 입니다\n",
      "y1 =  [77.0, 68.0, 89.6]\n",
      "섭씨 34는 화씨 93.20 입니다\n",
      "y1 =  [77.0, 68.0, 89.6, 93.2]\n",
      "섭씨 19는 화씨 66.20 입니다\n",
      "y1 =  [77.0, 68.0, 89.6, 93.2, 66.2]\n"
     ]
    }
   ]
  },
  {
   "cell_type": "code",
   "metadata": {
    "id": "0445e901"
   },
   "source": [],
   "id": "0445e901",
   "execution_count": null,
   "outputs": []
  },
  {
   "cell_type": "markdown",
   "metadata": {
    "id": "33f751dd"
   },
   "source": [
    "## ( 실습.. 섭씨 30도 이상인 화씨 데이터 저장 )"
   ],
   "id": "33f751dd"
  },
  {
   "cell_type": "code",
   "metadata": {
    "id": "4ab6acd6",
    "outputId": "22b32bf5-747a-4678-921e-48e38599d909"
   },
   "source": [
    "y2 = []\n",
    "for i in x:\n",
    "    if i > 30:\n",
    "        y = cv_fah(i)\n",
    "        y2.append(y)\n",
    "        print(\"섭씨 %s는 화씨 %.2f 입니다\"%(i,y))\n",
    "        print(\"y2 = \", y2)"
   ],
   "id": "4ab6acd6",
   "execution_count": null,
   "outputs": [
    {
     "name": "stdout",
     "output_type": "stream",
     "text": [
      "섭씨 32는 화씨 89.60 입니다\n",
      "y2 =  [89.6]\n",
      "섭씨 34는 화씨 93.20 입니다\n",
      "y2 =  [89.6, 93.2]\n"
     ]
    }
   ]
  },
  {
   "cell_type": "code",
   "metadata": {
    "id": "31a803b4"
   },
   "source": [],
   "id": "31a803b4",
   "execution_count": null,
   "outputs": []
  },
  {
   "cell_type": "markdown",
   "metadata": {
    "id": "44b6d891"
   },
   "source": [
    "### 리스트 컴프리핸션 방식 적용 "
   ],
   "id": "44b6d891"
  },
  {
   "cell_type": "code",
   "metadata": {
    "id": "92ef9b1e",
    "outputId": "b9febf45-4c45-47eb-de7b-ad098b5c4893"
   },
   "source": [
    "[ cv_fah(i) for i in x]"
   ],
   "id": "92ef9b1e",
   "execution_count": null,
   "outputs": [
    {
     "data": {
      "text/plain": [
       "[77.0, 68.0, 89.6, 93.2, 66.2]"
      ]
     },
     "execution_count": 102,
     "metadata": {},
     "output_type": "execute_result"
    }
   ]
  },
  {
   "cell_type": "code",
   "metadata": {
    "id": "549cdeda"
   },
   "source": [],
   "id": "549cdeda",
   "execution_count": null,
   "outputs": []
  }
 ]
}
